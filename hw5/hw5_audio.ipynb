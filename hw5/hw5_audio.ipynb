{
 "metadata": {
  "name": ""
 },
 "nbformat": 3,
 "nbformat_minor": 0,
 "worksheets": [
  {
   "cells": [
    {
     "cell_type": "code",
     "collapsed": false,
     "input": [
      "%pylab inline\n",
      "from scipy import *\n",
      "import aifc\n",
      "\n",
      "sound_file = \"/Users/sean/Desktop/sound_files/8.aif\"\n",
      "a = aifc.open(sound_file, 'rb')\n",
      "RATE = a.getframerate()\n",
      "data = a.readframes(a.getnframes())\n",
      "integer_data = fromstring(data, dtype=np.int32)\n",
      "time = arange(size(integer_data)) / float(RATE)\n",
      "plot_title = (\"Audio Analysis\")\n",
      "fig = plt.figure(figsize=(7, 4.5))\n",
      "ax1 = fig.add_subplot(1,1,1)\n",
      "ax1.plot(time, integer_data, color=\"red\")#, linestyle=\"-\")\n",
      "ax1.set_xlabel(\"Time [s]\")\n",
      "ax1.set_ylabel(\"Amplitude\")\n",
      "ax1.set_xlim(min(time), max(time))\n",
      "ax1.set_title(plot_title)\n",
      "show()"
     ],
     "language": "python",
     "metadata": {},
     "outputs": [],
     "prompt_number": 14
    }
   ],
   "metadata": {}
  }
 ]
}