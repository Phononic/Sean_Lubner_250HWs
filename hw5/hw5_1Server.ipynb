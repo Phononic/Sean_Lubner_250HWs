{
 "metadata": {
  "name": ""
 },
 "nbformat": 3,
 "nbformat_minor": 0,
 "worksheets": [
  {
   "cells": [
    {
     "cell_type": "code",
     "collapsed": false,
     "input": [
      "%matplotlib inline\n",
      "import SimpleXMLRPCServer\n",
      "import numpy as np\n",
      "import matplotlib.pyplot as plt\n",
      "import scipy.misc"
     ],
     "language": "python",
     "metadata": {},
     "outputs": [],
     "prompt_number": 1
    },
    {
     "cell_type": "code",
     "collapsed": false,
     "input": [
      "class ImageManipulation:\n",
      "    def imCrop(self,im,left=.2,right=.2,top=.2,bottom=.2):\n",
      "        \"\"\" It Crops the image by the percentage determined by the keywords:\n",
      "                by default left=.2,right=.2,top=.2,bottom=.2\"\"\"\n",
      "        im=np.array(im)\n",
      "        scipy.misc.imsave('OriginalServerSide.jpg', im)\n",
      "        imShape=im.shape\n",
      "        self.imC=im[imShape[0]*top:imShape[0]*(1-bottom),imShape[1]*left:imShape[1]*(1-right)]\n",
      "        scipy.misc.imsave('CroppedServerSide.jpg', self.imC)\n",
      "        self.imC=self.imC.tolist()\n",
      "        return self.imC\n",
      "    def imFlip(self,im,vertical=True, horizontal=False):\n",
      "        \"\"\" Flips the image. It takes two keywords. By default vertical=True, horizontal False\n",
      "                which means it flips the image around horizontal axis. \"\"\"\n",
      "        im=np.array(im)\n",
      "        scipy.misc.imsave('OriginalServerSide.jpg', im)\n",
      "        if vertical==True:\n",
      "            self.imF=im[::-1]\n",
      "        elif horizontal==True:\n",
      "            self.imF=im[:,::-1,:]\n",
      "        #npimF=np.array(self.imF)\n",
      "        scipy.misc.imsave('FlippedServerSide.jpg', self.imF)\n",
      "        self.imF=self.imF.tolist()\n",
      "        return self.imF\n",
      "    def imChInv(self,im):\n",
      "        \"\"\" Inverts the color channels in the image, it subtracts each element of each channel from 255.\"\"\"\n",
      "        im=np.array(im)\n",
      "        scipy.misc.imsave('OriginalServerSide.jpg', im)\n",
      "        self.imCI=255-im\n",
      "        scipy.misc.imsave('ChannelInversedServerSide.jpg', self.imCI)\n",
      "        self.imCI=self.imCI.tolist()\n",
      "        return self.imCI"
     ],
     "language": "python",
     "metadata": {},
     "outputs": [],
     "prompt_number": 2
    },
    {
     "cell_type": "code",
     "collapsed": false,
     "input": [
      "host, port = \"127.0.0.1\", 8001\n",
      "server = SimpleXMLRPCServer.SimpleXMLRPCServer((host, port), allow_none=True)\n",
      "server.register_instance(ImageManipulation())\n",
      "server.register_multicall_functions()\n",
      "server.register_introspection_functions()\n",
      "print \"XMLRPC Server is starting at:\", host, port\n",
      "server.serve_forever()"
     ],
     "language": "python",
     "metadata": {},
     "outputs": [
      {
       "output_type": "stream",
       "stream": "stderr",
       "text": [
        "127.0.0.1 - - [10/Oct/2013 00:37:09] \"POST /RPC2 HTTP/1.1\" 200 -\n",
        "127.0.0.1 - - [10/Oct/2013 00:37:53] \"POST /RPC2 HTTP/1.1\" 200 -\n"
       ]
      },
      {
       "output_type": "stream",
       "stream": "stderr",
       "text": [
        "127.0.0.1 - - [10/Oct/2013 00:40:08] \"POST /RPC2 HTTP/1.1\" 200 -\n",
        "127.0.0.1 - - [10/Oct/2013 00:43:26] \"POST /RPC2 HTTP/1.1\" 200 -\n"
       ]
      },
      {
       "output_type": "stream",
       "stream": "stderr",
       "text": [
        "127.0.0.1 - - [10/Oct/2013 00:43:27] \"POST /RPC2 HTTP/1.1\" 200 -\n",
        "127.0.0.1 - - [10/Oct/2013 00:43:29] \"POST /RPC2 HTTP/1.1\" 200 -\n"
       ]
      },
      {
       "output_type": "stream",
       "stream": "stderr",
       "text": [
        "127.0.0.1 - - [10/Oct/2013 00:45:19] \"POST /RPC2 HTTP/1.1\" 200 -\n",
        "127.0.0.1 - - [10/Oct/2013 00:45:22] \"POST /RPC2 HTTP/1.1\" 200 -\n"
       ]
      }
     ],
     "prompt_number": "*"
    },
    {
     "cell_type": "code",
     "collapsed": false,
     "input": [],
     "language": "python",
     "metadata": {},
     "outputs": []
    },
    {
     "cell_type": "code",
     "collapsed": false,
     "input": [],
     "language": "python",
     "metadata": {},
     "outputs": []
    }
   ],
   "metadata": {}
  }
 ]
}