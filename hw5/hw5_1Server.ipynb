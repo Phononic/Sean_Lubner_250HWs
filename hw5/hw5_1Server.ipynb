{
 "metadata": {
  "name": ""
 },
 "nbformat": 3,
 "nbformat_minor": 0,
 "worksheets": [
  {
   "cells": [
    {
     "cell_type": "code",
     "collapsed": false,
     "input": [
      "%matplotlib inline\n",
      "import SimpleXMLRPCServer\n",
      "import numpy as np\n",
      "import matplotlib.pyplot as plt\n",
      "import scipy.misc\n",
      "\n",
      "################################# Image Manipulation Functions #################################\n",
      "class ImageMethods:\n",
      "    \"\"\" object containing all methods for image manipulation, callable by client \"\"\"\n",
      "    def color_complement(self, image):\n",
      "        \"\"\" Inverts the color channels in the image, it subtracts each element of each channel from 255.\n",
      "            Call with the following parameters: color_complement(image)\"\"\"\n",
      "        image = np.array(image)\n",
      "        scipy.misc.imsave('server_original_comp.jpg', image)\n",
      "        self.complement = 255-image\n",
      "        scipy.misc.imsave('server_processed_comp.jpg', self.complement)\n",
      "        return self.complement.tolist()\n",
      "    \n",
      "    def crop_image(self, image, left=.25, right=.25, top=.1, bottom=.1):\n",
      "        \"\"\" Crop the image by the specified percentage on each side; Call with the following parameters:\n",
      "            crop_image(image, left=.25, right=.25, top=.1, bottom=.1)\"\"\"\n",
      "        image = np.array(image)\n",
      "        scipy.misc.imsave('server_original_crop.jpg', image)\n",
      "        image_shape = image.shape\n",
      "        self.cropped = image[image_shape[0]*top:image_shape[0]*(1-bottom),image_shape[1]*left:image_shape[1]*(1-right)]\n",
      "        scipy.misc.imsave('server_processed_crop.jpg', self.cropped)\n",
      "        return self.cropped.tolist()\n",
      "    \n",
      "    def flip_image(self, image, vertical=True, horizontal=False):\n",
      "        \"\"\" Flip the image vertically and/or horizontally.  Call with the following parameters:\n",
      "            flip_image(image, vertical=True, horiontal=False\"\"\"\n",
      "        self.flipped = np.array(image)\n",
      "        scipy.misc.imsave('server_original_flip.jpg', image)\n",
      "        if vertical == True:\n",
      "            self.flipped = self.flipped[::-1]\n",
      "        if horizontal == True:\n",
      "            self.flipped = self.flipped[:,::-1,:]\n",
      "        scipy.misc.imsave('server_processed_flip.jpg', self.flipped)\n",
      "        return self.flipped.tolist()\n",
      "    \n",
      "################################# Setting up Server #################################    \n",
      "host, port = \"127.0.0.1\", 8001\n",
      "server = SimpleXMLRPCServer.SimpleXMLRPCServer((host, port), allow_none=True)\n",
      "server.register_instance(ImageMethods())\n",
      "server.register_multicall_functions()\n",
      "server.register_introspection_functions()\n",
      "server.serve_forever()"
     ],
     "language": "python",
     "metadata": {},
     "outputs": [
      {
       "output_type": "stream",
       "stream": "stderr",
       "text": [
        "127.0.0.1 - - [10/Oct/2013 04:41:57] \"POST /RPC2 HTTP/1.1\" 200 -\n",
        "127.0.0.1 - - [10/Oct/2013 04:41:57] \"POST /RPC2 HTTP/1.1\" 200 -\n",
        "127.0.0.1 - - [10/Oct/2013 04:42:07] \"POST /RPC2 HTTP/1.1\" 200 -\n"
       ]
      },
      {
       "output_type": "stream",
       "stream": "stderr",
       "text": [
        "127.0.0.1 - - [10/Oct/2013 04:42:11] \"POST /RPC2 HTTP/1.1\" 200 -\n",
        "127.0.0.1 - - [10/Oct/2013 04:42:14] \"POST /RPC2 HTTP/1.1\" 200 -\n"
       ]
      }
     ],
     "prompt_number": "*"
    },
    {
     "cell_type": "code",
     "collapsed": false,
     "input": [],
     "language": "python",
     "metadata": {},
     "outputs": []
    }
   ],
   "metadata": {}
  }
 ]
}