{
 "metadata": {
  "name": ""
 },
 "nbformat": 3,
 "nbformat_minor": 0,
 "worksheets": [
  {
   "cells": [
    {
     "cell_type": "code",
     "collapsed": false,
     "input": [
      "%matplotlib\n",
      "import xmlrpclib, sys\n",
      "import matplotlib.pyplot as plt\n",
      "import numpy as np\n",
      "import scipy.misc\n",
      "\n",
      "host, port = \"127.0.0.1\", 8001\n",
      "server = xmlrpclib.ServerProxy(\"http://%s:%d\" % (host, port))\n",
      "available_methods = server.system.listMethods()\n",
      "print \"Available methods from server:\"\n",
      "for method in available_methods:\n",
      "    print \"\\t\" + method\n",
      "    \n",
      "fName=\"./waterfall.jpg\"\n",
      "im=plt.imread(fName)\n",
      "\n",
      "\n",
      "a=im.tolist()\n",
      "\n",
      "\n",
      "result = server.imFlip(a)\n",
      "\n",
      "\n",
      "%matplotlib\n",
      "result=np.array(result)\n",
      "plt.imshow(result)"
     ],
     "language": "python",
     "metadata": {},
     "outputs": [
      {
       "output_type": "stream",
       "stream": "stdout",
       "text": [
        "Using matplotlib backend: MacOSX\n",
        "Available methods from server:\n",
        "\timChInv\n",
        "\timCrop\n",
        "\timFlip\n",
        "\tsystem.listMethods\n",
        "\tsystem.methodHelp\n",
        "\tsystem.methodSignature\n",
        "\tsystem.multicall\n"
       ]
      }
     ],
     "prompt_number": 20
    },
    {
     "cell_type": "code",
     "collapsed": false,
     "input": [
      "server.system.methodHelp(\"imCrop\")"
     ],
     "language": "python",
     "metadata": {},
     "outputs": [
      {
       "metadata": {},
       "output_type": "pyout",
       "prompt_number": 19,
       "text": [
        "'It Crops the image by the percentage determined by the keywords:\\nby default left=.2,right=.2,top=.2,bottom=.2'"
       ]
      }
     ],
     "prompt_number": 19
    },
    {
     "cell_type": "code",
     "collapsed": false,
     "input": [],
     "language": "python",
     "metadata": {},
     "outputs": []
    }
   ],
   "metadata": {}
  }
 ]
}