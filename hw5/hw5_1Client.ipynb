{
 "metadata": {
  "name": ""
 },
 "nbformat": 3,
 "nbformat_minor": 0,
 "worksheets": [
  {
   "cells": [
    {
     "cell_type": "code",
     "collapsed": false,
     "input": [
      "import xmlrpclib, sys\n",
      "import matplotlib.pyplot as plt\n",
      "import numpy as np\n",
      "import scipy.misc\n",
      "\n",
      "################################# Connect to Server #################################\n",
      "host, port = \"127.0.0.1\", 8001\n",
      "server = xmlrpclib.ServerProxy(\"http://{0:s}:{1:.0f}\".format(host, port) )\n",
      "\n",
      "################################# Use Server's Functions #################################\n",
      "image_name = \"./waterfall.jpg\"\n",
      "image = plt.imread(image_name)\n",
      "scipy.misc.imsave('client_original.jpg', np.array(image))\n",
      "to_send = image.tolist() # lossless conversion to list\n",
      "\n",
      "flipped = server.flip_image(to_send) # use server to flip the image\n",
      "scipy.misc.imsave('client_flipped.jpg', np.array(flipped))\n",
      "\n",
      "cropped = server.crop_image(to_send) # use server to crop the image\n",
      "scipy.misc.imsave('client_cropped.jpg', np.array(cropped))\n",
      "\n",
      "inverted = server.color_complement(to_send) # use server to invert the image's colors\n",
      "scipy.misc.imsave('client_inverted.jpg', np.array(inverted))"
     ],
     "language": "python",
     "metadata": {},
     "outputs": [],
     "prompt_number": "*"
    },
    {
     "cell_type": "code",
     "collapsed": false,
     "input": [
      "################################# Test Help Functions #################################\n",
      "print \"The provided server functions are:\"\n",
      "for method in server.system.listMethods():\n",
      "    print method\n",
      "\n",
      "print \"\\nAnd the help documentation specifically for 'crop_image' is:\"\n",
      "print server.system.methodHelp(\"crop_image\")\n"
     ],
     "language": "python",
     "metadata": {},
     "outputs": [
      {
       "output_type": "stream",
       "stream": "stdout",
       "text": [
        "The provided server functions are:\n",
        "color_complement\n",
        "crop_image\n",
        "flip_image\n",
        "system.listMethods\n",
        "system.methodHelp\n",
        "system.methodSignature\n",
        "system.multicall\n",
        "\n",
        "And the help documentation specifically for 'crop_image' is:\n",
        "Crop the image by the specified percentage on each side; Call with the following parameters:\n",
        "crop_image(image, left=.25, right=.25, top=.1, bottom=.1)\n"
       ]
      }
     ],
     "prompt_number": 2
    },
    {
     "cell_type": "code",
     "collapsed": false,
     "input": [
      "%matplotlib\n",
      "result=np.array(result)\n",
      "plt.imshow(result)"
     ],
     "language": "python",
     "metadata": {},
     "outputs": []
    },
    {
     "cell_type": "code",
     "collapsed": false,
     "input": [
      "scipy.misc.imsave('test.jpg', np.array(flipped))"
     ],
     "language": "python",
     "metadata": {},
     "outputs": [],
     "prompt_number": 6
    }
   ],
   "metadata": {}
  }
 ]
}