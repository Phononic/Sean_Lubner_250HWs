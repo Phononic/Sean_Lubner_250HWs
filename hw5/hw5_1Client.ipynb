{
 "metadata": {
  "name": ""
 },
 "nbformat": 3,
 "nbformat_minor": 0,
 "worksheets": [
  {
   "cells": [
    {
     "cell_type": "code",
     "collapsed": false,
     "input": [
      "%matplotlib\n",
      "import xmlrpclib, sys\n",
      "import matplotlib.pyplot as plt\n",
      "import numpy as np\n",
      "import scipy.misc\n",
      "\n",
      "################################# Connect to Server #################################\n",
      "host, port = \"127.0.0.1\", 8001\n",
      "server = xmlrpclib.ServerProxy(\"http://{0:s}:{1:.0f}\".format(host, port) )\n",
      "available_methods = server.system.listMethods()\n",
      "print \"Available methods from server:\"\n",
      "for method in available_methods:\n",
      "    print \"\\t\" + method\n",
      "    \n",
      "fName=\"./waterfall.jpg\"\n",
      "im=plt.imread(fName)\n",
      "\n",
      "\n",
      "a=im.tolist()\n",
      "\n",
      "\n",
      "result = server.imFlip(a)\n",
      "\n",
      "\n",
      "%matplotlib\n",
      "result=np.array(result)\n",
      "plt.imshow(result)"
     ],
     "language": "python",
     "metadata": {},
     "outputs": [
      {
       "output_type": "stream",
       "stream": "stdout",
       "text": [
        "Using matplotlib backend: MacOSX\n",
        "Available methods from server:\n",
        "\timChInv\n",
        "\timCrop\n",
        "\timFlip\n",
        "\tsystem.listMethods\n",
        "\tsystem.methodHelp\n",
        "\tsystem.methodSignature\n",
        "\tsystem.multicall\n"
       ]
      }
     ],
     "prompt_number": 20
    },
    {
     "cell_type": "code",
     "collapsed": false,
     "input": [
      "################################# Test Help Functions #################################\n",
      "print \"The provided server functions are:\"\n",
      "for method in server.system.listMethods():\n",
      "    print method\n",
      "\n",
      "print \"\\nAnd the help documentation specifically for 'crop_image' is:\"\n",
      "print server.system.methodHelp(\"crop_image\")\n"
     ],
     "language": "python",
     "metadata": {},
     "outputs": [
      {
       "output_type": "stream",
       "stream": "stdout",
       "text": [
        "The provided server functions are:\n",
        "color_complement\n",
        "crop_image\n",
        "flip_image\n",
        "system.listMethods\n",
        "system.methodHelp\n",
        "system.methodSignature\n",
        "system.multicall\n",
        "\n",
        "And the help documentation specifically for 'crop_image' is:\n",
        "Crop the image by the specified percentage on each side; Call with the following parameters:\n",
        "crop_image(image, left=.25, right=.25, top=.1, bottom=.1)\n"
       ]
      }
     ],
     "prompt_number": 29
    }
   ],
   "metadata": {}
  }
 ]
}