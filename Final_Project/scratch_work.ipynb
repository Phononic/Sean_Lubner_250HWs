{
 "metadata": {
  "name": ""
 },
 "nbformat": 3,
 "nbformat_minor": 0,
 "worksheets": [
  {
   "cells": [
    {
     "cell_type": "code",
     "collapsed": false,
     "input": [
      "import numpy as np\n",
      "freqs = np.array([35,32,76,4,33,66,87])\n",
      "vals = np.array([65,45,23,65,78,43,23])\n",
      "picks = [35, 87]\n",
      "unpicks = [4, 32]\n",
      "min_freq_index = list(freqs).index(picks[0])\n",
      "max_freq_index = list(freqs).index(picks[1])+1\n",
      "#np.where(a==b[1])\n",
      "fit_indices = [i+min_freq_index for i, num in enumerate(freqs[min_freq_index:max_freq_index]) if num not in unpicks]\n",
      "#for i, num in enumerate(a):\n",
      "#    if num in b:\n",
      "#        locations.append(i)\n",
      "print fit_indices\n",
      "print \"x\", freqs[fit_indices]\n",
      "print \"y\", vals[fit_indices]"
     ],
     "language": "python",
     "metadata": {},
     "outputs": [
      {
       "output_type": "stream",
       "stream": "stdout",
       "text": [
        "[0, 2, 4, 5, 6]\n",
        "x [35 76 33 66 87]\n",
        "y [65 23 78 43 23]\n"
       ]
      }
     ],
     "prompt_number": 39
    },
    {
     "cell_type": "code",
     "collapsed": false,
     "input": [
      "freqs[min_freq_index:max_freq_index]"
     ],
     "language": "python",
     "metadata": {},
     "outputs": [
      {
       "metadata": {},
       "output_type": "pyout",
       "prompt_number": 32,
       "text": [
        "array([32, 76,  4, 33, 66])"
       ]
      }
     ],
     "prompt_number": 32
    },
    {
     "cell_type": "code",
     "collapsed": false,
     "input": [
      "from pylab import *\n",
      "from matplotlib.widgets import Slider, Button, RadioButtons, SpanSelector\n",
      "\n",
      "ax = subplot(111)\n",
      "subplots_adjust(left=0.25, bottom=0.25)\n",
      "t = arange(0.0, 1.0, 0.001)\n",
      "a0 = 5\n",
      "f0 = 3\n",
      "s = a0*sin(2*pi*f0*t)\n",
      "l, = plot(t,s, lw=2, color='red')\n",
      "axis([0, 1, -10, 10])\n",
      "\n",
      "axcolor = 'lightgoldenrodyellow'\n",
      "axfreq = axes([0.25, 0.1, 0.65, 0.03], axisbg=axcolor)\n",
      "axamp  = axes([0.25, 0.15, 0.65, 0.03], axisbg=axcolor)\n",
      "\n",
      "sfreq = Slider(axfreq, 'Freq', 0.1, 30.0, valinit=f0)\n",
      "samp = Slider(axamp, 'Amp', 0.1, 10.0, valinit=a0)\n",
      "\n",
      "def update(val):\n",
      "    amp = samp.val\n",
      "    freq = sfreq.val\n",
      "    l.set_ydata(amp*sin(2*pi*freq*t))\n",
      "    draw()\n",
      "sfreq.on_changed(update)\n",
      "samp.on_changed(update)\n",
      "\n",
      "resetax = axes([0.8, 0.025, 0.1, 0.04])\n",
      "button = Button(resetax, 'Reset', color=axcolor, hovercolor='0.975')\n",
      "def reset(event):\n",
      "    sfreq.reset()\n",
      "    samp.reset()\n",
      "button.on_clicked(reset)\n",
      "\n",
      "def onselect(vmin, vmax):\n",
      "        print vmin, vmax\n",
      "span = SpanSelector(ax, onselect, 'horizontal')\n",
      "\n",
      "rax = axes([0.025, 0.5, 0.15, 0.15], axisbg=axcolor)\n",
      "radio = RadioButtons(rax, ('red', 'blue', 'green'), active=0)\n",
      "def colorfunc(label):\n",
      "    l.set_color(label)\n",
      "    draw()\n",
      "radio.on_clicked(colorfunc)\n",
      "\n",
      "show()\n"
     ],
     "language": "python",
     "metadata": {},
     "outputs": [
      {
       "output_type": "stream",
       "stream": "stdout",
       "text": [
        "0.175480769231 0.622596153846\n",
        "0.175480769231"
       ]
      },
      {
       "output_type": "stream",
       "stream": "stdout",
       "text": [
        " 0.516826923077\n",
        "0.516826923077"
       ]
      },
      {
       "output_type": "stream",
       "stream": "stdout",
       "text": [
        " 0.658653846154\n",
        "0.502403846154"
       ]
      },
      {
       "output_type": "stream",
       "stream": "stdout",
       "text": [
        " 0.658653846154\n",
        "0.271634615385"
       ]
      },
      {
       "output_type": "stream",
       "stream": "stdout",
       "text": [
        " 0.502403846154\n",
        "0.158653846154"
       ]
      },
      {
       "output_type": "stream",
       "stream": "stdout",
       "text": [
        " 0.908653846154\n",
        "0.40625"
       ]
      },
      {
       "output_type": "stream",
       "stream": "stdout",
       "text": [
        " 0.793269230769\n",
        "0.300480769231"
       ]
      },
      {
       "output_type": "stream",
       "stream": "stdout",
       "text": [
        " 0.353365384615\n",
        "0.180288461538"
       ]
      },
      {
       "output_type": "stream",
       "stream": "stdout",
       "text": [
        " 0.492788461538\n"
       ]
      }
     ],
     "prompt_number": 5
    },
    {
     "cell_type": "code",
     "collapsed": false,
     "input": [
      "%pylab inline\n",
      "fig = plt.figure()\n",
      "plt.figtext?"
     ],
     "language": "python",
     "metadata": {},
     "outputs": [
      {
       "output_type": "stream",
       "stream": "stdout",
       "text": [
        "Populating the interactive namespace from numpy and matplotlib\n"
       ]
      },
      {
       "metadata": {},
       "output_type": "display_data",
       "text": [
        "<matplotlib.figure.Figure at 0x102208710>"
       ]
      }
     ],
     "prompt_number": 7
    },
    {
     "cell_type": "code",
     "collapsed": false,
     "input": [
      "from Tkinter import *\n",
      "from tkFileDialog import askopenfilename\n",
      "browser = Tk()\n",
      "browser.withdraw() # we don't want a full GUI, so keep the root window from appearing\n",
      "fileName = askopenfilename() # show an \"Open\" dialog box and return the path to the selected file\n",
      "#browser.destroy() # get rid of the widget window\n",
      "\n",
      "print \"you opened\", fileName\n",
      "        "
     ],
     "language": "python",
     "metadata": {},
     "outputs": [
      {
       "output_type": "stream",
       "stream": "stdout",
       "text": [
        "you opened /Users/sean/Dropbox/3 omega/Data/Liver/3mm_Liver/S_260.0K_3mmLiver_S3_091913_01\n"
       ]
      }
     ],
     "prompt_number": 7
    },
    {
     "cell_type": "code",
     "collapsed": false,
     "input": [
      "import tkFileDialog"
     ],
     "language": "python",
     "metadata": {},
     "outputs": [],
     "prompt_number": 20
    },
    {
     "cell_type": "code",
     "collapsed": false,
     "input": [
      "name = tkFileDialog.askdirectory()\n",
      "tkFileDialog\n",
      "print \"you returned the path:\", name"
     ],
     "language": "python",
     "metadata": {},
     "outputs": [
      {
       "output_type": "stream",
       "stream": "stdout",
       "text": [
        "you returned the path: /Users/sean/Dropbox/Python/3 Omega/sample_ice_data\n"
       ]
      }
     ],
     "prompt_number": 26
    },
    {
     "cell_type": "code",
     "collapsed": false,
     "input": [
      "class toy(object):\n",
      "    def __init__(self):\n",
      "        self.a,b = 5, 6\n",
      "        self.c,self.d = (7, 8)"
     ],
     "language": "python",
     "metadata": {},
     "outputs": [],
     "prompt_number": 35
    },
    {
     "cell_type": "code",
     "collapsed": false,
     "input": [
      "rootn, filen = os.path.split('a/b/c')\n",
      "print rootn\n",
      "print filen"
     ],
     "language": "python",
     "metadata": {},
     "outputs": [
      {
       "output_type": "stream",
       "stream": "stdout",
       "text": [
        "a/b\n",
        "c\n"
       ]
      }
     ],
     "prompt_number": 7
    },
    {
     "cell_type": "code",
     "collapsed": false,
     "input": [
      "a = 'hi there \\nbye there\\n'\n",
      "b = 'ok then\\n'\n",
      "c = 'another sentence\\n'\n",
      "print ''.join([a,b,c])"
     ],
     "language": "python",
     "metadata": {},
     "outputs": [
      {
       "output_type": "stream",
       "stream": "stdout",
       "text": [
        "hi there \n",
        "bye there\n",
        "ok then\n",
        "another sentence\n",
        "\n"
       ]
      }
     ],
     "prompt_number": 12
    }
   ],
   "metadata": {}
  }
 ]
}