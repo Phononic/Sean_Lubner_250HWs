{
 "metadata": {
  "name": ""
 },
 "nbformat": 3,
 "nbformat_minor": 0,
 "worksheets": [
  {
   "cells": [
    {
     "cell_type": "code",
     "collapsed": false,
     "input": [
      "import numpy as np\n",
      "import pickle\n",
      "from skimage.feature import peak_local_max as plm\n",
      "from skimage.filter import vsobel, hsobel\n",
      "from os import listdir\n",
      "from pylab import imread\n",
      "from time import time\n",
      "\n",
      "MYDIRECTORY = '/Users/sean/Desktop/50_categories' #Change this line if you wish to re-extract features\n",
      "\n",
      "def extract_features(image_path_list):\n",
      "    feature_list = []\n",
      "    target_list = []\n",
      "    k = 100 # number of evenly spaced percentage announcements (should be <= 100)\n",
      "    print(\"\\tFeature extraction completion:\")\n",
      "    announcements = [(i+1)*len(image_path_list)/k for i in range(k)]\n",
      "    for i, image_path in enumerate(image_path_list):\n",
      "        image_array = imread(image_path)\n",
      "        category = image_path.split('/')[-2]\n",
      "        target_list.append(category) # target = name of category\n",
      "        feature_list.append([feature_1(image_array), # image size\n",
      "                             feature_2(image_array), # mean red-channel\n",
      "                             feature_3(image_array), # mean green-channel\n",
      "                             feature_4(image_array), # mean blue-channel\n",
      "                             feature_5(image_array), # mean luminosity\n",
      "                             feature_6(image_array), # median luminosity\n",
      "                             feature_7(image_array), # standard deviation luminosity\n",
      "                             feature_8(image_array), # median red-channel\n",
      "                             feature_9(image_array), # median green-channel\n",
      "                             feature_10(image_array), # median blue-channel\n",
      "                             feature_11(image_array), # standard deviation red-channel\n",
      "                             feature_12(image_array), # standard deviation green-channel\n",
      "                             feature_13(image_array), # standard deviation blue-channel\n",
      "                             feature_14(image_array), # mean luminosity of vertical edge map\n",
      "                             feature_15(image_array), # median luminosity of vertical edge map\n",
      "                             feature_16(image_array), # standard deviation luminosity of vertical edge map\n",
      "                             feature_17(image_array), # mean luminosity of horizontal edge map\n",
      "                             feature_18(image_array), # median luminosity of horizontal edge map\n",
      "                             feature_19(image_array), # standard deviation luminosity of horizontal edge map\n",
      "                             feature_20(image_array), # pixels above threshold lum for horizontal edge map\n",
      "                             feature_21(image_array), # pixels above threshold lum for vertical edge map\n",
      "                             feature_22(image_array), # aspect ratio of image\n",
      "                             feature_23(image_array) # number of image peaks\n",
      "                             ])\n",
      "        \n",
      "        # Give the user progress updates regarding how far along feature extraction is (only works if not parallel)\n",
      "        if (i+1) in announcements:\n",
      "            print(\"{0:.0f}%...\".format(100.0*i/len(image_path_list))),\n",
      "    print('')\n",
      "    return ( np.array(feature_list), np.array(target_list) ) # easier indexing\n",
      "\n",
      "#----------------------- Features list -----------------------\n",
      "def feature_1(image_array):\n",
      "    \"\"\" Return the size of the image, in pixels \"\"\"\n",
      "    return image_array.size\n",
      "\n",
      "def feature_2(image_array):\n",
      "    \"\"\" Return the average red-channel value for the picture (in 0-255 scale) \"\"\"\n",
      "    if len(image_array.shape) == 3:\n",
      "        return image_array[:,:,0].mean()\n",
      "    else:\n",
      "        return image_array.mean()\n",
      "\n",
      "def feature_3(image_array):\n",
      "    \"\"\" Return the average blue-channel value for the picture (in 0-255 scale) \"\"\"\n",
      "    if len(image_array.shape) == 3:\n",
      "        return image_array[:,:,1].mean()\n",
      "    else:\n",
      "        return image_array.mean()\n",
      "\n",
      "def feature_4(image_array):\n",
      "    \"\"\" Return the average green-channel value for the picture (in 0-255 scale) \"\"\"\n",
      "    if len(image_array.shape) == 3:\n",
      "        return image_array[:,:,2].mean()\n",
      "    else:\n",
      "        return image_array.mean()\n",
      "\n",
      "def feature_5(image_array):\n",
      "    \"\"\" Return the average luminosity value for the picture (in 0-255 scale) \"\"\"\n",
      "    if len(image_array.shape) == 3:\n",
      "        return image_array.mean(axis=2).mean()\n",
      "    else:\n",
      "        return image_array.mean()\n",
      "\n",
      "def feature_6(image_array):\n",
      "    \"\"\" Returns the median pixels luminosity \"\"\"\n",
      "    if len(image_array.shape) == 3:\n",
      "        image_array = image_array.mean(axis=2)\n",
      "    return np.median(image_array)\n",
      "\n",
      "def feature_7(image_array):\n",
      "    \"\"\" Returns the standard deviation of the pixels' luminosity \"\"\"\n",
      "    if len(image_array.shape) == 3:\n",
      "        image_array = image_array.mean(axis=2)\n",
      "    return np.std(image_array)\n",
      "\n",
      "def feature_8(image_array):\n",
      "    \"\"\" Return the median red-channel value for the picture (in 0-255 scale) \"\"\"\n",
      "    if len(image_array.shape) == 3:\n",
      "        return np.median(image_array[:,:,0])\n",
      "    else:\n",
      "        return np.median(image_array)\n",
      "\n",
      "def feature_9(image_array):\n",
      "    \"\"\" Return the median blue-channel value for the picture (in 0-255 scale) \"\"\"\n",
      "    if len(image_array.shape) == 3:\n",
      "        return np.median(image_array[:,:,1])\n",
      "    else:\n",
      "        return np.median(image_array)\n",
      "\n",
      "def feature_10(image_array):\n",
      "    \"\"\" Return the median green-channel value for the picture (in 0-255 scale) \"\"\"\n",
      "    if len(image_array.shape) == 3:\n",
      "        return np.median(image_array[:,:,2])\n",
      "    else:\n",
      "        return np.median(image_array)\n",
      "\n",
      "def feature_11(image_array):\n",
      "    \"\"\" Return the standard deviation of the red-channel value for the picture (in 0-255 scale) \"\"\"\n",
      "    if len(image_array.shape) == 3:\n",
      "        return np.std(image_array[:,:,0])\n",
      "    else:\n",
      "        return np.std(image_array)\n",
      "\n",
      "def feature_12(image_array):\n",
      "    \"\"\" Return the the standard deviation of the blue-channel value for the picture (in 0-255 scale) \"\"\"\n",
      "    if len(image_array.shape) == 3:\n",
      "        return np.std(image_array[:,:,1])\n",
      "    else:\n",
      "        return np.std(image_array)\n",
      "\n",
      "def feature_13(image_array):\n",
      "    \"\"\" Return the the standard deviation of the green-channel value for the picture (in 0-255 scale) \"\"\"\n",
      "    if len(image_array.shape) == 3:\n",
      "        return np.std(image_array[:,:,2])\n",
      "    else:\n",
      "        return np.std(image_array)\n",
      "\n",
      "def feature_14(image_array):\n",
      "    \"\"\" Return the average luminosity for vertical edges map \"\"\"\n",
      "    if len(image_array.shape) == 3:\n",
      "        image_array = image_array.mean(axis=2)\n",
      "    return np.mean(vsobel(image_array))\n",
      "\n",
      "def feature_15(image_array):\n",
      "    \"\"\" Returns the median luminosity for vertical edges map \"\"\"\n",
      "    if len(image_array.shape) == 3:\n",
      "        image_array = image_array.mean(axis=2)\n",
      "    return np.median(vsobel(image_array))\n",
      "\n",
      "def feature_16(image_array):\n",
      "    \"\"\" Returns the standard deviation of the luminosity for vertical edges map \"\"\"\n",
      "    if len(image_array.shape) == 3:\n",
      "        image_array = image_array.mean(axis=2)\n",
      "    return np.std(vsobel(image_array))\n",
      "\n",
      "def feature_17(image_array):\n",
      "    \"\"\" Return the average luminosity for horizontal edges map \"\"\"\n",
      "    if len(image_array.shape) == 3:\n",
      "        image_array = image_array.mean(axis=2)\n",
      "    return np.mean(hsobel(image_array))\n",
      "\n",
      "def feature_18(image_array):\n",
      "    \"\"\" Returns the median luminosity for horizontal edges map \"\"\"\n",
      "    if len(image_array.shape) == 3:\n",
      "        image_array = image_array.mean(axis=2)\n",
      "    return np.median(hsobel(image_array))\n",
      "\n",
      "def feature_19(image_array):\n",
      "    \"\"\" Returns the standard deviation of the luminosity for horizontal edges map \"\"\"\n",
      "    if len(image_array.shape) == 3:\n",
      "        image_array = image_array.mean(axis=2)\n",
      "    return np.std(hsobel(image_array))\n",
      "\n",
      "def feature_20(image_array):\n",
      "    \"\"\" Returns the fraction of pixels above a threshold of the luminosity \n",
      "    for the horizontal edges map \"\"\"\n",
      "    thresh = 20 # Based on looking at histograms of edge maps of pictures\n",
      "    if len(image_array.shape) == 3:\n",
      "        image_array = image_array.mean(axis=2)\n",
      "    h_edge = hsobel(image_array)\n",
      "    return 1.0*sum(h_edge >= thresh)/h_edge.size\n",
      "\n",
      "def feature_21(image_array):\n",
      "    \"\"\" Returns the fraction of pixels above a threshold of the luminosity \n",
      "    for the vertical edges map \"\"\"\n",
      "    thresh = 20 # Based on looking at histograms of edge maps of pictures\n",
      "    if len(image_array.shape) == 3:\n",
      "        image_array = image_array.mean(axis=2)\n",
      "    v_edge = vsobel(image_array)\n",
      "    return 1.0*sum(v_edge >= thresh)/v_edge.size\n",
      "\n",
      "def feature_22(image_array):\n",
      "    \"\"\" Returns the aspect ratio of the image \"\"\"\n",
      "    if len(image_array.shape) == 3:\n",
      "        image_array = image_array.mean(axis=2)\n",
      "    (height, width) = image_array.shape\n",
      "    return 1.0*height/width\n",
      "\n",
      "def feature_23(image_array):\n",
      "    \"\"\" Returns the number of image peaks \"\"\"\n",
      "    return len(plm(image_array, min_distance=50))"
     ],
     "language": "python",
     "metadata": {},
     "outputs": [],
     "prompt_number": 1
    },
    {
     "cell_type": "code",
     "collapsed": false,
     "input": [
      "num_categs = 10 # actual number of categories is one less than this b/c of \".DS_Store\"\n",
      "num_pics = 20\n",
      "\n",
      "image_paths = []\n",
      "image_names = []\n",
      "categories = listdir(MYDIRECTORY)\n",
      "for category in categories[:num_categs]:\n",
      "    if category[0] != '.':\n",
      "        image_names = listdir(MYDIRECTORY  + \"/\" + category)\n",
      "    else:\n",
      "        print \"bad category '\" + category +\"' was skipped!\"\n",
      "    for name in image_names[:num_pics]:\n",
      "        image_paths.append(MYDIRECTORY + \"/\" + category + \"/\" + name)\n",
      "np.random.shuffle(image_paths) # randomize the data set\n",
      "\n",
      "print \"\\t Now beginning Feature extraction...\"\n",
      "before_extraction = time()\n",
      "features = extract_features(image_paths)\n",
      "after_extraction = time()\n",
      "pickle.dump( features, open( \"extracted_features_mini.p\", \"wb\" ) )\n",
      "print(\"Feature extraction complete after {0:.2f} seconds, or {1:.4f} seconds per image, for {2:.0f} total images.\"\\\n",
      "      .format(after_extraction-before_extraction,(after_extraction-before_extraction)/float(len(image_paths)),\n",
      "              len(image_paths)))\n",
      "print(\"Feature set contains {0:.0f} instances, each with {1:.0f} features.\".format(features[0].shape[0], features[0].shape[1]))\n",
      "print(\"Target set contains {0:.0f} unique classes.\".format(len(np.unique(features[1]))))"
     ],
     "language": "python",
     "metadata": {},
     "outputs": [
      {
       "output_type": "stream",
       "stream": "stdout",
       "text": [
        "bad category '.DS_Store' was skipped!\n",
        "\t Now beginning Feature extraction...\n",
        "\tFeature extraction completion:\n",
        "0%..."
       ]
      },
      {
       "output_type": "stream",
       "stream": "stdout",
       "text": [
        " 1%... "
       ]
      },
      {
       "output_type": "stream",
       "stream": "stdout",
       "text": [
        "2%... "
       ]
      },
      {
       "output_type": "stream",
       "stream": "stdout",
       "text": [
        "3%... "
       ]
      },
      {
       "output_type": "stream",
       "stream": "stdout",
       "text": [
        "4%... "
       ]
      },
      {
       "output_type": "stream",
       "stream": "stdout",
       "text": [
        "5%... "
       ]
      },
      {
       "output_type": "stream",
       "stream": "stdout",
       "text": [
        "6%... "
       ]
      },
      {
       "output_type": "stream",
       "stream": "stdout",
       "text": [
        "7%... "
       ]
      },
      {
       "output_type": "stream",
       "stream": "stdout",
       "text": [
        "8%... "
       ]
      },
      {
       "output_type": "stream",
       "stream": "stdout",
       "text": [
        "9%... "
       ]
      },
      {
       "output_type": "stream",
       "stream": "stdout",
       "text": [
        "10%... "
       ]
      },
      {
       "output_type": "stream",
       "stream": "stdout",
       "text": [
        "11%... "
       ]
      },
      {
       "output_type": "stream",
       "stream": "stdout",
       "text": [
        "12%... "
       ]
      },
      {
       "output_type": "stream",
       "stream": "stdout",
       "text": [
        "13%... "
       ]
      },
      {
       "output_type": "stream",
       "stream": "stdout",
       "text": [
        "14%... "
       ]
      },
      {
       "output_type": "stream",
       "stream": "stdout",
       "text": [
        "15%... "
       ]
      },
      {
       "output_type": "stream",
       "stream": "stdout",
       "text": [
        "16%... "
       ]
      },
      {
       "output_type": "stream",
       "stream": "stdout",
       "text": [
        "17%... "
       ]
      },
      {
       "output_type": "stream",
       "stream": "stdout",
       "text": [
        "18%... "
       ]
      },
      {
       "output_type": "stream",
       "stream": "stdout",
       "text": [
        "19%... "
       ]
      },
      {
       "output_type": "stream",
       "stream": "stdout",
       "text": [
        "20%... "
       ]
      },
      {
       "output_type": "stream",
       "stream": "stdout",
       "text": [
        "21%... "
       ]
      },
      {
       "output_type": "stream",
       "stream": "stdout",
       "text": [
        "22%... "
       ]
      },
      {
       "output_type": "stream",
       "stream": "stdout",
       "text": [
        "23%... "
       ]
      },
      {
       "output_type": "stream",
       "stream": "stdout",
       "text": [
        "24%... "
       ]
      },
      {
       "output_type": "stream",
       "stream": "stdout",
       "text": [
        "25%... "
       ]
      },
      {
       "output_type": "stream",
       "stream": "stdout",
       "text": [
        "26%... "
       ]
      },
      {
       "output_type": "stream",
       "stream": "stdout",
       "text": [
        "27%... "
       ]
      },
      {
       "output_type": "stream",
       "stream": "stdout",
       "text": [
        "28%... "
       ]
      },
      {
       "output_type": "stream",
       "stream": "stdout",
       "text": [
        "29%... "
       ]
      },
      {
       "output_type": "stream",
       "stream": "stdout",
       "text": [
        "30%... "
       ]
      },
      {
       "output_type": "stream",
       "stream": "stdout",
       "text": [
        "31%... "
       ]
      },
      {
       "output_type": "stream",
       "stream": "stdout",
       "text": [
        "32%... "
       ]
      },
      {
       "output_type": "stream",
       "stream": "stdout",
       "text": [
        "33%... "
       ]
      },
      {
       "output_type": "stream",
       "stream": "stdout",
       "text": [
        "34%... "
       ]
      },
      {
       "output_type": "stream",
       "stream": "stdout",
       "text": [
        "35%... "
       ]
      },
      {
       "output_type": "stream",
       "stream": "stdout",
       "text": [
        "36%... "
       ]
      },
      {
       "output_type": "stream",
       "stream": "stdout",
       "text": [
        "37%... "
       ]
      },
      {
       "output_type": "stream",
       "stream": "stdout",
       "text": [
        "38%... "
       ]
      },
      {
       "output_type": "stream",
       "stream": "stdout",
       "text": [
        "39%... "
       ]
      },
      {
       "output_type": "stream",
       "stream": "stdout",
       "text": [
        "40%... "
       ]
      },
      {
       "output_type": "stream",
       "stream": "stdout",
       "text": [
        "41%... "
       ]
      },
      {
       "output_type": "stream",
       "stream": "stdout",
       "text": [
        "42%... "
       ]
      },
      {
       "output_type": "stream",
       "stream": "stdout",
       "text": [
        "43%... "
       ]
      },
      {
       "output_type": "stream",
       "stream": "stdout",
       "text": [
        "44%... "
       ]
      },
      {
       "output_type": "stream",
       "stream": "stdout",
       "text": [
        "45%... "
       ]
      },
      {
       "output_type": "stream",
       "stream": "stdout",
       "text": [
        "46%... "
       ]
      },
      {
       "output_type": "stream",
       "stream": "stdout",
       "text": [
        "47%... "
       ]
      },
      {
       "output_type": "stream",
       "stream": "stdout",
       "text": [
        "48%... "
       ]
      },
      {
       "output_type": "stream",
       "stream": "stdout",
       "text": [
        "49%... "
       ]
      },
      {
       "output_type": "stream",
       "stream": "stdout",
       "text": [
        "50%... "
       ]
      },
      {
       "output_type": "stream",
       "stream": "stdout",
       "text": [
        "51%... "
       ]
      },
      {
       "output_type": "stream",
       "stream": "stdout",
       "text": [
        "52%... "
       ]
      },
      {
       "output_type": "stream",
       "stream": "stdout",
       "text": [
        "53%... "
       ]
      },
      {
       "output_type": "stream",
       "stream": "stdout",
       "text": [
        "54%... "
       ]
      },
      {
       "output_type": "stream",
       "stream": "stdout",
       "text": [
        "55%... "
       ]
      },
      {
       "output_type": "stream",
       "stream": "stdout",
       "text": [
        "56%... "
       ]
      },
      {
       "output_type": "stream",
       "stream": "stdout",
       "text": [
        "57%... "
       ]
      },
      {
       "output_type": "stream",
       "stream": "stdout",
       "text": [
        "58%... "
       ]
      },
      {
       "output_type": "stream",
       "stream": "stdout",
       "text": [
        "59%... "
       ]
      },
      {
       "output_type": "stream",
       "stream": "stdout",
       "text": [
        "60%... "
       ]
      },
      {
       "output_type": "stream",
       "stream": "stdout",
       "text": [
        "61%... "
       ]
      },
      {
       "output_type": "stream",
       "stream": "stdout",
       "text": [
        "62%... "
       ]
      },
      {
       "output_type": "stream",
       "stream": "stdout",
       "text": [
        "63%... "
       ]
      },
      {
       "output_type": "stream",
       "stream": "stdout",
       "text": [
        "64%... "
       ]
      },
      {
       "output_type": "stream",
       "stream": "stdout",
       "text": [
        "65%... "
       ]
      },
      {
       "output_type": "stream",
       "stream": "stdout",
       "text": [
        "66%... "
       ]
      },
      {
       "output_type": "stream",
       "stream": "stdout",
       "text": [
        "67%... "
       ]
      },
      {
       "output_type": "stream",
       "stream": "stdout",
       "text": [
        "68%... "
       ]
      },
      {
       "output_type": "stream",
       "stream": "stdout",
       "text": [
        "69%... "
       ]
      },
      {
       "output_type": "stream",
       "stream": "stdout",
       "text": [
        "70%... "
       ]
      },
      {
       "output_type": "stream",
       "stream": "stdout",
       "text": [
        "71%... "
       ]
      },
      {
       "output_type": "stream",
       "stream": "stdout",
       "text": [
        "72%... "
       ]
      },
      {
       "output_type": "stream",
       "stream": "stdout",
       "text": [
        "73%... "
       ]
      },
      {
       "output_type": "stream",
       "stream": "stdout",
       "text": [
        "74%... "
       ]
      },
      {
       "output_type": "stream",
       "stream": "stdout",
       "text": [
        "75%... "
       ]
      },
      {
       "output_type": "stream",
       "stream": "stdout",
       "text": [
        "76%... "
       ]
      },
      {
       "output_type": "stream",
       "stream": "stdout",
       "text": [
        "77%... "
       ]
      },
      {
       "output_type": "stream",
       "stream": "stdout",
       "text": [
        "78%... "
       ]
      },
      {
       "output_type": "stream",
       "stream": "stdout",
       "text": [
        "79%... "
       ]
      },
      {
       "output_type": "stream",
       "stream": "stdout",
       "text": [
        "80%... "
       ]
      },
      {
       "output_type": "stream",
       "stream": "stdout",
       "text": [
        "81%... "
       ]
      },
      {
       "output_type": "stream",
       "stream": "stdout",
       "text": [
        "82%... "
       ]
      },
      {
       "output_type": "stream",
       "stream": "stdout",
       "text": [
        "83%... "
       ]
      },
      {
       "output_type": "stream",
       "stream": "stdout",
       "text": [
        "84%... "
       ]
      },
      {
       "output_type": "stream",
       "stream": "stdout",
       "text": [
        "85%... "
       ]
      },
      {
       "output_type": "stream",
       "stream": "stdout",
       "text": [
        "86%... "
       ]
      },
      {
       "output_type": "stream",
       "stream": "stdout",
       "text": [
        "87%... "
       ]
      },
      {
       "output_type": "stream",
       "stream": "stdout",
       "text": [
        "88%... "
       ]
      },
      {
       "output_type": "stream",
       "stream": "stdout",
       "text": [
        "89%... "
       ]
      },
      {
       "output_type": "stream",
       "stream": "stdout",
       "text": [
        "90%... "
       ]
      },
      {
       "output_type": "stream",
       "stream": "stdout",
       "text": [
        "91%... "
       ]
      },
      {
       "output_type": "stream",
       "stream": "stdout",
       "text": [
        "92%... "
       ]
      },
      {
       "output_type": "stream",
       "stream": "stdout",
       "text": [
        "93%... "
       ]
      },
      {
       "output_type": "stream",
       "stream": "stdout",
       "text": [
        "94%... "
       ]
      },
      {
       "output_type": "stream",
       "stream": "stdout",
       "text": [
        "95%... "
       ]
      },
      {
       "output_type": "stream",
       "stream": "stdout",
       "text": [
        "96%... "
       ]
      },
      {
       "output_type": "stream",
       "stream": "stdout",
       "text": [
        "97%... "
       ]
      },
      {
       "output_type": "stream",
       "stream": "stdout",
       "text": [
        "98%... "
       ]
      },
      {
       "output_type": "stream",
       "stream": "stdout",
       "text": [
        "99%... \n",
        "Feature extraction complete after 122.47 seconds, or 0.6804 seconds per image, for 180 total images.\n",
        "Feature set contains 180 instances, each with 23 features.\n",
        "Target set contains 9 unique classes.\n"
       ]
      }
     ],
     "prompt_number": 495
    },
    {
     "cell_type": "code",
     "collapsed": false,
     "input": [],
     "language": "python",
     "metadata": {},
     "outputs": []
    }
   ],
   "metadata": {}
  }
 ]
}