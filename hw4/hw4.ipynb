{
 "metadata": {
  "name": ""
 },
 "nbformat": 3,
 "nbformat_minor": 0,
 "worksheets": [
  {
   "cells": [
    {
     "cell_type": "code",
     "collapsed": false,
     "input": [
      "import skimage.feature\n",
      "import numpy as np\n",
      "from os import listdir\n",
      "from multiprocessing import Pool, cpu_count\n",
      "from pylab import imread\n",
      "from time import time\n",
      "from sklearn import grid_search\n",
      "from sklearn.ensemble import RandomForestClassifier"
     ],
     "language": "python",
     "metadata": {},
     "outputs": [],
     "prompt_number": 54
    },
    {
     "cell_type": "code",
     "collapsed": false,
     "input": [
      "%pylab inline\n",
      "from sklearn import datasets\n",
      "\n",
      "# import some data to play with\n",
      "iris = datasets.load_iris()\n",
      "X = iris.data\n",
      "#from sklearn import preprocessing\n",
      "#X_scaled = preprocessing.scale(X) # many methods work better on scaled X\n",
      "np.random.shuffle(X)\n",
      "Y = iris.target\n",
      "np.random.shuffle(Y)\n",
      "\n",
      "# take the first 100 as training\n",
      "train = 100\n",
      "Xtr = X[:train]\n",
      "Ytr = Y[:train]\n",
      "print(\"training size: \" + str(len(Ytr)))\n",
      "\n",
      "# testing set\n",
      "test_X = X[train:]\n",
      "test_Y = Y[train:]\n",
      "print(\"testing size: \" + str(len(test_Y)))\n",
      "\n",
      "before_create = time()\n",
      "clf = RandomForestClassifier(n_estimators=1000, criterion='gini', max_depth=None, min_samples_split=2, \n",
      "                             min_samples_leaf=1, max_features='auto', bootstrap=True, oob_score=False, \n",
      "                             n_jobs=1, random_state=None, verbose=0, min_density=None, compute_importances=None)\n",
      "before_fit = time()\n",
      "clf.fit(Xtr, Ytr)\n",
      "\n",
      "# now do the prediction\n",
      "before_pred = time()\n",
      "Y_pred = clf.predict(test_X)\n",
      "after_pred = time()\n",
      "\n",
      "print \"Following times: \" + \"\\n creation:\" + \\\n",
      "    str(round(before_create-before_fit, 3)) + \" s, fit: \" + \\\n",
      "    str(round(before_fit-before_pred, 3)) + \" s, predict: \" + \\\n",
      "    str(round(before_pred-after_pred, 3)) + \" s, total: \" + \\\n",
      "    str(round(before_create-after_pred, 3)) + \" s\"\n",
      "\n",
      "# how well did we do?\n",
      "from sklearn.metrics import mean_squared_error\n",
      "mse = mean_squared_error(test_Y,Y_pred) ; print mse\n",
      "hist(Y_pred - test_Y, bins=5, range=None, normed=False, weights=None, cumulative=False, bottom=None, \n",
      "     histtype='bar', align='mid', orientation='vertical', rwidth=None, log=False, color=None, \n",
      "     label=None, stacked=False, hold=None)\n",
      "#plot(test_Y,Y_pred - test_Y,'o')\n",
      "title(\"Random Forest Residuals - MSE = %.1f\" % mse)\n",
      "xlabel(\"Guess Accuracy\")\n",
      "ylabel(\"Residual\")"
     ],
     "language": "python",
     "metadata": {},
     "outputs": [
      {
       "output_type": "stream",
       "stream": "stdout",
       "text": [
        "Populating the interactive namespace from numpy and matplotlib\n",
        "training size: 100\n",
        "testing size: 50\n",
        "Following times: \n",
        " creation:-0.0 s, fit: -1.12 s, predict: -0.063 s, total: -1.184 s"
       ]
      },
      {
       "output_type": "stream",
       "stream": "stdout",
       "text": [
        "\n",
        "1.18\n"
       ]
      },
      {
       "output_type": "stream",
       "stream": "stderr",
       "text": [
        "WARNING: pylab import has clobbered these variables: ['clf']\n",
        "`%pylab --no-import-all` prevents importing * from pylab and numpy\n"
       ]
      },
      {
       "metadata": {},
       "output_type": "pyout",
       "prompt_number": 108,
       "text": [
        "<matplotlib.text.Text at 0x10bfaa150>"
       ]
      },
      {
       "metadata": {},
       "output_type": "display_data",
       "png": "[encoded data removed]",
       "text": [
        "<matplotlib.figure.Figure at 0x10b72c8d0>"
       ]
      }
     ],
     "prompt_number": 108
    },
    {
     "cell_type": "code",
     "collapsed": false,
     "input": [
      "# explore 3 different forest sizes and 3 choices of mtry\n",
      "#parameters = {'n_estimators':[20,50,100],  'max_features':[8,10]}\n",
      "#rf_tune = grid_search.GridSearchCV(RandomForestClassifier(), parameters,\\\n",
      "                                   score_func=metrics.zero_one_score, n_jobs = 2, cv = 5)\n",
      "#rf_opt = rf_tune.fit(Xtr, Ytr)\n",
      "\n",
      "#print(\"Best zero-one score: \" + str(rf_opt.best_score) + \"\\n\")\n",
      "#print(\"Optimal Model:\\n\" + str(rf_opt.best_estimator_))"
     ],
     "language": "python",
     "metadata": {},
     "outputs": []
    },
    {
     "cell_type": "code",
     "collapsed": false,
     "input": [
      "\"\"\"\n",
      "Helper code from: Christopher Klein, Joshua Bloom\n",
      "\"\"\"\n",
      "from os import listdir\n",
      "from multiprocessing import Pool, cpu_count\n",
      "from pylab import imread\n",
      "from time import time\n",
      "\n",
      "MYDIRECTORY = \"/Users/sean/Desktop/50_categories\"\n",
      "\n",
      "def split_seq(seq, size):\n",
      "    \"\"\" Splits list \"seq\" into a list of \"size\" number of smaller, roughly equal length, lists \"\"\"\n",
      "    newseq = []\n",
      "    splitsize = 1.0/size*len(seq)\n",
      "    for i in range(size):\n",
      "        newseq.append(seq[int(round(i*splitsize)):\n",
      "            int(round((i+1)*splitsize))])\n",
      "    return newseq\n",
      "# Our simple feature extraction function. It takes in a list of image paths, \n",
      "# does some measurement on each image, then returns a list of the image paths\n",
      "# paired with the results of the feature measurement.\n",
      "def extract_features(image_path_list):\n",
      "    feature_list = []\n",
      "    for image_path in image_path_list:\n",
      "        image_array = imread(image_path)\n",
      "        feature = feature_1(image_array)\n",
      "        # This feature is simple. You can modify this\n",
      "        # code to produce more complicated features and to produce multiple\n",
      "        # features in one function call.\n",
      "        feature_list.append([image_path, feature])\n",
      "    return feature_list\n",
      "\n",
      "# Features list\n",
      "def feature_1(image_array):\n",
      "    return image_array.size"
     ],
     "language": "python",
     "metadata": {},
     "outputs": [],
     "prompt_number": 43
    },
    {
     "cell_type": "code",
     "collapsed": false,
     "input": [
      "### Main program starts here ###################################################\n",
      "# We first collect all the local paths to all the images in one list\n",
      "image_paths = []\n",
      "categories = listdir(MYDIRECTORY)\n",
      "for category in categories:\n",
      "    image_names = listdir(MYDIRECTORY  + \"/\" + category)\n",
      "    for name in image_names:\n",
      "        image_paths.append(MYDIRECTORY + \"/\" + category + \"/\" + name)\n",
      "\n",
      "print (\"There should be 4244 images, actual number is \" + \n",
      "    str(len(image_paths)) + \".\")\n",
      "\n",
      "# Then, we run the feature extraction function using multiprocessing.Pool so \n",
      "# so that we can parallelize the process and run it much faster.\n",
      "numprocessors = cpu_count() # To see results of parallelizing, set numprocessors\n",
      "                            # to less than cpu_count().\n",
      "# numprocessors = 1\n",
      "\n",
      "# We have to cut up the image_paths list into the number of processes we want to\n",
      "# run. \n",
      "split_image_paths = split_seq(image_paths, numprocessors)\n",
      "\n",
      "# Ok, this block is where the parallel code runs. We time it so we can get a \n",
      "# feel for the speed up.\n",
      "start_time = time()\n",
      "p = Pool(numprocessors)\n",
      "result = p.map_async(extract_features, split_image_paths)\n",
      "poolresult = result.get()\n",
      "end_time = time()\n",
      "\n",
      "# All done, print timing results.\n",
      "print (\"Finished extracting features. Total time: \" + \n",
      "    str(round(end_time-start_time, 3)) + \" s, or \" + \n",
      "    str( round( (end_time-start_time)/len(image_paths), 5 ) ) + \" s/image.\")\n",
      "# This took about 10-11 seconds on my 2.2 GHz, Core i7 MacBook Pro. It may also\n",
      "# be affected by hard disk read speeds.\n",
      "\n",
      "# To tidy-up a bit, we loop through the poolresult to create a final list of\n",
      "# the feature extraction results for all images.\n",
      "combined_result = []\n",
      "for single_proc_result in poolresult:\n",
      "    for single_image_result in single_proc_result:\n",
      "        combined_result.append(single_image_result)"
     ],
     "language": "python",
     "metadata": {},
     "outputs": []
    }
   ],
   "metadata": {}
  }
 ]
}