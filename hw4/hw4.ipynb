{
 "metadata": {
  "name": ""
 },
 "nbformat": 3,
 "nbformat_minor": 0,
 "worksheets": [
  {
   "cells": [
    {
     "cell_type": "code",
     "collapsed": false,
     "input": [
      "import skimage.feature\n",
      "import numpy as np\n",
      "from os import listdir\n",
      "from multiprocessing import Pool, cpu_count\n",
      "from pylab import imread\n",
      "from time import time\n",
      "from sklearn import grid_search, metrics\n",
      "from sklearn.ensemble import RandomForestClassifier"
     ],
     "language": "python",
     "metadata": {},
     "outputs": [],
     "prompt_number": 135
    },
    {
     "cell_type": "code",
     "collapsed": false,
     "input": [
      "from sklearn import datasets\n",
      "\n",
      "# import some data to play with\n",
      "test_data = datasets.load_iris()\n",
      "X = test_data.data\n",
      "#X[:,[0, 3]] = X[:,[3, 0]] # swap columns to compare feature importances\n",
      "#from sklearn import preprocessing\n",
      "#X = preprocessing.scale(X) # many methods work better on scaled X\n",
      "np.random.shuffle(X)\n",
      "Y = test_data.target\n",
      "np.random.shuffle(Y)\n",
      "\n",
      "# take the first 100 as training\n",
      "train_frac = 0.8\n",
      "train = int(len(Y))*train_frac\n",
      "Xtr = X[:train]\n",
      "Ytr = Y[:train]\n",
      "print(\"training size: \" + str(len(Ytr)))\n",
      "\n",
      "# testing set\n",
      "test_X = X[train:]\n",
      "test_Y = Y[train:]\n",
      "print(\"testing size: \" + str(len(test_Y)))\n",
      "\n",
      "before_create = time()\n",
      "clf = RandomForestClassifier(n_estimators=50, criterion='gini', max_depth=None, min_samples_split=2, \n",
      "                             min_samples_leaf=1, max_features='auto', bootstrap=True, oob_score=False, \n",
      "                             n_jobs=1, random_state=None, verbose=0, min_density=None, compute_importances=True)\n",
      "before_fit = time()\n",
      "clf.fit(Xtr, Ytr)\n",
      "\n",
      "# now do the prediction\n",
      "before_pred = time()\n",
      "Y_pred = clf.predict(test_X)\n",
      "after_pred = time()\n",
      "\n",
      "print \"Following times: \" + \"\\n creation:\" + \\\n",
      "    str(round(before_create-before_fit, 3)) + \" s, fit: \" + \\\n",
      "    str(round(before_fit-before_pred, 3)) + \" s, predict: \" + \\\n",
      "    str(round(before_pred-after_pred, 3)) + \" s, total: \" + \\\n",
      "    str(round(before_create-after_pred, 3)) + \" s\"\n",
      "\n",
      "# how well did we do?\n",
      "from sklearn import cross_validation\n",
      "from sklearn.cross_validation import cross_val_score\n",
      "\n",
      "def print_cv_score_summary(model, xx, yy, cv):\n",
      "    scores = cross_val_score(model, xx, yy, cv=cv, n_jobs=1)\n",
      "    print(\"mean: {:3f}, stdev: {:3f}\".format(\n",
      "        np.mean(scores), np.std(scores)))\n",
      "\n",
      "print_cv_score_summary(clf,X,Y,cv=cross_validation.KFold(len(Y), 5, shuffle=True))\n",
      "print clf.feature_importances_\n",
      "print X[:5,:]"
     ],
     "language": "python",
     "metadata": {},
     "outputs": [
      {
       "output_type": "stream",
       "stream": "stdout",
       "text": [
        "training size: 120\n",
        "testing size: 30\n",
        "Following times: \n",
        " creation:-0.008 s, fit: -0.078 s, predict: -0.007 s, total: -0.093 s"
       ]
      },
      {
       "output_type": "stream",
       "stream": "stdout",
       "text": [
        "\n",
        "mean: 0.353333, stdev: 0.045216"
       ]
      },
      {
       "output_type": "stream",
       "stream": "stdout",
       "text": [
        "\n",
        "[ 0.26210281  0.24555517  0.25484096  0.23750106]\n",
        "[[ 4.8  3.   1.4  0.1]\n",
        " [ 6.8  2.8  4.8  1.4]\n",
        " [ 6.5  3.2  5.1  2. ]\n",
        " [ 5.7  2.5  5.   2. ]\n",
        " [ 6.4  2.8  5.6  2.2]]\n"
       ]
      },
      {
       "output_type": "stream",
       "stream": "stderr",
       "text": [
        "//anaconda/python.app/Contents/lib/python2.7/site-packages/sklearn/ensemble/forest.py:783: DeprecationWarning: Setting compute_importances is no longer required as version 0.14. Variable importances are now computed on the fly when accessing the feature_importances_ attribute. This parameter will be removed in 0.16.\n",
        "  DeprecationWarning)\n"
       ]
      }
     ],
     "prompt_number": 136
    },
    {
     "cell_type": "code",
     "collapsed": false,
     "input": [
      "grid_search.GridSearchCV?"
     ],
     "language": "python",
     "metadata": {},
     "outputs": [],
     "prompt_number": 138
    },
    {
     "cell_type": "code",
     "collapsed": false,
     "input": [
      "# explore 3 different forest sizes and 3 choices of mtry\n",
      "parameters = {'n_estimators':[20,50,100],  'max_features':[2,4], 'compute_importances':[True]}\n",
      "rf_tune = grid_search.GridSearchCV(RandomForestClassifier(), parameters,\\\n",
      "                                   score_func=metrics.accuracy_score, n_jobs = 1, cv = 5)\n",
      "rf_opt = rf_tune.fit(Xtr, Ytr)\n",
      "\n",
      "print(\"Best zero-one score: \" + str(rf_opt.best_score_) + \"\\n\")\n",
      "print(\"Optimal Model:\\n\" + str(rf_opt.best_estimator_) + \"\\n\")\n",
      "print(\"Best Parameters:\" + str(rf_opt.best_params_) + \"\\n\")\n",
      "print(\"Grid Results:\")\n",
      "rf_opt.grid_scores_"
     ],
     "language": "python",
     "metadata": {},
     "outputs": [
      {
       "output_type": "stream",
       "stream": "stdout",
       "text": [
        "Best zero-one score: 0.35\n",
        "\n",
        "Optimal Model:\n",
        "RandomForestClassifier(bootstrap=True, compute_importances=True,\n",
        "            criterion=gini, max_depth=None, max_features=2,\n",
        "            min_density=None, min_samples_leaf=1, min_samples_split=2,\n",
        "            n_estimators=100, n_jobs=1, oob_score=False, random_state=None,\n",
        "            verbose=0)\n",
        "\n",
        "Best Parameters:{'compute_importances': True, 'max_features': 2, 'n_estimators': 100}\n",
        "\n",
        "Grid Results:\n"
       ]
      },
      {
       "output_type": "stream",
       "stream": "stderr",
       "text": [
        "//anaconda/python.app/Contents/lib/python2.7/site-packages/sklearn/grid_search.py:466: DeprecationWarning: Passing function as ``score_func`` is deprecated and will be removed in 0.15. Either use strings or score objects.The relevant new parameter is called ''scoring''.\n",
        "  self.loss_func, self.score_func, self.scoring)\n"
       ]
      },
      {
       "metadata": {},
       "output_type": "pyout",
       "prompt_number": 158,
       "text": [
        "[mean: 0.33333, std: 0.09501, params: {'compute_importances': True, 'max_features': 2, 'n_estimators': 20},\n",
        " mean: 0.32500, std: 0.12191, params: {'compute_importances': True, 'max_features': 2, 'n_estimators': 50},\n",
        " mean: 0.35000, std: 0.14337, params: {'compute_importances': True, 'max_features': 2, 'n_estimators': 100},\n",
        " mean: 0.32500, std: 0.13281, params: {'compute_importances': True, 'max_features': 4, 'n_estimators': 20},\n",
        " mean: 0.35000, std: 0.11667, params: {'compute_importances': True, 'max_features': 4, 'n_estimators': 50},\n",
        " mean: 0.32500, std: 0.13540, params: {'compute_importances': True, 'max_features': 4, 'n_estimators': 100}]"
       ]
      }
     ],
     "prompt_number": 158
    },
    {
     "cell_type": "code",
     "collapsed": false,
     "input": [
      "rf_opt.grid_scores_"
     ],
     "language": "python",
     "metadata": {},
     "outputs": [
      {
       "metadata": {},
       "output_type": "pyout",
       "prompt_number": 164,
       "text": [
        "[mean: 0.33333, std: 0.09501, params: {'compute_importances': True, 'max_features': 2, 'n_estimators': 20},\n",
        " mean: 0.32500, std: 0.12191, params: {'compute_importances': True, 'max_features': 2, 'n_estimators': 50},\n",
        " mean: 0.35000, std: 0.14337, params: {'compute_importances': True, 'max_features': 2, 'n_estimators': 100},\n",
        " mean: 0.32500, std: 0.13281, params: {'compute_importances': True, 'max_features': 4, 'n_estimators': 20},\n",
        " mean: 0.35000, std: 0.11667, params: {'compute_importances': True, 'max_features': 4, 'n_estimators': 50},\n",
        " mean: 0.32500, std: 0.13540, params: {'compute_importances': True, 'max_features': 4, 'n_estimators': 100}]"
       ]
      }
     ],
     "prompt_number": 164
    },
    {
     "cell_type": "code",
     "collapsed": false,
     "input": [
      "\"\"\"\n",
      "Helper code from: Christopher Klein, Joshua Bloom\n",
      "\"\"\"\n",
      "from os import listdir\n",
      "from multiprocessing import Pool, cpu_count\n",
      "from pylab import imread\n",
      "from time import time\n",
      "\n",
      "MYDIRECTORY = \"/Users/sean/Desktop/50_categories\"\n",
      "\n",
      "def split_seq(seq, size):\n",
      "    \"\"\" Splits list \"seq\" into a list of \"size\" number of smaller, roughly equal length, lists \"\"\"\n",
      "    newseq = []\n",
      "    splitsize = 1.0/size*len(seq)\n",
      "    for i in range(size):\n",
      "        newseq.append(seq[int(round(i*splitsize)):\n",
      "            int(round((i+1)*splitsize))])\n",
      "    return newseq\n",
      "# Our simple feature extraction function. It takes in a list of image paths, \n",
      "# does some measurement on each image, then returns a list of the image paths\n",
      "# paired with the results of the feature measurement.\n",
      "def extract_features(image_path_list):\n",
      "    feature_list = []\n",
      "    for image_path in image_path_list:\n",
      "        image_array = imread(image_path)\n",
      "        feature = feature_1(image_array)\n",
      "        # This feature is simple. You can modify this\n",
      "        # code to produce more complicated features and to produce multiple\n",
      "        # features in one function call.\n",
      "        feature_list.append([image_path, feature])\n",
      "    return feature_list\n",
      "\n",
      "# Features list\n",
      "def feature_1(image_array):\n",
      "    return image_array.size"
     ],
     "language": "python",
     "metadata": {},
     "outputs": [],
     "prompt_number": 43
    },
    {
     "cell_type": "code",
     "collapsed": false,
     "input": [
      "### Main program starts here ###################################################\n",
      "# We first collect all the local paths to all the images in one list\n",
      "image_paths = []\n",
      "categories = listdir(MYDIRECTORY)\n",
      "for category in categories:\n",
      "    image_names = listdir(MYDIRECTORY  + \"/\" + category)\n",
      "    for name in image_names:\n",
      "        image_paths.append(MYDIRECTORY + \"/\" + category + \"/\" + name)\n",
      "\n",
      "print (\"There should be 4244 images, actual number is \" + \n",
      "    str(len(image_paths)) + \".\")\n",
      "\n",
      "# Then, we run the feature extraction function using multiprocessing.Pool so \n",
      "# so that we can parallelize the process and run it much faster.\n",
      "numprocessors = cpu_count() # To see results of parallelizing, set numprocessors\n",
      "                            # to less than cpu_count().\n",
      "# numprocessors = 1\n",
      "\n",
      "# We have to cut up the image_paths list into the number of processes we want to\n",
      "# run. \n",
      "split_image_paths = split_seq(image_paths, numprocessors)\n",
      "\n",
      "# Ok, this block is where the parallel code runs. We time it so we can get a \n",
      "# feel for the speed up.\n",
      "start_time = time()\n",
      "p = Pool(numprocessors)\n",
      "result = p.map_async(extract_features, split_image_paths)\n",
      "poolresult = result.get()\n",
      "end_time = time()\n",
      "\n",
      "# All done, print timing results.\n",
      "print (\"Finished extracting features. Total time: \" + \n",
      "    str(round(end_time-start_time, 3)) + \" s, or \" + \n",
      "    str( round( (end_time-start_time)/len(image_paths), 5 ) ) + \" s/image.\")\n",
      "# This took about 10-11 seconds on my 2.2 GHz, Core i7 MacBook Pro. It may also\n",
      "# be affected by hard disk read speeds.\n",
      "\n",
      "# To tidy-up a bit, we loop through the poolresult to create a final list of\n",
      "# the feature extraction results for all images.\n",
      "combined_result = []\n",
      "for single_proc_result in poolresult:\n",
      "    for single_image_result in single_proc_result:\n",
      "        combined_result.append(single_image_result)"
     ],
     "language": "python",
     "metadata": {},
     "outputs": []
    },
    {
     "cell_type": "code",
     "collapsed": false,
     "input": [
      "# try to run through all pics and extract features, except: file being run by grader, not me, so directory does not exist, proceed."
     ],
     "language": "python",
     "metadata": {},
     "outputs": []
    }
   ],
   "metadata": {}
  }
 ]
}