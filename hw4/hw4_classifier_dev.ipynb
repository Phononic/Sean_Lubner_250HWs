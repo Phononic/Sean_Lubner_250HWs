{
 "metadata": {
  "name": ""
 },
 "nbformat": 3,
 "nbformat_minor": 0,
 "worksheets": [
  {
   "cells": [
    {
     "cell_type": "code",
     "collapsed": false,
     "input": [
      "import numpy as np\n",
      "import pickle\n",
      "from os import listdir\n",
      "from time import time\n",
      "from sklearn import grid_search, metrics\n",
      "from sklearn.ensemble import RandomForestClassifier\n",
      "\n",
      "# load data\n",
      "im_data = pickle.load( open( \"extracted_features.p\", \"rb\" ) )\n",
      "X = im_data[0] # extracted features\n",
      "Y = im_data[1] # target\n",
      "num_classes = len(np.unique(Y)) # number of classes\n",
      "nc = X.shape[1]\n",
      "\n",
      "# optimize number of features\n",
      "parameters = {'max_features':map(lambda x: int(x), [np.ceil(np.sqrt(nc)), np.ceil(nc/3.0), np.ceil(nc/1.5)]),\n",
      "              'n_estimators':[50], 'compute_importances':[True], 'n_jobs':[1]}\n",
      "rf_opt = grid_search.GridSearchCV(RandomForestClassifier(), parameters,\\\n",
      "                                   score_func=metrics.accuracy_score, n_jobs = 1, cv = 4)\n",
      "before_GS = time()\n",
      "rf_opt.fit(X, Y)\n",
      "after_GS = time()\n",
      "best_rf = rf_opt.best_estimator_\n",
      "pickle.dump( best_rf, open( \"trained_classifier.p\", \"wb\" ) ) # save the trained classifier\n",
      "print(\"Optimized, trained, classifier has been pickled under the name 'trained_classifier.p'\\n\")\n",
      "\n",
      "# ------------------- Output -------------------\n",
      "class feature_priority(object):\n",
      "    def __init__(self, priorities, dec=4):\n",
      "        self.feature_names = ['pixel count','avg red','avg green','avg blue','avg lum',\n",
      "                              'median lum','std lum','median red','median green','median blue',\n",
      "                              'std red','std green','std blue','avg lum v-edges','median lum v-edges',\n",
      "                              'std lum v-edges','avg lum h-edges','median lum h-edges','std h-edges',\n",
      "                              '>thresh h-edges','>thresh v-edges','aspect ratio','image peaks']\n",
      "        self.feature_priorities = map(lambda x: np.round(x, decimals=dec), priorities)\n",
      "        self.sorted_feats = sorted(zip(self.feature_names,self.feature_priorities), key = lambda x: x[1], reverse=True)\n",
      "    \n",
      "    def __str__(self):\n",
      "        outstr = \"Features (most to least important): \\n\"\n",
      "        for (i,j) in self.sorted_feats:\n",
      "            outstr += \"\\t\" + i + \" \"*(25-len(i)) + \"relative importance: \" + str(j) + \"\\n\"\n",
      "        return outstr\n",
      "        \n",
      "print(\"Time to run grid search: {0:.3f} sec.  Average of {1:.4f} sec per classifier fit/predict cycle (per parameter combo per CV-fold)\\n\"\\\n",
      "      .format(after_GS-before_GS, (after_GS-before_GS)/(len(rf_opt.grid_scores_)*rf_opt.cv)))\n",
      "print(\"Best score: {0:.2f}% accuracy, vs. random guessing at: {1:.2f}%, for a factor of {2:.1f}X improvement.\" \\\n",
      "      .format(100*rf_opt.best_score_, 100.0/num_classes, rf_opt.best_score_*num_classes))\n",
      "print(\"Best Parameters:\" + str(rf_opt.best_params_) + \"\\n\")\n",
      "\n",
      "feats = feature_priority(best_rf.feature_importances_)\n",
      "print str(feats)\n",
      "print \"Grid Search Scores:\" \n",
      "for score in rf_opt.grid_scores_:\n",
      "    print score"
     ],
     "language": "python",
     "metadata": {},
     "outputs": [
      {
       "output_type": "stream",
       "stream": "stdout",
       "text": [
        "Optimized, trained, classifier has been pickled under the name 'trained_classifier.p'\n",
        "\n",
        "Time to run grid search: 45.823 sec.  Average of 3.8186 sec per classifier fit/predict cycle (per parameter combo per CV-fold)\n",
        "\n",
        "Best score: 28.02% accuracy, vs. random guessing at: 2.00%, for a factor of 14.0X improvement.\n",
        "Best Parameters:{'compute_importances': True, 'max_features': 5, 'n_jobs': 1, 'n_estimators': 50}\n",
        "\n",
        "Features (most to least important): \n",
        "\tpixel count              relative importance: 0.1045\n",
        "\tmedian lum v-edges       relative importance: 0.066\n",
        "\tavg lum v-edges          relative importance: 0.0635\n",
        "\tstd h-edges              relative importance: 0.0611\n",
        "\tstd lum v-edges          relative importance: 0.0547\n",
        "\tavg lum h-edges          relative importance: 0.053\n",
        "\tavg blue                 relative importance: 0.0509\n",
        "\tstd red                  relative importance: 0.0503\n",
        "\tstd blue                 relative importance: 0.0503\n",
        "\tavg red                  relative importance: 0.048\n",
        "\tmedian lum h-edges       relative importance: 0.0479\n",
        "\tstd green                relative importance: 0.0476\n",
        "\tavg green                relative importance: 0.0475\n",
        "\tmedian red               relative importance: 0.0444\n",
        "\tmedian blue              relative importance: 0.044\n",
        "\tstd lum                  relative importance: 0.043\n",
        "\tmedian green             relative importance: 0.0416\n",
        "\tavg lum                  relative importance: 0.041\n",
        "\tmedian lum               relative importance: 0.0407\n",
        "\n",
        "Grid Search Scores:\n",
        "mean: 0.28016, std: 0.00478, params: {'compute_importances': True, 'max_features': 5, 'n_jobs': 1, 'n_estimators': 50}\n",
        "mean: 0.27380, std: 0.00543, params: {'compute_importances': True, 'max_features': 7, 'n_jobs': 1, 'n_estimators': 50}\n",
        "mean: 0.27545, std: 0.00439, params: {'compute_importances': True, 'max_features': 13, 'n_jobs': 1, 'n_estimators': 50}\n"
       ]
      },
      {
       "output_type": "stream",
       "stream": "stderr",
       "text": [
        "//anaconda/python.app/Contents/lib/python2.7/site-packages/sklearn/grid_search.py:466: DeprecationWarning: Passing function as ``score_func`` is deprecated and will be removed in 0.15. Either use strings or score objects.The relevant new parameter is called ''scoring''.\n",
        "  self.loss_func, self.score_func, self.scoring)\n"
       ]
      }
     ],
     "prompt_number": 4
    }
   ],
   "metadata": {}
  }
 ]
}