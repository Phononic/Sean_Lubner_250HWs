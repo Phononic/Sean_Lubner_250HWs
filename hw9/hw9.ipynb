{
 "metadata": {
  "name": ""
 },
 "nbformat": 3,
 "nbformat_minor": 0,
 "worksheets": [
  {
   "cells": [
    {
     "cell_type": "markdown",
     "metadata": {},
     "source": [
      "Homework 9\n",
      "------\n",
      "Sean Lubner"
     ]
    },
    {
     "cell_type": "code",
     "collapsed": false,
     "input": [
      "# Simple Serial Program\n",
      "\n",
      "from time import time\n",
      "from IPython.parallel import Client \n",
      "\n",
      "rc = Client()#(profile='mpi')\n",
      "dview = rc.direct_view()\n",
      "# lview = rc.load_balanced_view() # run on any *one* engine\n",
      "\n",
      "dview.block=True # wait until all engines are done executing a command\n",
      "\n",
      "def throw_darts(number_of_darts):\n",
      "    \"\"\" throw number_of_darts darts and count how many of them hit the circle \"\"\"\n",
      "    from random import random # faster than random.uniform\n",
      "    num_darts = int(number_of_darts) # number of darts to throw\n",
      "    hits = 0 # number of darts falling within the circle\n",
      "    for n in xrange(num_darts): # loop + xrange => don't store in memory\n",
      "        x, y = random(), random()\n",
      "        if x*x + y*y <= 1:\n",
      "            hits += 1\n",
      "    return hits\n",
      "    \n",
      "def serial_pi(n):\n",
      "    \"\"\" Simple Monte Carlo serial estimation of pi \"\"\"\n",
      "    num_darts = int(n)\n",
      "    tic = time() # start time\n",
      "    hits = throw_darts(n)\n",
      "    toc = time() # end time\n",
      "    pi_est = 4.0*(hits/float(n))\n",
      "    run_time = toc-tic\n",
      "    #return pi_est, run_time\n",
      "    \n",
      "    print '-------------- Serial Outpt --------------'\n",
      "    print 'Apprixmate Pi:', pi_est\n",
      "    print 'Number of darts thrown:', num_darts\n",
      "    print 'Execution time:', run_time, 'seconds'\n",
      "    print 'Darts thrown per second:', num_darts/run_time\n",
      "    print '------------------------------------------\\n\\n'\n",
      "\n",
      "def IPcluster_pi(n):\n",
      "    \"\"\" Parallel processed Monte Carlo estimation of pi using IPython's cluster\"\"\"\n",
      "    nnod = len(dview)\n",
      "    dart_batches = nnod*[int(n/nnod)]\n",
      "    num_darts = int(sum(dart_batches))\n",
      "    tic = time() # start time\n",
      "    hits = sum(dview.map_sync(throw_darts, dart_batches))\n",
      "    toc = time() # end time\n",
      "    pi_est = 4.0*(hits/float(n))\n",
      "    run_time = toc-tic\n",
      "    #return pi_est, run_time\n",
      "    \n",
      "    print '-------------- IPcluster Outpt --------------'\n",
      "    print 'Apprixmate Pi:', pi_est\n",
      "    print 'Number of darts thrown:', num_darts\n",
      "    print 'Execution time:', run_time, 'seconds'\n",
      "    print 'Darts thrown per second:', num_darts/run_time   \n",
      "    print '---------------------------------------------\\n\\n'\n",
      "\n",
      "def multiprocessing_pi(n):\n",
      "    \"\"\" Parallel processed Monte Carlo estimation of pi using multiprocessing module \"\"\"\n",
      "    num_darts = int(n)\n",
      "    nnod = len(dview)\n",
      "    tic = time() # start time\n",
      "    hits = sum(dview.map_sync(throw_darts, nnod*[n/nnod]))\n",
      "    toc = time() # end time\n",
      "    pi_est = 4.0*(hits/float(n))\n",
      "    run_time = toc-tic\n",
      "    #return pi_est, run_time\n",
      "    \n",
      "    print '-------------- Multiprocessing Outpt --------------'\n",
      "    print 'Apprixmate Pi:', pi_est\n",
      "    print 'Number of darts thrown:', num_darts\n",
      "    print 'Execution time:', run_time, 'seconds'\n",
      "    print 'Darts thrown per second:', num_darts/run_time   \n",
      "    print '---------------------------------------------------\\n\\n'\n",
      "\n",
      "darts = 2E6 + 1\n",
      "serial_pi(darts)\n",
      "IPcluster_pi(darts)"
     ],
     "language": "python",
     "metadata": {},
     "outputs": [
      {
       "output_type": "stream",
       "stream": "stdout",
       "text": [
        "-------------- Serial Outpt --------------\n",
        "Apprixmate Pi: 3.14141842929\n",
        "Number of darts thrown: 2000001\n",
        "Execution time: 0.801525115967 seconds\n",
        "Darts thrown per second: 2495244.32879\n",
        "------------------------------------------\n",
        "\n",
        "\n",
        "-------------- IPcluster Outpt --------------"
       ]
      },
      {
       "output_type": "stream",
       "stream": "stdout",
       "text": [
        "\n",
        "Apprixmate Pi: 3.1422044289\n",
        "Number of darts thrown: 2000000\n",
        "Execution time: 0.484472036362 seconds\n",
        "Darts thrown per second: 4128205.24177\n",
        "---------------------------------------------\n",
        "\n",
        "\n"
       ]
      }
     ],
     "prompt_number": 1
    },
    {
     "cell_type": "code",
     "collapsed": false,
     "input": [
      "# Plotting\n",
      "import matplotlib.pyplot as plt"
     ],
     "language": "python",
     "metadata": {},
     "outputs": []
    },
    {
     "cell_type": "code",
     "collapsed": false,
     "input": [
      "# parallelization & functions\n",
      "from IPython.parallel import Client \n",
      "rc = Client()#(profile='mpi')\n",
      "dview = rc.direct_view()\n",
      "# lview = rc.load_balanced_view() # run on any *one* engine\n",
      "\n",
      "dview.block=True # wait until all engines are done executing a command"
     ],
     "language": "python",
     "metadata": {},
     "outputs": [],
     "prompt_number": 53
    },
    {
     "cell_type": "code",
     "collapsed": false,
     "input": [
      "# Scatter / gather\n",
      "\n",
      "def fsquare(x):\n",
      "    return x**2\n",
      "\n",
      "dview.scatter('a',range(24)) \n",
      "print dview['a'] \n",
      "all_a = dview.gather('a')#.get()\n",
      "print all_a\n",
      "\n",
      "# Use\n",
      "#dview['y']=[]\n",
      "dview.scatter('x',range(64)) \n",
      "dview.map(fsquare, x)\n",
      "y = dview.gather('y')#.get()\n",
      "print y"
     ],
     "language": "python",
     "metadata": {},
     "outputs": [
      {
       "ename": "NameError",
       "evalue": "name 'x' is not defined",
       "output_type": "pyerr",
       "traceback": [
        "\u001b[0;31m---------------------------------------------------------------------------\u001b[0m\n\u001b[0;31mNameError\u001b[0m                                 Traceback (most recent call last)",
        "\u001b[0;32m<ipython-input-59-c3438dd28c1e>\u001b[0m in \u001b[0;36m<module>\u001b[0;34m()\u001b[0m\n\u001b[1;32m     12\u001b[0m \u001b[0;31m#dview['y']=[]\u001b[0m\u001b[0;34m\u001b[0m\u001b[0;34m\u001b[0m\u001b[0m\n\u001b[1;32m     13\u001b[0m \u001b[0mdview\u001b[0m\u001b[0;34m.\u001b[0m\u001b[0mscatter\u001b[0m\u001b[0;34m(\u001b[0m\u001b[0;34m'x'\u001b[0m\u001b[0;34m,\u001b[0m\u001b[0mrange\u001b[0m\u001b[0;34m(\u001b[0m\u001b[0;36m64\u001b[0m\u001b[0;34m)\u001b[0m\u001b[0;34m)\u001b[0m\u001b[0;34m\u001b[0m\u001b[0m\n\u001b[0;32m---> 14\u001b[0;31m \u001b[0mdview\u001b[0m\u001b[0;34m.\u001b[0m\u001b[0mmap\u001b[0m\u001b[0;34m(\u001b[0m\u001b[0mfsquare\u001b[0m\u001b[0;34m,\u001b[0m \u001b[0mx\u001b[0m\u001b[0;34m)\u001b[0m\u001b[0;34m\u001b[0m\u001b[0m\n\u001b[0m\u001b[1;32m     15\u001b[0m \u001b[0my\u001b[0m \u001b[0;34m=\u001b[0m \u001b[0mdview\u001b[0m\u001b[0;34m.\u001b[0m\u001b[0mgather\u001b[0m\u001b[0;34m(\u001b[0m\u001b[0;34m'y'\u001b[0m\u001b[0;34m)\u001b[0m\u001b[0;31m#.get()\u001b[0m\u001b[0;34m\u001b[0m\u001b[0m\n\u001b[1;32m     16\u001b[0m \u001b[0;32mprint\u001b[0m \u001b[0my\u001b[0m\u001b[0;34m\u001b[0m\u001b[0m\n",
        "\u001b[0;31mNameError\u001b[0m: name 'x' is not defined"
       ]
      },
      {
       "output_type": "stream",
       "stream": "stdout",
       "text": [
        "[[0, 1, 2, 3, 4, 5, 6, 7, 8, 9, 10, 11], [12, 13, 14, 15, 16, 17, 18, 19, 20, 21, 22, 23]]\n",
        "[0, 1, 2, 3, 4, 5, 6, 7, 8, 9, 10, 11, 12, 13, 14, 15, 16, 17, 18, 19, 20, 21, 22, 23]\n"
       ]
      }
     ],
     "prompt_number": 59
    },
    {
     "cell_type": "code",
     "collapsed": false,
     "input": [
      "# Using engines\n",
      "\n",
      "dview['a'] = 10 \n",
      "dview['b'] = 20\n",
      "dview.execute('e=a*b') \n",
      "rc[1].execute('e=a+b') \n",
      "print dview['e']"
     ],
     "language": "python",
     "metadata": {},
     "outputs": [
      {
       "output_type": "stream",
       "stream": "stdout",
       "text": [
        "[200, 30]\n"
       ]
      }
     ],
     "prompt_number": 39
    },
    {
     "cell_type": "code",
     "collapsed": false,
     "input": [
      "# plotting imports and actual plotting"
     ],
     "language": "python",
     "metadata": {},
     "outputs": []
    }
   ],
   "metadata": {}
  }
 ]
}