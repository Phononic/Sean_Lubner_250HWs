{
 "metadata": {
  "name": ""
 },
 "nbformat": 3,
 "nbformat_minor": 0,
 "worksheets": [
  {
   "cells": [
    {
     "cell_type": "markdown",
     "metadata": {},
     "source": [
      "GUI Basics (Intro)\n",
      "-------"
     ]
    },
    {
     "cell_type": "code",
     "collapsed": false,
     "input": [
      "#%load ghello.py"
     ],
     "language": "python",
     "metadata": {},
     "outputs": [],
     "prompt_number": 2
    },
    {
     "cell_type": "code",
     "collapsed": false,
     "input": [
      "# basic GUI Hello in Tkinter\n",
      "\n",
      "from Tkinter import *\n",
      "\n",
      "#make a root window\n",
      "root = Tk()\n",
      "root.title(\"Hello?\")\n",
      "\n",
      "# stick a label in it.\n",
      "mylabel = Label(root, text=\"Is it me you're looking for?\")\n",
      "\n",
      "# pack it into the root window\n",
      "mylabel.pack() # geometry manager\n",
      "\n",
      "# run the main loop\n",
      "root.mainloop()"
     ],
     "language": "python",
     "metadata": {},
     "outputs": [],
     "prompt_number": 3
    },
    {
     "cell_type": "markdown",
     "metadata": {},
     "source": [
      "Buttons!\n",
      "-----"
     ]
    },
    {
     "cell_type": "code",
     "collapsed": false,
     "input": [
      "#%load ghello1.py"
     ],
     "language": "python",
     "metadata": {},
     "outputs": [],
     "prompt_number": 5
    },
    {
     "cell_type": "code",
     "collapsed": false,
     "input": [
      "# basic GUI Hello in Tkinter\n",
      "from Tkinter import *\n",
      "\n",
      "#make a root window\n",
      "root = Tk() ; root.title(\"Hello?\")\n",
      "\n",
      "# stick a label in it and pack it in.\n",
      "Label(root, text=\"Is it me you're looking for?\").pack()\n",
      "\n",
      "def good(): print \"good.\"\n",
      "def bad(): print \"bad!\"\n",
      "    \n",
      "# make some buttons\n",
      "b1 = Button(root,text=\"Yes\",command=good)\n",
      "b2 = Button(root,text=\"No\",command=bad)\n",
      "b1.pack(side=LEFT,expand=1,fill=X) ; b2.pack(side=LEFT,fill=X,expand=1)\n",
      "\n",
      "\n",
      "# run the main loop\n",
      "root.mainloop()"
     ],
     "language": "python",
     "metadata": {},
     "outputs": [],
     "prompt_number": 76
    },
    {
     "cell_type": "markdown",
     "metadata": {},
     "source": [
      "Geometry Manager: Grid\n",
      "----"
     ]
    },
    {
     "cell_type": "code",
     "collapsed": false,
     "input": [
      "#%load grid.py"
     ],
     "language": "python",
     "metadata": {},
     "outputs": [],
     "prompt_number": 8
    },
    {
     "cell_type": "code",
     "collapsed": false,
     "input": [
      "# basic GUI Hello in Tkinter\n",
      "from Tkinter import *\n",
      "\n",
      "#make a root window\n",
      "root = Tk() ; root.title(\"grid example\")\n",
      "root.minsize(120,50)\n",
      "root.maxsize(700,500)\n",
      "\n",
      "\n",
      "# stick a label in it and pack it in.\n",
      "a = Label(root, text=\"A\",borderwidth=4,bg=\"PeachPuff\") # 'bg' = background color\n",
      "b = Label(root, text=\"B\",borderwidth=4,bg=\"LightBlue\",relief=RIDGE)\n",
      "c = Label(root, text=\"C\",borderwidth=4,bg=\"PeachPuff\",relief=GROOVE) # different styles\n",
      "d = Label(root, text=\"D\",borderwidth=4,bg=\"LightBlue\")\n",
      "e = Label(root, text=\"E\",borderwidth=4,bg=\"PeachPuff\",relief=GROOVE)\n",
      "f = Label(root, text=\"F\",borderwidth=4,bg=\"LightBlue\")\n",
      "g = Label(root, text=\"G\",borderwidth=4,bg=\"Yellow\")\n",
      "h = Label(root, text=\"H\",borderwidth=4,bg=\"PeachPuff\",relief=SUNKEN)\n",
      "i = Label(root, text=\"I\",borderwidth=4,bg=\"LightBlue\")\n",
      "j = Label(root, text=\"J\",borderwidth=4,bg=\"PeachPuff\",padx=30,relief=GROOVE) # some padding\n",
      "k = Label(root, text=\"K\",borderwidth=4,bg=\"LightBlue\",relief=GROOVE)\n",
      "\n",
      "# Assign grid layouts\n",
      "a.grid(row=0,column=0)\n",
      "b.grid(row=0,column=1,sticky=(N,S,E,W))\n",
      "c.grid(row=0,column=2,sticky=(N,S))\n",
      "e.grid(row=1,column=0,sticky=(E,W))\n",
      "f.grid(row=1,column=1,sticky=(E))\n",
      "g.grid(row=1,column=2,sticky=(W))\n",
      "h.grid(row=2,column=0,sticky=(N,S,W,E))\n",
      "d.grid(row=0,column=3,sticky=(N,S,W,E),columnspan=2,rowspan=2)\n",
      "i.grid(row=2,column=1,sticky=(N,S,W,E),columnspan=2)\n",
      "j.grid(row=2,column=3,sticky=(N,S,W,E))\n",
      "k.grid(row=2,column=4,sticky=(N,S,W,E),ipadx=30,ipady=30)\n",
      "\n",
      "    \n",
      "## get the gridsize and make each row and column expandable \n",
      "# weights = define how they get bigger or smaller\n",
      "for r in range(root.grid_size()[0]):\n",
      "    root.rowconfigure(r, weight=1)\n",
      "for c in range(root.grid_size()[1]):\n",
      "    root.columnconfigure(c, weight=1)\n",
      "\n",
      "# run the main loop\n",
      "root.mainloop()"
     ],
     "language": "python",
     "metadata": {},
     "outputs": [],
     "prompt_number": 4
    },
    {
     "cell_type": "markdown",
     "metadata": {},
     "source": [
      "Geometry Manager: Pack\n",
      "----\n",
      "\n",
      "- Need to choose a single manager for each window (Pack or Grid or Place)\n",
      "- Checkbuttons"
     ]
    },
    {
     "cell_type": "code",
     "collapsed": false,
     "input": [
      "#%load pack.py"
     ],
     "language": "python",
     "metadata": {},
     "outputs": [],
     "prompt_number": 12
    },
    {
     "cell_type": "code",
     "collapsed": false,
     "input": [
      "# basic GUI Hello in Tkinter\n",
      "from Tkinter import *\n",
      "\n",
      "#make a root window\n",
      "root = Tk() ; root.title(\"pack example\")\n",
      "\n",
      "# stick a label in it and pack it in.\n",
      "q = Button(root, text=\"Quit\",borderwidth=4,bg=\"PeachPuff\")\n",
      "a = Checkbutton(root, text=\"A\",borderwidth=4)\n",
      "b = Checkbutton(root, text=\"B\",borderwidth=4)\n",
      "c = Checkbutton(root, text=\"C\",borderwidth=4)\n",
      "e = Label(root, text=\"What grade should I give you in this class?\",borderwidth=4,bg=\"PeachPuff\",relief=GROOVE)\n",
      "\n",
      "e.pack(side=TOP,expand=1,fill=X) # Put this button at the top, fill entire width\n",
      "q.pack(side=BOTTOM,expand=1,fill=BOTH)\n",
      "a.pack(side=LEFT,expand=1)\n",
      "b.pack(side=LEFT,expand=1)\n",
      "c.pack(side=LEFT,expand=1)\n",
      "\n",
      "# run the main loop\n",
      "root.mainloop()"
     ],
     "language": "python",
     "metadata": {},
     "outputs": [],
     "prompt_number": 75
    },
    {
     "cell_type": "code",
     "collapsed": false,
     "input": [
      "#%load pack_grid.py"
     ],
     "language": "python",
     "metadata": {},
     "outputs": [],
     "prompt_number": 3
    },
    {
     "cell_type": "code",
     "collapsed": false,
     "input": [
      "# basic GUI Hello in Tkinter\n",
      "from Tkinter import *\n",
      "\n",
      "#make a root window\n",
      "root = Tk() ; root.title(\"pack example (grid)\")\n",
      "\n",
      "# stick a label in it and pack it in.\n",
      "q = Button(root, text=\"Quit\",borderwidth=4,bg=\"PeachPuff\")\n",
      "a = Checkbutton(root, text=\"A\",borderwidth=4)\n",
      "b = Checkbutton(root, text=\"B\",borderwidth=4)\n",
      "c = Checkbutton(root, text=\"C\",borderwidth=4)\n",
      "e = Label(root, text=\"What grade should I give you in this class?\",borderwidth=4,bg=\"PeachPuff\",relief=GROOVE)\n",
      "\n",
      "# e.pack(side=TOP,fill=X)\n",
      "# q.pack(side=BOTTOM,expand=1,fill=X)\n",
      "# a.pack(side=LEFT,expand=1)\n",
      "# b.pack(side=LEFT,expand=1)\n",
      "# c.pack(side=LEFT,expand=1)\n",
      "\n",
      "e.grid(row=0, column=0, sticky=(N,E,W), columnspan=3)\n",
      "q.grid(row=2, column=0, sticky=(S,E,W), columnspan=3)\n",
      "a.grid(row=1, column=0)\n",
      "b.grid(row=1, column=1)\n",
      "c.grid(row=1, column=2)\n",
      "\n",
      "#root.rowconfigure(0, weight=1)\n",
      "#root.rowconfigure(1, weight=100)\n",
      "#root.columnconfigure(1, weight=1)\n",
      "\n",
      "# run the main loop\n",
      "root.mainloop()"
     ],
     "language": "python",
     "metadata": {},
     "outputs": [],
     "prompt_number": 25
    },
    {
     "cell_type": "markdown",
     "metadata": {},
     "source": [
      "Mini Breakout!\n",
      "-----\n",
      "Try to get the same gui layout as in the Pack example, but using Grid"
     ]
    },
    {
     "cell_type": "code",
     "collapsed": false,
     "input": [
      "# Breakout\n",
      "from Tkinter import *\n",
      "\n",
      "#make a root window\n",
      "root = Tk() ; root.title(\"pack example\")\n",
      "\n",
      "# stick a label in it and pack it in.\n",
      "q = Button(root, text=\"Quit\",borderwidth=4,bg=\"PeachPuff\")\n",
      "a = Checkbutton(root, text=\"A\",borderwidth=4)\n",
      "b = Checkbutton(root, text=\"B\",borderwidth=4)\n",
      "c = Checkbutton(root, text=\"C\",borderwidth=4)\n",
      "e = Label(root, text=\"What grade should I give you in this class?\",borderwidth=4,bg=\"PeachPuff\",relief=GROOVE)\n",
      "\n",
      "# Pack style\n",
      "#e.pack(side=TOP,fill=X) # Put this button at the top, fill entire width\n",
      "#q.pack(side=BOTTOM,expand=1,fill=X)\n",
      "#a.pack(side=LEFT,expand=1)\n",
      "#b.pack(side=LEFT,expand=1)\n",
      "#c.pack(side=LEFT,expand=1)\n",
      "\n",
      "# Grid Style\n",
      "e.grid(row=0, column=0, sticky=(N,E,W), columnspan=3)\n",
      "q.grid(row=2, column=0, sticky=(S,E,W), columnspan=3)\n",
      "a.grid(row=1, column=0, sticky=(N))\n",
      "b.grid(row=1, column=1, sticky=(N))\n",
      "c.grid(row=1, column=2, sticky=(N))\n",
      "    \n",
      "## get the gridsize and make each row and column expandable \n",
      "# weights = define how they get bigger or smaller\n",
      "for r in range(root.grid_size()[0]):\n",
      "    root.rowconfigure(r, weight=1)\n",
      "for c in range(root.grid_size()[1]):\n",
      "    root.columnconfigure(c, weight=1)\n",
      "\n",
      "# run the main loop\n",
      "root.mainloop()"
     ],
     "language": "python",
     "metadata": {},
     "outputs": [],
     "prompt_number": 16
    },
    {
     "cell_type": "markdown",
     "metadata": {},
     "source": [
      "Events\n",
      "-----\n",
      "- real time updating"
     ]
    },
    {
     "cell_type": "code",
     "collapsed": false,
     "input": [
      "#%load events0.py"
     ],
     "language": "python",
     "metadata": {},
     "outputs": [],
     "prompt_number": 17
    },
    {
     "cell_type": "code",
     "collapsed": false,
     "input": [
      "# basic events (1) GUI stuff\n",
      "#   shows commands and Variables/textvaribles usage\n",
      "# J. S. Bloom (2012) Python Seminar Class AY250\n",
      "\n",
      "from Tkinter import *\n",
      "import sys\n",
      "root = Tk()\n",
      "myvar = StringVar() # declare variable type\n",
      "myvar.set(\"this is the first time I've set\")\n",
      "\n",
      "Entry(root, width=70, textvariable=myvar).pack() # input / entry widget (user enters text)\n",
      "def changing(*args):\n",
      "    print 'Arguments are:', args\n",
      "    print 'Lenght is:', len(args), 'and type is:', type(args)\n",
      "    print 'Type of 1:', type(args[0]), 'type of 2:', type(args[1]), 'type of 3:', type(args[2])\n",
      "    print \"new value for myvar:\", myvar.get()\n",
      "    sys.stdout.flush() # remove 1-lag behind in notebook\n",
      "\n",
      "myvar.trace(\"w\",changing) ; print 'Tkinter calls myvar:', myvar._name\n",
      "myvar.set(\"bye.\")\n",
      "\n",
      "root.mainloop()\n"
     ],
     "language": "python",
     "metadata": {},
     "outputs": [
      {
       "output_type": "stream",
       "stream": "stdout",
       "text": [
        "Tkinter calls myvar: PY_VAR14\n",
        "Arguments are: ('PY_VAR14', '', 'w')\n",
        "Lenght is: 3 and type is: <type 'tuple'>\n",
        "Type of 1: <type 'str'> type of 2: <type 'str'> type of 3: <type 'str'>\n",
        "new value for myvar: bye.\n"
       ]
      },
      {
       "output_type": "stream",
       "stream": "stdout",
       "text": [
        "Arguments are: ('PY_VAR14', '', 'w')\n",
        "Lenght is: 3 and type is: <type 'tuple'>\n",
        "Type of 1: <type 'str'> type of 2: <type 'str'> type of 3: <type 'str'>\n",
        "new value for myvar: bye\n"
       ]
      }
     ],
     "prompt_number": 52
    },
    {
     "cell_type": "markdown",
     "metadata": {},
     "source": [
      "- focus\n",
      "- key binding\n",
      "- enter exit window"
     ]
    },
    {
     "cell_type": "code",
     "collapsed": false,
     "input": [
      "#%load bind.py"
     ],
     "language": "python",
     "metadata": {},
     "outputs": [],
     "prompt_number": 23
    },
    {
     "cell_type": "code",
     "collapsed": false,
     "input": [
      "# basic events binding GUI stuff\n",
      "#   shows binding on a Canvas\n",
      "# J. S. Bloom (2012) Python Seminar Class AY250\n",
      "\n",
      "from Tkinter import *\n",
      "\n",
      "def callback(event):\n",
      "    print {\"4\": \"Button\", \"7\": \"Enter\", \"2\": \"Key\"}[event.type] + \" event->\",\n",
      "    print (event.x,event.y,event.char,event.keysym,\"button:\",event.num)\n",
      "\n",
      "root = Tk()\n",
      "w=Canvas (root) ; w.pack() ; w.focus_set() # focus pulls attention to a specific window\n",
      "callback_name  = w.bind(\"<Button-1>\",callback)\n",
      "callback_name2  = w.bind(\"<Enter>\",callback)\n",
      "callback_name4  = w.bind(\"<Key>\",callback)\n",
      "\n",
      "root.mainloop()\n"
     ],
     "language": "python",
     "metadata": {},
     "outputs": [
      {
       "output_type": "stream",
       "stream": "stdout",
       "text": [
        "Enter event-> (366, 179, '??', '??', 'button:', '??')\n",
        "Enter event->"
       ]
      },
      {
       "output_type": "stream",
       "stream": "stdout",
       "text": [
        " (340, 168, '??', '??', 'button:', '??')\n",
        "Button event-> (340, 168, '??', '??', 'button:', 1)\n",
        "Enter event->"
       ]
      },
      {
       "output_type": "stream",
       "stream": "stdout",
       "text": [
        " (364, 164, '??', '??', 'button:', '??')\n",
        "Enter event->"
       ]
      },
      {
       "output_type": "stream",
       "stream": "stdout",
       "text": [
        " (376, 129, '??', '??', 'button:', '??')\n",
        "Enter event->"
       ]
      },
      {
       "output_type": "stream",
       "stream": "stdout",
       "text": [
        " (288, 136, '??', '??', 'button:', '??')\n",
        "Button event-> (288, 136, '??', '??', 'button:', 1)\n",
        "Enter event->"
       ]
      },
      {
       "output_type": "stream",
       "stream": "stdout",
       "text": [
        " (288, 136, '??', '??', 'button:', '??')\n",
        "Button event-> (288, 136, '??', '??', 'button:', 1)\n",
        "Key event->"
       ]
      },
      {
       "output_type": "stream",
       "stream": "stdout",
       "text": [
        " (288, 136, '\\r', 'Return', 'button:', '??')\n",
        "Key event->"
       ]
      },
      {
       "output_type": "stream",
       "stream": "stdout",
       "text": [
        " (288, 136, 'd', 'd', 'button:', '??')\n",
        "Key event->"
       ]
      },
      {
       "output_type": "stream",
       "stream": "stdout",
       "text": [
        " (288, 136, 'w', 'w', 'button:', '??')\n",
        "Key event->"
       ]
      },
      {
       "output_type": "stream",
       "stream": "stdout",
       "text": [
        " (288, 136, ' ', 'space', 'button:', '??')\n",
        "Enter event->"
       ]
      },
      {
       "output_type": "stream",
       "stream": "stdout",
       "text": [
        " (368, 136, '??', '??', 'button:', '??')\n"
       ]
      }
     ],
     "prompt_number": 54
    },
    {
     "cell_type": "markdown",
     "metadata": {},
     "source": [
      "- button state updating\n",
      "- task idling (idle)"
     ]
    },
    {
     "cell_type": "code",
     "collapsed": false,
     "input": [
      "#%load events.py"
     ],
     "language": "python",
     "metadata": {},
     "outputs": [],
     "prompt_number": 25
    },
    {
     "cell_type": "code",
     "collapsed": false,
     "input": [
      "# basic events GUI stuff\n",
      "#   shows commands and Variables/textvaribles usage\n",
      "# quote of the day\n",
      "# J. S. Bloom (2012) Python Seminar Class AY250\n",
      "\n",
      "from Tkinter import *\n",
      "import urllib2\n",
      "import string \n",
      "\n",
      "#make a root window\n",
      "root = Tk() ; root.title(\"event example\")\n",
      "\n",
      "# make a string variable\n",
      "qt = StringVar()\n",
      "\n",
      "# here are two callback function we'll reference later\n",
      "def report_quote(*args):\n",
      "    # qt will hold quote of the day\n",
      "    print \"Quote changed to:\"\n",
      "    print qt.get()\n",
      "    \n",
      "def show_quote(*args):\n",
      "    # disable the quote button to avoid multiple clicks\n",
      "    a.configure(state=DISABLED)\n",
      "    a.update_idletasks()   # update right away, don't wait \n",
      "    \n",
      "    # grab a new quote from the web\n",
      "    qt.set(\" \".join([string.replace(x,\"&quot;\",\"'\",100) for x in urllib2.urlopen(\"http://www.iheartquotes.com/api/v1/random\").readlines()[:-2]]))\n",
      "    \n",
      "    # set the button state back to normal (enabled) and update all the Event Loop Tasks\n",
      "    a.configure(state=NORMAL) # make the button clickable again, once you're done grabbing the quote\n",
      "    root.update()\n",
      "    \n",
      "# here we set up some widgets...note how we set \n",
      "# the textvariable parameter of the Label e to the StringVar qt\n",
      "# whenever qt changes, so will the textvariable of this Label\n",
      "e  = Label(root,height=15,width=65,justify=LEFT,\\\n",
      "          textvariable=qt,relief=SUNKEN)\n",
      "\n",
      "# destroy() is a method of all widgets in Tk\n",
      "q  = Button(root, text=\"Quit\",command=root.destroy) # destroy the window\n",
      "a  = Button(root, text=\"Get Quote\",command=show_quote)\n",
      "\n",
      "# set the initial variable and set a watch on qt's change\n",
      "# 'w' is for generating an event on writing\n",
      "# 'r' is for generating an event on reading of that variable\n",
      "qt.set(\"Click 'Get Quote'\") ; print 'qt is a StringVar named', qt._name\n",
      "qt.trace(\"w\",report_quote)\n",
      "\n",
      "# pack in all the buttons\n",
      "e.pack(side=TOP,fill=X,expand=1)\n",
      "q.pack(side=LEFT,expand=10)\n",
      "a.pack(side=LEFT,expand=1)\n",
      "\n",
      "# run the main loop\n",
      "root.mainloop()\n"
     ],
     "language": "python",
     "metadata": {},
     "outputs": [
      {
       "output_type": "stream",
       "stream": "stdout",
       "text": [
        "qt is a StringVar named PY_VAR18\n"
       ]
      }
     ],
     "prompt_number": 59
    },
    {
     "cell_type": "markdown",
     "metadata": {},
     "source": [
      "Main Breakout!\n",
      "--------\n",
      "- Make a \"real-time\" calculator, that automatically updates the output with the result of the entered expression as it is being typed, as soon as it is a valid expression"
     ]
    },
    {
     "cell_type": "code",
     "collapsed": false,
     "input": [
      "from Tkinter import *\n",
      "import math # can use e and pi etc.\n",
      "\n",
      "#make a root window\n",
      "root = Tk()\n",
      "root.title(\"Real Time Calculator\")\n",
      "\n",
      "# Create widgets\n",
      "calc_output = Label(root, text=\"output here\") # output to display the result\n",
      "calc_input = StringVar() # input from user\n",
      "calc_input.set('Type math here')\n",
      "\n",
      "# Place widgets\n",
      "calc_output.pack(side=TOP,expand=1,fill=X) # geometry manager\n",
      "Entry(root, textvariable=calc_input).pack(side=TOP, expand=1, fill=X) # input below output\n",
      "\n",
      "# Define call-back function\n",
      "def calculate(*args):\n",
      "    safe_eval = lambda expr: eval(expr, dict(__builtins__=None), vars(math)) # make sure expression is safe\n",
      "    expression = calc_input.get()\n",
      "    try:\n",
      "        calc_output.configure(text=str(safe_eval(expression)))\n",
      "    except ZeroDivisionError:\n",
      "        calc_output.configure(text=\"Cannot divide by zero!\")\n",
      "    except:\n",
      "        pass # some zero division errors?\n",
      "\n",
      "# Monitor user's input\n",
      "calc_input.trace(\"w\",calculate) # monitor if user writes (\"w\"), and if so, call the calculate call-back function\n",
      "\n",
      "# run the main loop\n",
      "root.mainloop()"
     ],
     "language": "python",
     "metadata": {},
     "outputs": [],
     "prompt_number": 66
    },
    {
     "cell_type": "markdown",
     "metadata": {},
     "source": [
      "Traits\n",
      "------"
     ]
    },
    {
     "cell_type": "code",
     "collapsed": false,
     "input": [
      "#%load traits1.py"
     ],
     "language": "python",
     "metadata": {},
     "outputs": [],
     "prompt_number": 48
    },
    {
     "cell_type": "code",
     "collapsed": false,
     "input": [
      "try:\n",
      "\tfrom enthought.traits.api import HasTraits, Str, \\\n",
      "            Int, Directory, RGBColor, Float, Array, Enum\n",
      "\tfrom enthought.traits.ui.api import View, Item, Group\n",
      "except:\n",
      "\tfrom traits.api import HasTraits, Str, \\\n",
      "            Int, Directory, RGBColor, Float, Array, Enum\n",
      "\tfrom traitsui.api import View, Item, Group\t\n",
      "\n",
      "class Bear(HasTraits):\n",
      "    name = Str\n",
      "    color = RGBColor(\"gold\")\n",
      "    weight = Float # must declare variable type, so can do validation\n",
      "    location = Array()\n",
      "    favorite_food = Enum(\"Honey\",\"Turkey\",\"PaloAltian\",default=\"Honey\")\n",
      "    datadir = Directory(\"./\")\n",
      "    \n",
      "yogi = Bear(name=\"Yogi\",weight=34.0,location=(131.2,+31.1))\n",
      "yogi.configure_traits()\n"
     ],
     "language": "python",
     "metadata": {},
     "outputs": [
      {
       "metadata": {},
       "output_type": "pyout",
       "prompt_number": 60,
       "text": [
        "True"
       ]
      }
     ],
     "prompt_number": 60
    },
    {
     "cell_type": "markdown",
     "metadata": {},
     "source": [
      "- buttons in traits"
     ]
    },
    {
     "cell_type": "code",
     "collapsed": false,
     "input": [
      "#%load button.py"
     ],
     "language": "python",
     "metadata": {},
     "outputs": [],
     "prompt_number": 51
    },
    {
     "cell_type": "code",
     "collapsed": false,
     "input": [
      "try:\n",
      "\tfrom enthought.traits import *\n",
      "\tfrom enthought.pyface.api import GUI\n",
      "\tfrom enthought.traits.api import HasTraits, Int, Button\n",
      "\tfrom enthought.traits.ui.api import View, Item, ButtonEditor\n",
      "except:\n",
      "\tfrom traits import *\n",
      "\t#from pyface.api import GUI\n",
      "\tfrom traits.api import HasTraits, Int, Button\n",
      "\tfrom traitsui.api import View, Item, ButtonEditor\t\n",
      "\n",
      "class Counter(HasTraits):\n",
      "    value =  Int()\n",
      "    add_one = Button()\n",
      "    def _add_one_fired(self): # notation: _variablename_fired -- function to call when button is \"fired\" (triggered)\n",
      "        self.value +=1\n",
      "    view = View('value', Item('add_one', show_label=False ))\n",
      "\n",
      "#Counter().edit_traits()\n",
      "#GUI().start_event_loop()\n",
      "Counter().configure_traits()\n",
      "\n"
     ],
     "language": "python",
     "metadata": {},
     "outputs": [
      {
       "metadata": {},
       "output_type": "pyout",
       "prompt_number": 62,
       "text": [
        "True"
       ]
      }
     ],
     "prompt_number": 62
    },
    {
     "cell_type": "markdown",
     "metadata": {},
     "source": [
      "- real time calculator with traits"
     ]
    },
    {
     "cell_type": "code",
     "collapsed": false,
     "input": [
      "#%load icalc.py"
     ],
     "language": "python",
     "metadata": {},
     "outputs": [],
     "prompt_number": 54
    },
    {
     "cell_type": "code",
     "collapsed": false,
     "input": [
      "# useful Traits-based GUI instant calc\n",
      "# J. S. Bloom (2012) Python Seminar Class AY250\n",
      "\n",
      "try:\n",
      "\tfrom enthought.traits.api import HasTraits, Str, Float ; import math\n",
      "except:\n",
      "\tfrom traits.api import HasTraits, Str, Float ; import math\n",
      "\t\n",
      "seval = lambda expr: eval(expr, dict(__builtins__=None), vars(math))\n",
      "\n",
      "class Calc(HasTraits):\n",
      "    expression = Str\n",
      "    rez        = Str(\"Type an expression\")\n",
      "    def _expression_changed(self, old, new):\n",
      "            try:\n",
      "                self.rez = str(seval(new))\n",
      "            except:\n",
      "                pass\n",
      "\n",
      "c = Calc() ; c.configure_traits()\n"
     ],
     "language": "python",
     "metadata": {},
     "outputs": [
      {
       "metadata": {},
       "output_type": "pyout",
       "prompt_number": 64,
       "text": [
        "True"
       ]
      }
     ],
     "prompt_number": 64
    },
    {
     "cell_type": "markdown",
     "metadata": {},
     "source": [
      "- now control the layout\n",
      "- views"
     ]
    },
    {
     "cell_type": "code",
     "collapsed": false,
     "input": [
      "#%load icalc1.py"
     ],
     "language": "python",
     "metadata": {},
     "outputs": [],
     "prompt_number": 59
    },
    {
     "cell_type": "code",
     "collapsed": false,
     "input": [
      "# useful Traits-based GUI instant calc\n",
      "# J. S. Bloom (2012) Python Seminar Class AY250\n",
      "\n",
      "try:\n",
      "  from enthought.traits.api import HasTraits, Str, Float ; import math\n",
      "  from enthought.traits.ui.api import View, Group, Item\n",
      "except:\n",
      "  from traits.api import HasTraits, Str, Float ; import math\n",
      "  from traitsui.api import View, Group, Item \n",
      "  \n",
      "seval = lambda expr: eval(expr, dict(__builtins__=None), vars(math))\n",
      "\n",
      "class Calc(HasTraits):\n",
      "    expression = Str\n",
      "    rez        = Str(\"Type an expression below\")\n",
      "    def _expression_changed(self, old, new):\n",
      "            try:\n",
      "                self.rez = str(seval(new))\n",
      "            except:\n",
      "                self.rez = \"\"\n",
      "                \n",
      "view1 = View(Item('rez',width=-250,resizable=True,padding=2,\n",
      "                  label=\"Result\",enabled_when=\"False\",full_size=True),\n",
      "             Item('expression', width=-250,resizable=True),\n",
      "                  title='Instant Calc',resizable=True,\n",
      "                  buttons=['OK'],scrollable=False)\n",
      "                \n",
      "c = Calc() ; c.configure_traits(view=view1)\n"
     ],
     "language": "python",
     "metadata": {},
     "outputs": [
      {
       "metadata": {},
       "output_type": "pyout",
       "prompt_number": 65,
       "text": [
        "True"
       ]
      }
     ],
     "prompt_number": 65
    },
    {
     "cell_type": "markdown",
     "metadata": {},
     "source": [
      "More Traits"
     ]
    },
    {
     "cell_type": "code",
     "collapsed": false,
     "input": [
      "#%load traits2.py"
     ],
     "language": "python",
     "metadata": {},
     "outputs": [],
     "prompt_number": 61
    },
    {
     "cell_type": "code",
     "collapsed": false,
     "input": [
      "try:\n",
      "    from enthought.traits.api import HasTraits, Str, \\\n",
      "            Int, Float, Enum,DelegatesTo,This,Instance\n",
      "    from enthought.traits.ui.api import View, Item, Group\n",
      "except:\n",
      "    from traits.api import HasTraits, Str, \\\n",
      "            Int, Float, Enum,DelegatesTo,This,Instance\n",
      "    from traitsui.api import View, Item, Group \n",
      "      \n",
      "import sys\n",
      "\n",
      "class Bear(HasTraits):\n",
      "    first_name = Str\n",
      "    weight = Float\n",
      "    favorite_food = Enum(\"Honey\",\"Turkey\",\"PaloAltian\",default=\"Honey\")\n",
      "\n",
      "class Parent(Bear):\n",
      "    last_name = Str\n",
      "    def _last_name_changed(self, old, new):\n",
      "            print \"Parent's last name changed to %s (was = '%s').\" % (new,old)\n",
      "            sys.stdout.flush()\n",
      "            \n",
      "class Cub(Bear):\n",
      "    last_name  = DelegatesTo('father') # delegate out\n",
      "    father = Instance(Parent)\n",
      "    mother = Instance(Parent)\n",
      "    \n",
      "yogi  = Parent(first_name=\"Yogi\",weight=34.0,last_name=\"Morgan\")\n",
      "sally = Parent(first_name=\"Sally\",weight=30.0,last_name=\"Klein\")\n",
      "oski = Cub(first_name=\"Oski\",weight=39.0,father=yogi,mother=sally)\n",
      "\n",
      "oski.configure_traits()\n"
     ],
     "language": "python",
     "metadata": {},
     "outputs": [
      {
       "output_type": "stream",
       "stream": "stdout",
       "text": [
        "Parent's last name changed to Morgan (was = '').\n"
       ]
      },
      {
       "output_type": "stream",
       "stream": "stdout",
       "text": [
        "Parent's last name changed to Klein (was = '').\n"
       ]
      },
      {
       "output_type": "stream",
       "stream": "stdout",
       "text": [
        "Parent's last name changed to G (was = 'Klein').\n"
       ]
      },
      {
       "output_type": "stream",
       "stream": "stdout",
       "text": [
        "Parent's last name changed to Go (was = 'G').\n"
       ]
      },
      {
       "output_type": "stream",
       "stream": "stdout",
       "text": [
        "Parent's last name changed to Gol (was = 'Go').\n"
       ]
      },
      {
       "output_type": "stream",
       "stream": "stdout",
       "text": [
        "Parent's last name changed to Gold (was = 'Gol').\n"
       ]
      },
      {
       "output_type": "stream",
       "stream": "stdout",
       "text": [
        "Parent's last name changed to Goldb (was = 'Gold').\n"
       ]
      },
      {
       "output_type": "stream",
       "stream": "stdout",
       "text": [
        "Parent's last name changed to Goldbe (was = 'Goldb').\n"
       ]
      },
      {
       "output_type": "stream",
       "stream": "stdout",
       "text": [
        "Parent's last name changed to Goldber (was = 'Goldbe').\n"
       ]
      },
      {
       "output_type": "stream",
       "stream": "stdout",
       "text": [
        "Parent's last name changed to Goldberg (was = 'Goldber').\n"
       ]
      },
      {
       "output_type": "stream",
       "stream": "stdout",
       "text": [
        "Parent's last name changed to t (was = 'Morgan').\n"
       ]
      },
      {
       "output_type": "stream",
       "stream": "stdout",
       "text": [
        "Parent's last name changed to ta (was = 't').\n"
       ]
      },
      {
       "output_type": "stream",
       "stream": "stdout",
       "text": [
        "Parent's last name changed to tao (was = 'ta').\n"
       ]
      },
      {
       "output_type": "stream",
       "stream": "stdout",
       "text": [
        "Parent's last name changed to ta (was = 'tao').\n"
       ]
      },
      {
       "output_type": "stream",
       "stream": "stdout",
       "text": [
        "Parent's last name changed to tac (was = 'ta').\n"
       ]
      },
      {
       "output_type": "stream",
       "stream": "stdout",
       "text": [
        "Parent's last name changed to taco (was = 'tac').\n"
       ]
      },
      {
       "output_type": "stream",
       "stream": "stdout",
       "text": [
        "Parent's last name changed to tac (was = 'taco').\n"
       ]
      },
      {
       "output_type": "stream",
       "stream": "stdout",
       "text": [
        "Parent's last name changed to tao (was = 'tac').\n"
       ]
      },
      {
       "output_type": "stream",
       "stream": "stdout",
       "text": [
        "Parent's last name changed to ta (was = 'tao').\n"
       ]
      },
      {
       "output_type": "stream",
       "stream": "stdout",
       "text": [
        "Parent's last name changed to t (was = 'ta').\n"
       ]
      },
      {
       "output_type": "stream",
       "stream": "stdout",
       "text": [
        "Parent's last name changed to Morgan (was = 't').\n"
       ]
      },
      {
       "metadata": {},
       "output_type": "pyout",
       "prompt_number": 62,
       "text": [
        "True"
       ]
      }
     ],
     "prompt_number": 62
    },
    {
     "cell_type": "markdown",
     "metadata": {},
     "source": [
      "matplotlib widgets\n",
      "-----\n",
      "slider demo"
     ]
    },
    {
     "cell_type": "code",
     "collapsed": false,
     "input": [
      "#%load slider_demo.py"
     ],
     "language": "python",
     "metadata": {},
     "outputs": [],
     "prompt_number": 63
    },
    {
     "cell_type": "code",
     "collapsed": false,
     "input": [
      "from pylab import *\n",
      "from matplotlib.widgets import Slider, Button, RadioButtons\n",
      "\n",
      "ax = subplot(111)\n",
      "subplots_adjust(left=0.25, bottom=0.25)\n",
      "t = arange(0.0, 1.0, 0.001)\n",
      "a0 = 5\n",
      "f0 = 3\n",
      "s = a0*sin(2*pi*f0*t)\n",
      "l, = plot(t,s, lw=2, color='red')\n",
      "axis([0, 1, -10, 10])\n",
      "\n",
      "axcolor = 'lightgoldenrodyellow'\n",
      "axfreq = axes([0.25, 0.1, 0.65, 0.03], axisbg=axcolor)\n",
      "axamp  = axes([0.25, 0.15, 0.65, 0.03], axisbg=axcolor)\n",
      "\n",
      "sfreq = Slider(axfreq, 'Freq', 0.1, 30.0, valinit=f0)\n",
      "samp = Slider(axamp, 'Amp', 0.1, 10.0, valinit=a0)\n",
      "\n",
      "def update(val):\n",
      "    amp = samp.val\n",
      "    freq = sfreq.val\n",
      "    l.set_ydata(amp*sin(2*pi*freq*t))\n",
      "    draw()\n",
      "sfreq.on_changed(update)\n",
      "samp.on_changed(update)\n",
      "\n",
      "resetax = axes([0.8, 0.025, 0.1, 0.04])\n",
      "button = Button(resetax, 'Reset', color=axcolor, hovercolor='0.975')\n",
      "def reset(event):\n",
      "    sfreq.reset()\n",
      "    samp.reset()\n",
      "button.on_clicked(reset)\n",
      "\n",
      "rax = axes([0.025, 0.5, 0.15, 0.15], axisbg=axcolor)\n",
      "radio = RadioButtons(rax, ('red', 'blue', 'green'), active=0)\n",
      "def colorfunc(label):\n",
      "    l.set_color(label)\n",
      "    draw()\n",
      "radio.on_clicked(colorfunc)\n",
      "\n",
      "show()\n",
      "\n"
     ],
     "language": "python",
     "metadata": {},
     "outputs": [],
     "prompt_number": 69
    },
    {
     "cell_type": "code",
     "collapsed": false,
     "input": [
      "#%load mpl_figure_editor.py"
     ],
     "language": "python",
     "metadata": {},
     "outputs": [],
     "prompt_number": 1
    },
    {
     "cell_type": "code",
     "collapsed": false,
     "input": [
      "import wx\n",
      "\n",
      "import matplotlib\n",
      "# We want matplotlib to use a wxPython backend\n",
      "matplotlib.use('WXAgg')\n",
      "from matplotlib.backends.backend_wxagg import FigureCanvasWxAgg as FigureCanvas\n",
      "from matplotlib.figure import Figure\n",
      "from matplotlib.backends.backend_wx import NavigationToolbar2Wx\n",
      "\n",
      "try:\n",
      "    from enthought.traits.api import Any, Instance\n",
      "    from enthought.traits.ui.wx.editor import Editor\n",
      "    from enthought.traits.ui.wx.basic_editor_factory import BasicEditorFactory\n",
      "except:\n",
      "    from traits.api import Any, Instance\n",
      "    from traitsui.wx.editor import Editor\n",
      "    from traitsui.wx.basic_editor_factory import BasicEditorFactory\n",
      "\n",
      "class _MPLFigureEditor(Editor):\n",
      "\n",
      "    scrollable  = True\n",
      "\n",
      "    def init(self, parent):\n",
      "        self.control = self._create_canvas(parent)\n",
      "        self.set_tooltip()\n",
      "        \n",
      "    def update_editor(self):\n",
      "        pass\n",
      "\n",
      "    def _create_canvas(self, parent):\n",
      "        \"\"\" Create the MPL canvas. \"\"\"\n",
      "        # The panel lets us add additional controls.\n",
      "        panel = wx.Panel(parent, -1, style=wx.CLIP_CHILDREN)\n",
      "        sizer = wx.BoxSizer(wx.VERTICAL)\n",
      "        panel.SetSizer(sizer)\n",
      "        # matplotlib commands to create a canvas\n",
      "        mpl_control = FigureCanvas(panel, -1, self.value)\n",
      "        sizer.Add(mpl_control, 1, wx.LEFT | wx.TOP | wx.GROW)\n",
      "        toolbar = NavigationToolbar2Wx(mpl_control)\n",
      "        sizer.Add(toolbar, 0, wx.EXPAND)\n",
      "        self.value.canvas.SetMinSize((10,10))\n",
      "        return panel\n",
      "\n",
      "class MPLFigureEditor(BasicEditorFactory):\n",
      "\n",
      "    klass = _MPLFigureEditor\n",
      "\n",
      "\n",
      "if __name__ == \"__main__\":\n",
      "    # Create a window to demo the editor\n",
      "    from enthought.traits.api import HasTraits\n",
      "    from enthought.traits.ui.api import View, Item\n",
      "    from numpy import sin, cos, linspace, pi\n",
      "\n",
      "    class Test(HasTraits):\n",
      "\n",
      "        figure = Instance(Figure, ())\n",
      "\n",
      "        view = View(Item('figure', editor=MPLFigureEditor(),\n",
      "                                show_label=False),\n",
      "                        width=400,\n",
      "                        height=300,\n",
      "                        resizable=True)\n",
      "\n",
      "        def __init__(self):\n",
      "            super(Test, self).__init__()\n",
      "            axes = self.figure.add_subplot(111)\n",
      "            t = linspace(0, 2*pi, 200)\n",
      "            axes.plot(sin(t)*(1+0.5*cos(11*t)), cos(t)*(1+0.5*cos(11*t)))\n",
      "\n",
      "    Test().configure_traits()\n",
      "\n"
     ],
     "language": "python",
     "metadata": {},
     "outputs": [
      {
       "ename": "ImportError",
       "evalue": "No module named wx",
       "output_type": "pyerr",
       "traceback": [
        "\u001b[0;31m---------------------------------------------------------------------------\u001b[0m\n\u001b[0;31mImportError\u001b[0m                               Traceback (most recent call last)",
        "\u001b[0;32m<ipython-input-66-418e07e83d7a>\u001b[0m in \u001b[0;36m<module>\u001b[0;34m()\u001b[0m\n\u001b[0;32m----> 1\u001b[0;31m \u001b[0;32mimport\u001b[0m \u001b[0mwx\u001b[0m\u001b[0;34m\u001b[0m\u001b[0m\n\u001b[0m\u001b[1;32m      2\u001b[0m \u001b[0;34m\u001b[0m\u001b[0m\n\u001b[1;32m      3\u001b[0m \u001b[0;32mimport\u001b[0m \u001b[0mmatplotlib\u001b[0m\u001b[0;34m\u001b[0m\u001b[0m\n\u001b[1;32m      4\u001b[0m \u001b[0;31m# We want matplotlib to use a wxPython backend\u001b[0m\u001b[0;34m\u001b[0m\u001b[0;34m\u001b[0m\u001b[0m\n\u001b[1;32m      5\u001b[0m \u001b[0mmatplotlib\u001b[0m\u001b[0;34m.\u001b[0m\u001b[0muse\u001b[0m\u001b[0;34m(\u001b[0m\u001b[0;34m'WXAgg'\u001b[0m\u001b[0;34m)\u001b[0m\u001b[0;34m\u001b[0m\u001b[0m\n",
        "\u001b[0;31mImportError\u001b[0m: No module named wx"
       ]
      }
     ],
     "prompt_number": 66
    },
    {
     "cell_type": "code",
     "collapsed": false,
     "input": [
      "#%load mpl.py"
     ],
     "language": "python",
     "metadata": {},
     "outputs": [],
     "prompt_number": 2
    },
    {
     "cell_type": "code",
     "collapsed": false,
     "input": [
      "try:\n",
      "  from enthought.traits.api import HasTraits, Str, Float, Instance; import math\n",
      "  from enthought.traits.ui.api import View, Item, ButtonEditor\n",
      "except:\n",
      "  from traits.api import HasTraits, Str, Float, Instance; import math\n",
      "  from traitsui.api import View, Item, ButtonEditor\n",
      "\n",
      "from matplotlib.figure import Figure\n",
      "\n",
      "from mpl_figure_editor import MPLFigureEditor\n",
      "import numpy as np\n",
      "\n",
      "class Test(HasTraits):\n",
      "\n",
      "  figure = Instance(Figure, ())\n",
      "\n",
      "  view = View(Item('figure', editor=MPLFigureEditor(),\n",
      "                                show_label=False),\n",
      "                        width=400,\n",
      "                        height=300,\n",
      "                        resizable=True)\n",
      "  def __init__(self):\n",
      "     super(Test, self).__init__()\n",
      "     axes = self.figure.add_subplot(111)\n",
      "     t = np.linspace(0, 2*np.pi, 200)\n",
      "     axes.plot(np.sin(t)*(1+0.5*np.cos(11*t)), np.cos(t)*(1+0.5*np.cos(11*t)))\n",
      "\n",
      "t = Test()\n",
      "t.configure_traits()"
     ],
     "language": "python",
     "metadata": {},
     "outputs": [
      {
       "ename": "ImportError",
       "evalue": "No module named mpl_figure_editor",
       "output_type": "pyerr",
       "traceback": [
        "\u001b[0;31m---------------------------------------------------------------------------\u001b[0m\n\u001b[0;31mImportError\u001b[0m                               Traceback (most recent call last)",
        "\u001b[0;32m<ipython-input-67-c43276811fe7>\u001b[0m in \u001b[0;36m<module>\u001b[0;34m()\u001b[0m\n\u001b[1;32m      8\u001b[0m \u001b[0;32mfrom\u001b[0m \u001b[0mmatplotlib\u001b[0m\u001b[0;34m.\u001b[0m\u001b[0mfigure\u001b[0m \u001b[0;32mimport\u001b[0m \u001b[0mFigure\u001b[0m\u001b[0;34m\u001b[0m\u001b[0m\n\u001b[1;32m      9\u001b[0m \u001b[0;34m\u001b[0m\u001b[0m\n\u001b[0;32m---> 10\u001b[0;31m \u001b[0;32mfrom\u001b[0m \u001b[0mmpl_figure_editor\u001b[0m \u001b[0;32mimport\u001b[0m \u001b[0mMPLFigureEditor\u001b[0m\u001b[0;34m\u001b[0m\u001b[0m\n\u001b[0m\u001b[1;32m     11\u001b[0m \u001b[0;32mimport\u001b[0m \u001b[0mnumpy\u001b[0m \u001b[0;32mas\u001b[0m \u001b[0mnp\u001b[0m\u001b[0;34m\u001b[0m\u001b[0m\n\u001b[1;32m     12\u001b[0m \u001b[0;34m\u001b[0m\u001b[0m\n",
        "\u001b[0;31mImportError\u001b[0m: No module named mpl_figure_editor"
       ]
      }
     ],
     "prompt_number": 67
    },
    {
     "cell_type": "code",
     "collapsed": false,
     "input": [
      "#%load tmpl.py"
     ],
     "language": "python",
     "metadata": {},
     "outputs": [],
     "prompt_number": 5
    },
    {
     "cell_type": "code",
     "collapsed": false,
     "input": [
      "from mpl_figure_editor import MPLFigureEditor\n",
      "\n",
      "# do pip install wx\n",
      "import wx\n",
      " \n",
      "import matplotlib\n",
      "# We want matplotlib to use a wxPython backend\n",
      "matplotlib.use('WxAgg')\n",
      "from matplotlib.backends.backend_wxagg import FigureCanvasWxAgg as FigureCanvas\n",
      "from matplotlib.figure import Figure\n",
      "from matplotlib.backends.backend_wx import NavigationToolbar2Wx\n",
      "\n",
      "try:\n",
      "    from enthought.traits.api import Any, Instance\n",
      "\n",
      "    from enthought.traits.api import HasTraits\n",
      "    from enthought.traits.ui.api import View, Item\n",
      "except:\n",
      "    from traits.api import Any, Instance\n",
      "    from traits.api import HasTraits\n",
      "    from traitsui.api import View, Item\n",
      "\n",
      "from numpy import sin, cos, linspace, pi\n",
      "\n",
      "class Test(HasTraits):\n",
      "\n",
      "        figure = Instance(Figure, ())\n",
      "\n",
      "\tview = View(Item('figure', editor=MPLFigureEditor(),\n",
      "                                show_label=False),\n",
      "                        width=400,\n",
      "                        height=300,\n",
      "                        resizable=True)\n",
      "\n",
      "        def __init__(self):\n",
      "            super(Test, self).__init__()\n",
      "            axes = self.figure.add_subplot(111)\n",
      "            t = linspace(0, 2*pi, 200)\n",
      "            axes.plot(sin(t)*(1+0.5*cos(11*t)), cos(t)*(1+0.5*cos(11*t)))\n",
      "\n",
      "Test().configure_traits()\n"
     ],
     "language": "python",
     "metadata": {},
     "outputs": [
      {
       "ename": "ImportError",
       "evalue": "No module named mpl_figure_editor",
       "output_type": "pyerr",
       "traceback": [
        "\u001b[0;31m---------------------------------------------------------------------------\u001b[0m\n\u001b[0;31mImportError\u001b[0m                               Traceback (most recent call last)",
        "\u001b[0;32m<ipython-input-68-152526bfae24>\u001b[0m in \u001b[0;36m<module>\u001b[0;34m()\u001b[0m\n\u001b[0;32m----> 1\u001b[0;31m \u001b[0;32mfrom\u001b[0m \u001b[0mmpl_figure_editor\u001b[0m \u001b[0;32mimport\u001b[0m \u001b[0mMPLFigureEditor\u001b[0m\u001b[0;34m\u001b[0m\u001b[0m\n\u001b[0m\u001b[1;32m      2\u001b[0m \u001b[0;34m\u001b[0m\u001b[0m\n\u001b[1;32m      3\u001b[0m \u001b[0;31m# do pip install wx\u001b[0m\u001b[0;34m\u001b[0m\u001b[0;34m\u001b[0m\u001b[0m\n\u001b[1;32m      4\u001b[0m \u001b[0;32mimport\u001b[0m \u001b[0mwx\u001b[0m\u001b[0;34m\u001b[0m\u001b[0m\n\u001b[1;32m      5\u001b[0m \u001b[0;34m\u001b[0m\u001b[0m\n",
        "\u001b[0;31mImportError\u001b[0m: No module named mpl_figure_editor"
       ]
      }
     ],
     "prompt_number": 68
    }
   ],
   "metadata": {}
  }
 ]
}