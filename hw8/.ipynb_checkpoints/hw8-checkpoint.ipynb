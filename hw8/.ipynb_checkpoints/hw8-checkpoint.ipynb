{
 "metadata": {
  "name": ""
 },
 "nbformat": 3,
 "nbformat_minor": 0,
 "worksheets": [
  {
   "cells": [
    {
     "cell_type": "markdown",
     "metadata": {},
     "source": [
      "Homework #8\n",
      "----------\n",
      "Sean Lubner"
     ]
    },
    {
     "cell_type": "code",
     "collapsed": false,
     "input": [
      "temproot = Tk()\n",
      "\n",
      "im_array = imread('test_image.jpg')\n",
      "fig = plt.figure()\n",
      "im = plt.imshow(im_array)\n",
      "ax = plt.gca()\n",
      "toy = FigureCanvasTkAgg(fig, master=temproot)\n",
      "toy.get_tk_widget?"
     ],
     "language": "python",
     "metadata": {},
     "outputs": [],
     "prompt_number": 21
    },
    {
     "cell_type": "code",
     "collapsed": false,
     "input": [
      "from Tkinter import *\n",
      "import matplotlib, sys\n",
      "from matplotlib.image import imread\n",
      "import matplotlib.pyplot as plt\n",
      "from matplotlib.backends.backend_tkagg import FigureCanvasTkAgg\n",
      "#matplotlib.use('TkAgg')\n",
      "#from scipy import ndimage\n",
      "\n",
      "# Make a root window\n",
      "root = Tk()\n",
      "root.title(\"Image Manipulator\")\n",
      "#root.minsize(120,50)\n",
      "#root.maxsize(700,500)\n",
      "root.columnconfigure(0, weight=1) # let this column expand in width when window is resized\n",
      "\n",
      "# Define Buttons and Functions\n",
      "def search_for_images(*args):\n",
      "    im_array = imread('test_image.jpg')\n",
      "    fig = plt.figure()\n",
      "    im = plt.imshow(im_array)\n",
      "    ax = plt.gca()\n",
      "    canvas = matplotlib.backends.backend_tkagg.FigureCanvasTkAgg(fig, master=image_box)\n",
      "    canvas.show()\n",
      "    canvas.get_tk_widget().grid(row=0, column=0)\n",
      "    print 'The \"Search Images\" button was pressed for query:', query.get()\n",
      "    sys.stdout.flush() # remove 1-lag behind in notebook\n",
      "    \n",
      "def manipulation(*args):\n",
      "    # Placeholder for image manipulations\n",
      "    print 'Tried to manipulate the image'\n",
      "    sys.stdout.flush() # remove 1-lag behind in notebook\n",
      "\n",
      "# -------------------------------------- Layout --------------------------------------\n",
      "# Input\n",
      "input_label=Frame(root)\n",
      "input_label.grid(row=0, column=0, sticky=(S,E,W))\n",
      "Frame(input_label, height=20).grid(row=0, column=0) # spacer\n",
      "Label(input_label, text='Input', padx=10).grid(row=1, column=0, sticky=(S,W)) # Define \"input\" region\n",
      "\n",
      "input_box = Frame(root, relief=SUNKEN) # container to hold input items\n",
      "input_box.grid(row=1, column=0, sticky=(N,S,W,E)) # Glue box to all four edges\n",
      "query = StringVar() # String variable to hold the search query\n",
      "Label(input_box, text='Query string:').grid(row=1, column=0, sticky=(E)) # within input_box, show label of entry region\n",
      "Entry(input_box, textvariable=query).grid(row=1, column=1, sticky=(W,E)) # Entry widget for query, fills available space\n",
      "input_box.columnconfigure(1, weight=1) # let the Entry field expand when window is resized\n",
      "query_button = Button(input_box, text='Search Images', command=search_for_images).grid(row=1, column=3, sticky=(W), padx=20) # button\n",
      "\n",
      "\n",
      "# Display URL\n",
      "URL_label=Frame(root)\n",
      "URL_label.grid(row=2, column=0, sticky=(S,E,W))\n",
      "Frame(URL_label, height=20).grid(row=0, column=0) # spacer\n",
      "Label(URL_label, text='Image URL', padx=10).grid(row=1, column=0, sticky=(S,W))\n",
      "\n",
      "URL_box = Frame(root, relief=SUNKEN)\n",
      "URL_box.grid(row=3, column=0, sticky=(N,S,W,E)) # Glue box to all four edges\n",
      "URL = StringVar()\n",
      "URL.set('www.this.is/a/test_URL')\n",
      "Label(URL_box, textvariable=URL).grid(row = 1, column = 0, sticky=(W))\n",
      "\n",
      "\n",
      "# Display Image\n",
      "display_label=Frame(root)\n",
      "display_label.grid(row=4, column=0, sticky=(S,E,W))\n",
      "Frame(display_label, height=20).grid(row=0, column=0) # spacer\n",
      "Label(display_label, text='Image Display', padx=10).grid(row=1, column=0, sticky=(S,W))\n",
      "\n",
      "image_box = Frame(root, relief=SUNKEN)\n",
      "image_box.grid(row=5, column=0, sticky=(N,S,W,E)) # Glue box to all four edges\n",
      "root.rowconfigure(5, weight=1)\n",
      "#Frame(image_box, height=400, bg='blue').grid(row=0, column=0, sticky=(N,S,E,W), padx=20, pady=10) # Placeholder for image\n",
      "image_box.columnconfigure(0, weight=1)\n",
      "\n",
      "\n",
      "# Image Manipulations\n",
      "manipulations_label=Frame(root)\n",
      "manipulations_label.grid(row=6, column=0, sticky=(S,E,W))\n",
      "Frame(manipulations_label, height=20).grid(row=0, column=0) # spacer\n",
      "Label(manipulations_label, text='Image Manipulations Options', padx=10).grid(row=1, column=0, sticky=(S,W))\n",
      "\n",
      "manipulations_box = Frame(root, relief=SUNKEN) \n",
      "manipulations_box.grid(row=7, column=0, sticky=(N,S,W,E)) # Glue box to all four edges\n",
      "b1 = Button(manipulations_box, text='Manipulation 1', command=manipulation).grid(row=1, column=0, sticky=(N))\n",
      "b2 = Button(manipulations_box, text='Manipulation 2', command=manipulation).grid(row=1, column=1, sticky=(N))\n",
      "b3 = Button(manipulations_box, text='Manipulation 3', command=manipulation).grid(row=1, column=2, sticky=(N))\n",
      "sys.stdout.flush() # remove 1-lag behind in notebook\n",
      "for c in range(manipulations_box.grid_size()[0]):\n",
      "    manipulations_box.columnconfigure(c, weight=1)\n",
      "    \n",
      "Frame(root, height=10).grid(row=8, column=0) # spacer at bottom\n",
      "\n",
      "root.mainloop()"
     ],
     "language": "python",
     "metadata": {},
     "outputs": [
      {
       "output_type": "stream",
       "stream": "stdout",
       "text": [
        "The \"Search Images\" button was pressed for query: \n"
       ]
      }
     ],
     "prompt_number": 24
    },
    {
     "cell_type": "code",
     "collapsed": false,
     "input": [
      "def changing(*args):\n",
      "    print 'Arguments are:', args\n",
      "    print 'Lenght is:', len(args), 'and type is:', type(args)\n",
      "    print 'Type of 1:', type(args[0]), 'type of 2:', type(args[1]), 'type of 3:', type(args[2])\n",
      "    print \"new value for myvar:\", myvar.get()\n",
      "    sys.stdout.flush() # remove 1-lag behind in notebook\n",
      "\n",
      "myvar.trace(\"w\",changing) ; print 'Tkinter calls myvar:', myvar._name\n",
      "myvar.set(\"bye.\")\n",
      "\n",
      "#b = Label(root, text=\"B\",borderwidth=4,bg=\"LightBlue\",relief=RIDGE)\n",
      "#c = Label(root, text=\"C\",borderwidth=4,bg=\"PeachPuff\",relief=GROOVE) # different styles\n",
      "#h = Label(root, text=\"H\",borderwidth=4,bg=\"PeachPuff\",relief=SUNKEN)\n",
      "#j = Label(root, text=\"J\",borderwidth=4,bg=\"PeachPuff\",padx=30,relief=GROOVE) # some padding\n",
      "\n",
      "#grid style\n",
      "#d.grid(row=0,column=3,sticky=(N,S,W,E),columnspan=2,rowspan=2)\n",
      "#k.grid(row=2,column=4,sticky=(N,S,W,E),ipadx=30,ipady=30)\n",
      "\n",
      "# Pack style\n",
      "#e.pack(side=TOP,fill=X) # Put this button at the top, fill entire width\n",
      "#q.pack(side=BOTTOM,expand=1,fill=X)\n",
      "#a.pack(side=LEFT,expand=1)\n",
      "#b.pack(side=LEFT,expand=1)\n",
      "#c.pack(side=LEFT,expand=1)\n",
      "    \n",
      "## get the gridsize and make each row and column expandable \n",
      "# weights = define how they get bigger or smaller\n",
      "for r in range(root.grid_size()[0]):\n",
      "    root.rowconfigure(r, weight=1)\n",
      "for c in range(root.grid_size()[1]):\n",
      "    root.columnconfigure(c, weight=1)\n",
      "\n",
      "# run the main loop\n",
      "root.mainloop()"
     ],
     "language": "python",
     "metadata": {},
     "outputs": []
    },
    {
     "cell_type": "code",
     "collapsed": false,
     "input": [
      "import matplotlib\n",
      "matplotlib.use('TkAgg')\n",
      "matplotlib.get_backend()"
     ],
     "language": "python",
     "metadata": {},
     "outputs": [
      {
       "metadata": {},
       "output_type": "pyout",
       "prompt_number": 14,
       "text": [
        "'TkAgg'"
       ]
      }
     ],
     "prompt_number": 14
    },
    {
     "cell_type": "markdown",
     "metadata": {},
     "source": [
      "Piazza-suggested code snippets:\n",
      "------"
     ]
    },
    {
     "cell_type": "markdown",
     "metadata": {},
     "source": [
      "Change background color:"
     ]
    },
    {
     "cell_type": "code",
     "collapsed": false,
     "input": [
      "#create user interface\n",
      "Frame(self, height=2, bd=1, relief=SUNKEN,background='grey')"
     ],
     "language": "python",
     "metadata": {},
     "outputs": []
    },
    {
     "cell_type": "markdown",
     "metadata": {},
     "source": [
      "TKinter image display:"
     ]
    },
    {
     "cell_type": "code",
     "collapsed": false,
     "input": [
      " im_paths = re.findall(\"img .*?src='(.*?)'\", html)\n",
      "    imgURL = im_paths[0]\n",
      "    imgData = urllib2.urlopen(imgURL).read()\n",
      "    fileName = basename(urlsplit(imgURL)[2])\n",
      "    output = open('dl_image.jpg','wb')\n",
      "    output.write(imgData)\n",
      "    output.close()"
     ],
     "language": "python",
     "metadata": {},
     "outputs": []
    },
    {
     "cell_type": "markdown",
     "metadata": {},
     "source": [
      "TKinter image display 2:"
     ]
    },
    {
     "cell_type": "code",
     "collapsed": false,
     "input": [
      "import matplotlib, sys\n",
      "matplotlib.use('TkAgg')\n",
      "from matplotlib.backends.backend_tkagg import FigureCanvasTkAgg\n",
      "import matplotlib.image as mpimg\n",
      "from scipy import ndimage\n",
      "from matplotlib import pylab as plt\n",
      "if sys.version_info[0] < 3:\n",
      "    import Tkinter as Tk\n",
      "else:\n",
      "    import tkinter as Tk\n",
      "root = Tk.Tk()\n",
      "root.image = mpimg.imread('test.jpg')\n",
      "fig = plt.figure()\n",
      "im = plt.imshow(root.image)\n",
      "ax = plt.gca()\n",
      "canvas = FigureCanvasTkAgg(fig, master=root)\n",
      "canvas.show()\n",
      "canvas.get_tk_widget().pack(side=Tk.TOP, fill=Tk.BOTH, expand=1)"
     ],
     "language": "python",
     "metadata": {},
     "outputs": []
    },
    {
     "cell_type": "markdown",
     "metadata": {},
     "source": [
      "Traits image display:"
     ]
    },
    {
     "cell_type": "code",
     "collapsed": false,
     "input": [
      "axes = self.figure.add_subplot(111)\n",
      "img = Image.open()\n",
      "axes.plot(img)\n",
      "self.figure.canvas.draw()\n",
      "\n",
      "# Additionally, whenever you make updates to the figure you have to call the last line again."
     ],
     "language": "python",
     "metadata": {},
     "outputs": []
    }
   ],
   "metadata": {}
  }
 ]
}