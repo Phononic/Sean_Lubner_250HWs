{
 "metadata": {
  "name": ""
 },
 "nbformat": 3,
 "nbformat_minor": 0,
 "worksheets": [
  {
   "cells": [
    {
     "cell_type": "code",
     "collapsed": false,
     "input": [
      "import sqlite3\n",
      "from numpy import loadtxt\n",
      "%pylab inline\n"
     ],
     "language": "python",
     "metadata": {},
     "outputs": [
      {
       "output_type": "stream",
       "stream": "stdout",
       "text": [
        "Populating the interactive namespace from numpy and matplotlib\n"
       ]
      }
     ],
     "prompt_number": 19
    },
    {
     "cell_type": "code",
     "collapsed": false,
     "input": [
      "# Create table for top 50 airports\n",
      "connection = sqlite3.connect(\":memory:\") # put it into RAM, but behave like it's an sqlite file living on disk\n",
      "cursor = connection.cursor()\n",
      "sql_cmd = \"\"\"CREATE TABLE top_airports (aid INTEGER PRIMARY KEY AUTOINCREMENT,\n",
      "    city TEXT, faa TEXT, iata TEXT, icao TEXT, airport TEXT, role TEXT, enplanements INT)\"\"\"\n",
      "cursor.execute(sql_cmd)\n",
      "\n",
      "#dtype='|S10, float, float, float, float, float, float')\n",
      "# Load data into python and clean up names\n",
      "top_airports_raw = loadtxt(\"hw_6_data/top_airports.csv\", skiprows=1, delimiter=\",\", dtype=str)\n",
      "for airport in top_airports_raw:\n",
      "    airport[4] = airport[4].replace('/',' ').replace('-',' ')\n",
      "        \n",
      "\n",
      "# Load data into table\n",
      "for airport in top_airports_raw:\n",
      "    sql_cmd = (\"INSERT INTO top_airports (city, faa, iata, icao, airport, role, enplanements) VALUES \" + \n",
      "        str(tuple(airport)))\n",
      "    cursor.execute(sql_cmd)\n",
      "    \n",
      "# Create table for all airports\n",
      "sql_cmd = \"\"\"CREATE TABLE many_airports (aid INTEGER PRIMARY KEY AUTOINCREMENT,\n",
      "    id INT, ident TEXT, type TEXT, name TEXT, latitude_deg FLOAT, longitude_deg FLOAT, elevation_ft INT,\n",
      "    continent TEXT, iso_country TEXT, iso_region TEXT, municipality TEXT, scheduled_service TEXT, gps_code TEXT, \n",
      "    iata_code TEXT, local_code TEXT, home_link TEXT, wikipedia_link TEXT, keywords TEXT)\"\"\"\n",
      "cursor.execute(sql_cmd)\n",
      "\n",
      "# Load data into python\n",
      "many_airports_raw = loadtxt(\"hw_6_data/ICAO_airports_copy.csv\", skiprows=1, delimiter=\",\", comments=\"%\", dtype=str)\n",
      "for airport in many_airports_raw:\n",
      "    airport[4] = airport[3].replace('/',' ').replace('-',' ')\n",
      "\n",
      "# load data into table\n",
      "for airport in many_airports_raw:\n",
      "    temp = []\n",
      "    for i in airport:\n",
      "        i = i.strip('\"') # avoid SQL syntax errors\n",
      "        temp.append(i)\n",
      "    sql_cmd = (\"INSERT INTO many_airports (id, ident, type, name, latitude_deg, longitude_deg,\" +\n",
      "               \"elevation_ft, continent, iso_country, iso_region, municipality, scheduled_service, \" +\n",
      "               \"gps_code, iata_code, local_code, home_link, wikipedia_link, keywords) VALUES \" + \n",
      "               str(tuple(temp)))\n",
      "    cursor.execute(sql_cmd)\n",
      "\n",
      "# Use LEFT JOIN to grab the desired data from just the top 50 airports\n",
      "sql_cmd = \"\"\"SELECT airport, city, latitude_deg, longitude_deg FROM top_airports LEFT JOIN many_airports\n",
      "        ON top_airports.airport = many_airports.name\"\"\"\n",
      "sql_cmd = \"\"\"SELECT airport, city, latitude_deg, longitude_deg FROM top_airports, many_airports\n",
      "        ON top_airports.airport LIKE many_airports.name\"\"\"\n",
      "cursor.execute(sql_cmd)\n",
      "db_info = array(cursor.fetchall())\n",
      "for result in db_info:\n",
      "    for item in result:\n",
      "        print item, '|',\n",
      "    print ''"
     ],
     "language": "python",
     "metadata": {},
     "outputs": [
      {
       "output_type": "stream",
       "stream": "stdout",
       "text": [
        "Chicago O'Hare International Airport | Chicago | Chicago O'Hare International Airport | -87.90480042 | \n",
        "Dallas Fort Worth International Airport | Dallas-Fort Worth | Dallas Fort Worth International Airport | -97.0380020142 | \n",
        "Charlotte Douglas International Airport | Charlotte | Charlotte Douglas International Airport | -80.9430999756 | \n"
       ]
      }
     ],
     "prompt_number": 124
    },
    {
     "cell_type": "code",
     "collapsed": false,
     "input": [
      "many_airports_raw[10][3]"
     ],
     "language": "python",
     "metadata": {},
     "outputs": [
      {
       "metadata": {},
       "output_type": "pyout",
       "prompt_number": 123,
       "text": [
        "'\"Lt World Airport\"'"
       ]
      }
     ],
     "prompt_number": 123
    },
    {
     "cell_type": "code",
     "collapsed": false,
     "input": [
      "#sql_cmd = \"SELECT id, name FROM many_airports WHERE id <= 6533 ORDER BY id DESC\"\n",
      "sql_cmd = \"SELECT airport FROM top_airports ORDER BY airport ASC\"\n",
      "cursor.execute(sql_cmd)\n",
      "db_info = array(cursor.fetchall())\n",
      "for i in db_info:\n",
      "    print i[0]\n",
      "print len(db_info)"
     ],
     "language": "python",
     "metadata": {},
     "outputs": [
      {
       "output_type": "stream",
       "stream": "stdout",
       "text": [
        "Austin Bergstrom International Airport\n",
        "Baltimore Washington International Thurgood Marshall Airport\n",
        "Charlotte Douglas International Airport\n",
        "Chicago Midway International Airport\n",
        "Chicago O'Hare International Airport\n",
        "Cincinnati Northern Kentucky International Airport\n",
        "Cleveland Hopkins International Airport\n",
        "Dallas Fort Worth International Airport\n",
        "Dallas Love Field\n",
        "Denver International Airport\n",
        "Detroit Metropolitan Wayne County Airport\n",
        "Fort Lauderdale Hollywood International Airport\n",
        "Gen. Edward Lawrence Logan International Airport\n",
        "General Mitchell International Airport\n",
        "George Bush Intercontinental Airport\n",
        "Hartsfield Jackson Atlanta International Airport\n",
        "Honolulu International Airport\n",
        "Indianapolis International Airport\n",
        "John F. Kennedy International Airport\n",
        "John Wayne Airport Orange County\n",
        "Kansas City International Airport\n",
        "LaGuardia Airport (and Marine Air Terminal)\n",
        "Lambert St. Louis International Airport\n",
        "Los Angeles International Airport\n",
        "Louis Armstrong New Orleans International Airport\n",
        "Luis Munoz Marin International Airport\n",
        "McCarran International Airport\n",
        "Memphis International Airport\n",
        "Miami International Airport\n",
        "Minneapolis St Paul International Wold Chamberlain Airport\n",
        "Nashville International Airport (Berry Field)\n",
        "Newark Liberty International Airport\n",
        "Norman Y. Mineta San Jose International Airport\n",
        "Oakland International Airport\n",
        "Orlando International Airport\n",
        "Philadelphia International Airport\n",
        "Phoenix Sky Harbor International Airport\n",
        "Pittsburgh International Airport\n",
        "Portland International Airport\n",
        "Raleigh Durham International Airport\n",
        "Ronald Reagan Washington National Airport\n",
        "Sacramento International Airport\n",
        "Salt Lake City International Airport\n",
        "San Antonio International Airport\n",
        "San Diego International Airport\n",
        "San Francisco International Airport\n",
        "Seattle Tacoma International Airport\n",
        "Tampa International Airport\n",
        "Washington Dulles International Airport\n",
        "William P. Hobby Airport\n",
        "50\n"
       ]
      }
     ],
     "prompt_number": 125
    },
    {
     "cell_type": "code",
     "collapsed": false,
     "input": [
      "    \n",
      "sql_cmd = (\"INSERT INTO many_airports (id ident type name latitude_deg longitude_deg\" +\n",
      "               \"elevation_ft continent iso_country iso_region municipality scheduled_service \" +\n",
      "               \"gps_code iata_code local_code home_link wikipedia_link keywords) VALUES \" + \n",
      "               \"('6523', '00A', 'heliport', 'Total Rf Heliport', '40.07080078125', '-74.9336013793945', '11', 'NA', 'US', 'US-PA', 'Bensalem', 'no', '00A', '', '00A', '', '', '')\")\n",
      "cursor.execute(sql_cmd)"
     ],
     "language": "python",
     "metadata": {},
     "outputs": []
    },
    {
     "cell_type": "code",
     "collapsed": false,
     "input": [
      "type(airport[3].strip('\"'))"
     ],
     "language": "python",
     "metadata": {},
     "outputs": [
      {
       "metadata": {},
       "output_type": "pyout",
       "prompt_number": 62,
       "text": [
        "str"
       ]
      }
     ],
     "prompt_number": 62
    },
    {
     "cell_type": "code",
     "collapsed": false,
     "input": [
      "\n",
      "toy = []\n",
      "for i in airport:\n",
      "    print \"i before:\", i\n",
      "    i = i.strip('\"')\n",
      "    print \"i after:\", i\n",
      "    print \"\"\n",
      "    toy.append(i)\n",
      "\n",
      "print str(tuple(toy))"
     ],
     "language": "python",
     "metadata": {},
     "outputs": [
      {
       "output_type": "stream",
       "stream": "stdout",
       "text": [
        "i before: 6523\n",
        "i after: 6523\n",
        "\n",
        "i before: \"00A\"\n",
        "i after: 00A\n",
        "\n",
        "i before: \"heliport\"\n",
        "i after: heliport\n",
        "\n",
        "i before: \"Total Rf Heliport\"\n",
        "i after: Total Rf Heliport\n",
        "\n",
        "i before: 40.07080078125\n",
        "i after: 40.07080078125\n",
        "\n",
        "i before: -74.9336013793945\n",
        "i after: -74.9336013793945\n",
        "\n",
        "i before: 11\n",
        "i after: 11\n",
        "\n",
        "i before: \"NA\"\n",
        "i after: NA\n",
        "\n",
        "i before: \"US\"\n",
        "i after: US\n",
        "\n",
        "i before: \"US-PA\"\n",
        "i after: US-PA\n",
        "\n",
        "i before: \"Bensalem\"\n",
        "i after: Bensalem\n",
        "\n",
        "i before: \"no\"\n",
        "i after: no\n",
        "\n",
        "i before: \"00A\"\n",
        "i after: 00A\n",
        "\n",
        "i before: \n",
        "i after: \n",
        "\n",
        "i before: \"00A\"\n",
        "i after: 00A\n",
        "\n",
        "i before: \n",
        "i after: \n",
        "\n",
        "i before: \n",
        "i after: \n",
        "\n",
        "i before: \n",
        "i after: \n",
        "\n",
        "('6523', '00A', 'heliport', 'Total Rf Heliport', '40.07080078125', '-74.9336013793945', '11', 'NA', 'US', 'US-PA', 'Bensalem', 'no', '00A', '', '00A', '', '', '')\n"
       ]
      }
     ],
     "prompt_number": 67
    },
    {
     "cell_type": "code",
     "collapsed": false,
     "input": [
      "header = [\"id\",\"ident\",\"type\",\"name\",\"latitude_deg\",\"longitude_deg\",\"elevation_ft\",\"continent\",\"iso_country\",\"iso_region\",\"municipality\",\"scheduled_service\",\"gps_code\",\"iata_code\",\"local_code\",\"home_link\",\"wikipedia_link\",\"keywords\"]\n",
      "new = \" \".join(header)\n",
      "print len(header)\n",
      "print new"
     ],
     "language": "python",
     "metadata": {},
     "outputs": [
      {
       "output_type": "stream",
       "stream": "stdout",
       "text": [
        "18\n",
        "id ident type name latitude_deg longitude_deg elevation_ft continent iso_country iso_region municipality scheduled_service gps_code iata_code local_code home_link wikipedia_link keywords\n"
       ]
      }
     ],
     "prompt_number": 69
    },
    {
     "cell_type": "code",
     "collapsed": false,
     "input": [
      "str(tuple(airport))"
     ],
     "language": "python",
     "metadata": {},
     "outputs": [
      {
       "metadata": {},
       "output_type": "pyout",
       "prompt_number": 26,
       "text": [
        "\"('Atlanta', 'ATL', 'ATL', 'KATL', 'Hartsfield-Jackson Atlanta International Airport', 'P-L', '43130585')\""
       ]
      }
     ],
     "prompt_number": 26
    },
    {
     "cell_type": "code",
     "collapsed": false,
     "input": [],
     "language": "python",
     "metadata": {},
     "outputs": []
    }
   ],
   "metadata": {}
  }
 ]
}