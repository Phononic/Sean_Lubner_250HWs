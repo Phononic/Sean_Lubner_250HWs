{
 "metadata": {
  "name": ""
 },
 "nbformat": 3,
 "nbformat_minor": 0,
 "worksheets": [
  {
   "cells": [
    {
     "cell_type": "code",
     "collapsed": false,
     "input": [
      "import sqlite3\n",
      "from numpy import loadtxt\n",
      "%pylab inline\n"
     ],
     "language": "python",
     "metadata": {},
     "outputs": [
      {
       "output_type": "stream",
       "stream": "stdout",
       "text": [
        "Populating the interactive namespace from numpy and matplotlib\n"
       ]
      }
     ],
     "prompt_number": 19
    },
    {
     "cell_type": "code",
     "collapsed": false,
     "input": [
      "# Create table for top 50 airports\n",
      "connection = sqlite3.connect(\":memory:\") # put it into RAM, but behave like it's an sqlite file living on disk\n",
      "cursor = connection.cursor()\n",
      "sql_cmd = \"\"\"CREATE TABLE top_airports (aid INTEGER PRIMARY KEY AUTOINCREMENT,\n",
      "    city TEXT, faa TEXT, iata TEXT, icao TEXT, airport TEXT, role TEXT, enplanements INT)\"\"\"\n",
      "cursor.execute(sql_cmd)\n",
      "\n",
      "#dtype='|S10, float, float, float, float, float, float')\n",
      "top_airports_raw = loadtxt(\"hw_6_data/top_airports.csv\", skiprows=1, delimiter=\",\", dtype=str)\n",
      "\n",
      "for airport in top_airports_raw:\n",
      "    sql_cmd = (\"INSERT INTO top_airports (city, faa, iata, icao, airport, role, enplanements) VALUES \" + \n",
      "        str(tuple(airport)))\n",
      "    cursor.execute(sql_cmd)\n",
      "    \n",
      "# Create table for all airports\n",
      "sql_cmd = \"\"\"CREATE TABLE many_airports (aid INTEGER PRIMARY KEY AUTOINCREMENT,\n",
      "    id INT, ident TEXT, type TEXT, name TEXT, latitude_deg FLOAT, longitude_deg FLOAT, elevation_ft INT,\n",
      "    continent TEXT, iso_country TEXT, iso_region TEXT, municipality TEXT, scheduled_service TEXT, gps_code TEXT, \n",
      "    iata_code TEXT, local_code TEXT, home_link TEXT, wikipedia_link TEXT, keywords TEXT)\"\"\"\n",
      "cursor.execute(sql_cmd)\n",
      "\n",
      "#dtype='|S10, float, float, float, float, float, float')\n",
      "many_airports_raw = loadtxt(\"hw_6_data/ICAO_airports_copy.csv\", skiprows=1, delimiter=\",\", comments=\"%\", dtype=str)\n",
      "\n",
      "\n",
      "for airport in many_airports_raw:\n",
      "    temp = []\n",
      "    for i in airport:\n",
      "        i = i.strip('\"') # avoid SQL syntax errors\n",
      "        temp.append(i)\n",
      "    sql_cmd = (\"INSERT INTO many_airports (id, ident, type, name, latitude_deg, longitude_deg,\" +\n",
      "               \"elevation_ft, continent, iso_country, iso_region, municipality, scheduled_service, \" +\n",
      "               \"gps_code, iata_code, local_code, home_link, wikipedia_link, keywords) VALUES \" + \n",
      "               str(tuple(temp)))\n",
      "    cursor.execute(sql_cmd)"
     ],
     "language": "python",
     "metadata": {},
     "outputs": [],
     "prompt_number": 75
    },
    {
     "cell_type": "code",
     "collapsed": false,
     "input": [
      "sql_cmd = \"SELECT id, name FROM many_airports WHERE id <= 6533 ORDER BY id DESC\"\n",
      "cursor.execute(sql_cmd)\n",
      "db_info = array(cursor.fetchall())\n",
      "print db_info"
     ],
     "language": "python",
     "metadata": {},
     "outputs": [
      {
       "output_type": "stream",
       "stream": "stdout",
       "text": [
        "[[u'6533' u'River Oak Airport']\n",
        " [u'6532' u'Ringhaver Heliport']\n",
        " [u'6531' u'Grass Patch Airport']\n",
        " [u'6529' u'Cass Field']\n",
        " [u'6528' u'Goldstone /Gts/ Airport']\n",
        " [u'6527' u'Cordes Airport']\n",
        " [u'6526' u'Newport Hospital & Clinic Heliport']\n",
        " [u'6525' u'Epps Airpark']\n",
        " [u'6524' u'Lowell Field']\n",
        " [u'6523' u'Total Rf Heliport']]\n"
       ]
      }
     ],
     "prompt_number": 80
    },
    {
     "cell_type": "code",
     "collapsed": false,
     "input": [
      "    \n",
      "sql_cmd = (\"INSERT INTO many_airports (id ident type name latitude_deg longitude_deg\" +\n",
      "               \"elevation_ft continent iso_country iso_region municipality scheduled_service \" +\n",
      "               \"gps_code iata_code local_code home_link wikipedia_link keywords) VALUES \" + \n",
      "               \"('6523', '00A', 'heliport', 'Total Rf Heliport', '40.07080078125', '-74.9336013793945', '11', 'NA', 'US', 'US-PA', 'Bensalem', 'no', '00A', '', '00A', '', '', '')\")\n",
      "cursor.execute(sql_cmd)"
     ],
     "language": "python",
     "metadata": {},
     "outputs": []
    },
    {
     "cell_type": "code",
     "collapsed": false,
     "input": [
      "type(airport[3].strip('\"'))"
     ],
     "language": "python",
     "metadata": {},
     "outputs": [
      {
       "metadata": {},
       "output_type": "pyout",
       "prompt_number": 62,
       "text": [
        "str"
       ]
      }
     ],
     "prompt_number": 62
    },
    {
     "cell_type": "code",
     "collapsed": false,
     "input": [
      "\n",
      "toy = []\n",
      "for i in airport:\n",
      "    print \"i before:\", i\n",
      "    i = i.strip('\"')\n",
      "    print \"i after:\", i\n",
      "    print \"\"\n",
      "    toy.append(i)\n",
      "\n",
      "print str(tuple(toy))"
     ],
     "language": "python",
     "metadata": {},
     "outputs": [
      {
       "output_type": "stream",
       "stream": "stdout",
       "text": [
        "i before: 6523\n",
        "i after: 6523\n",
        "\n",
        "i before: \"00A\"\n",
        "i after: 00A\n",
        "\n",
        "i before: \"heliport\"\n",
        "i after: heliport\n",
        "\n",
        "i before: \"Total Rf Heliport\"\n",
        "i after: Total Rf Heliport\n",
        "\n",
        "i before: 40.07080078125\n",
        "i after: 40.07080078125\n",
        "\n",
        "i before: -74.9336013793945\n",
        "i after: -74.9336013793945\n",
        "\n",
        "i before: 11\n",
        "i after: 11\n",
        "\n",
        "i before: \"NA\"\n",
        "i after: NA\n",
        "\n",
        "i before: \"US\"\n",
        "i after: US\n",
        "\n",
        "i before: \"US-PA\"\n",
        "i after: US-PA\n",
        "\n",
        "i before: \"Bensalem\"\n",
        "i after: Bensalem\n",
        "\n",
        "i before: \"no\"\n",
        "i after: no\n",
        "\n",
        "i before: \"00A\"\n",
        "i after: 00A\n",
        "\n",
        "i before: \n",
        "i after: \n",
        "\n",
        "i before: \"00A\"\n",
        "i after: 00A\n",
        "\n",
        "i before: \n",
        "i after: \n",
        "\n",
        "i before: \n",
        "i after: \n",
        "\n",
        "i before: \n",
        "i after: \n",
        "\n",
        "('6523', '00A', 'heliport', 'Total Rf Heliport', '40.07080078125', '-74.9336013793945', '11', 'NA', 'US', 'US-PA', 'Bensalem', 'no', '00A', '', '00A', '', '', '')\n"
       ]
      }
     ],
     "prompt_number": 67
    },
    {
     "cell_type": "code",
     "collapsed": false,
     "input": [
      "header = [\"id\",\"ident\",\"type\",\"name\",\"latitude_deg\",\"longitude_deg\",\"elevation_ft\",\"continent\",\"iso_country\",\"iso_region\",\"municipality\",\"scheduled_service\",\"gps_code\",\"iata_code\",\"local_code\",\"home_link\",\"wikipedia_link\",\"keywords\"]\n",
      "new = \" \".join(header)\n",
      "print len(header)\n",
      "print new"
     ],
     "language": "python",
     "metadata": {},
     "outputs": [
      {
       "output_type": "stream",
       "stream": "stdout",
       "text": [
        "18\n",
        "id ident type name latitude_deg longitude_deg elevation_ft continent iso_country iso_region municipality scheduled_service gps_code iata_code local_code home_link wikipedia_link keywords\n"
       ]
      }
     ],
     "prompt_number": 69
    },
    {
     "cell_type": "code",
     "collapsed": false,
     "input": [
      "str(tuple(airport))"
     ],
     "language": "python",
     "metadata": {},
     "outputs": [
      {
       "metadata": {},
       "output_type": "pyout",
       "prompt_number": 26,
       "text": [
        "\"('Atlanta', 'ATL', 'ATL', 'KATL', 'Hartsfield-Jackson Atlanta International Airport', 'P-L', '43130585')\""
       ]
      }
     ],
     "prompt_number": 26
    },
    {
     "cell_type": "code",
     "collapsed": false,
     "input": [],
     "language": "python",
     "metadata": {},
     "outputs": []
    }
   ],
   "metadata": {}
  }
 ]
}