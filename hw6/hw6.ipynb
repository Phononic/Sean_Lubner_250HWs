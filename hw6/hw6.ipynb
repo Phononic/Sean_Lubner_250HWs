{
 "metadata": {
  "name": ""
 },
 "nbformat": 3,
 "nbformat_minor": 0,
 "worksheets": [
  {
   "cells": [
    {
     "cell_type": "code",
     "collapsed": false,
     "input": [
      "import sqlite3\n",
      "#from numpy import loadtxt\n",
      "import pandas as pd\n",
      "import pandas.io.sql as pd_sql\n",
      "\n",
      "# Setup SQL\n",
      "connection = sqlite3.connect(\":memory:\") # put it into RAM, but behave like it's an sqlite file living on disk\n",
      "connection.text_factory = str\n",
      "cursor = connection.cursor()\n",
      "\n",
      "###################### Problem 1 ######################\n",
      "# Load data and create SQL tables\n",
      "df1 = pd.read_csv(\"hw_6_data/top_airports.csv\")\n",
      "pd_sql.write_frame(df1, 'top_airports', connection, if_exists='replace')\n",
      "\n",
      "df2 = pd.read_csv(\"hw_6_data/ICAO_airports.csv\")\n",
      "pd_sql.write_frame(df2, 'many_airports', connection, if_exists='replace')\n",
      "\n",
      "sql_cmd = \"\"\"SELECT airport, icao, city, latitude_deg, longitude_deg FROM top_airports, many_airports\n",
      "        ON top_airports.icao = many_airports.ident\n",
      "        ORDER BY airport ASC\"\"\"\n",
      "\n",
      "# Printout to show it worked\n",
      "cursor.execute(sql_cmd)\n",
      "db_info = array(cursor.fetchall())\n",
      "print len(db_info), 'airports matched:'\n",
      "print ''\n",
      "for result in db_info:\n",
      "    for item in result:\n",
      "        print item, ' | ',\n",
      "    print ''\n",
      "    \n",
      "    \n",
      "###################### Problem 2 ######################\n",
      "sql_cmd = \"\"\"CREATE TABLE weather (aid INTEGER PRIMARY KEY AUTOINCREMENT,\n",
      "    city TEXT, min_temp FLOAT, max_temp FLOAT, humidity FLOAT, precipitation FLOAT, cloud_cover FLOAT)\"\"\"\n",
      "cursor.execute(sql_cmd)"
     ],
     "language": "python",
     "metadata": {},
     "outputs": [
      {
       "output_type": "stream",
       "stream": "stdout",
       "text": [
        "50 airports matched:\n",
        "\n",
        "Austin-Bergstrom International Airport  |  KAUS  |  Austin  |  30.1944999695  |  -97.6698989868  |  \n",
        "Baltimore/Washington International Thurgood Marshall Airport  |  KBWI  |  Baltimore / Glen Burnie  |  39.17539978  |  -76.66829681  |  \n",
        "Charlotte/Douglas International Airport  |  KCLT  |  Charlotte  |  35.2140007019  |  -80.9430999756  |  \n",
        "Chicago Midway International Airport  |  KMDW  |  Chicago  |  41.7859992981  |  -87.7524032593  |  \n",
        "Chicago O'Hare International Airport  |  KORD  |  Chicago  |  41.97859955  |  -87.90480042  |  \n",
        "Cincinnati/Northern Kentucky International Airport  |  KCVG  |  Covington  |  39.0488014221  |  -84.6678009033  |  \n",
        "Cleveland-Hopkins International Airport  |  KCLE  |  Cleveland  |  41.4117012024  |  -81.8498001099  |  \n",
        "Dallas Love Field  |  KDAL  |  Dallas  |  32.8470993042  |  -96.8517990112  |  \n",
        "Dallas/Fort Worth International Airport  |  KDFW  |  Dallas-Fort Worth  |  32.8968009949  |  -97.0380020142  |  \n",
        "Denver International Airport  |  KDEN  |  Denver  |  39.8616981506  |  -104.672996521  |  \n",
        "Detroit Metropolitan Wayne County Airport  |  KDTW  |  Detroit / Romulus  |  42.2123985291  |  -83.3534011841  |  \n",
        "Fort Lauderdale Hollywood International Airport  |  KFLL  |  Fort Lauderdale  |  26.072599411  |  -80.1527023315  |  \n",
        "Gen. Edward Lawrence Logan International Airport  |  KBOS  |  Boston  |  42.36429977  |  -71.00520325  |  \n",
        "General Mitchell International Airport  |  KMKE  |  Milwaukee  |  42.9472007751  |  -87.8965988159  |  \n",
        "George Bush Intercontinental Airport  |  KIAH  |  Houston  |  29.9843997955  |  -95.3414001465  |  \n",
        "Hartsfield-Jackson Atlanta International Airport  |  KATL  |  Atlanta  |  33.6366996765  |  -84.4281005859  |  \n",
        "Honolulu International Airport  |  PHNL  |  Honolulu  |  21.3187007904  |  -157.92199707  |  \n",
        "Indianapolis International Airport  |  KIND  |  Indianapolis  |  39.717300415  |  -86.2944030762  |  \n",
        "John F. Kennedy International Airport  |  KJFK  |  New York  |  40.63980103  |  -73.77890015  |  \n",
        "John Wayne Airport-Orange County  |  KSNA  |  Santa Ana  |  33.67570114  |  -117.8679962  |  \n",
        "Kansas City International Airport  |  KMCI  |  Kansas City  |  39.2975997925  |  -94.7138977051  |  \n",
        "LaGuardia Airport (and Marine Air Terminal)  |  KLGA  |  New York  |  40.77719879  |  -73.87259674  |  \n",
        "Lambert-St. Louis International Airport  |  KSTL  |  St. Louis  |  38.7486991882  |  -90.3700027466  |  \n",
        "Los Angeles International Airport  |  KLAX  |  Los Angeles  |  33.94250107  |  -118.4079971  |  \n",
        "Louis Armstrong New Orleans International Airport  |  KMSY  |  New Orleans  |  29.9934005737  |  -90.2580032349  |  \n",
        "Luis Munoz Marin International Airport  |  TJSJ  |  San Juan / Carolina  |  18.4393997192  |  -66.0018005371  |  \n",
        "McCarran International Airport  |  KLAS  |  Las Vegas  |  36.08010101  |  -115.1520004  |  \n",
        "Memphis International Airport  |  KMEM  |  Memphis  |  35.0424003601  |  -89.9766998291  |  \n",
        "Miami International Airport  |  KMIA  |  Miami  |  25.7931995392  |  -80.2906036377  |  \n",
        "Minneapolis-St Paul International/Wold-Chamberlain Airport  |  KMSP  |  Minneapolis  |  44.8819999695  |  -93.2218017578  |  \n",
        "Nashville International Airport  |  KBNA  |  Nashville  |  36.1245002747  |  -86.6781997681  |  \n",
        "Newark Liberty International Airport  |  KEWR  |  Newark  |  40.6925010681  |  -74.1687011719  |  \n",
        "Norman Y. Mineta San Jose International Airport  |  KSJC  |  San Jose  |  37.3625984192  |  -121.929000854  |  \n",
        "Oakland International Airport  |  KOAK  |  Oakland  |  37.7212982178  |  -122.221000671  |  \n",
        "Orlando International Airport  |  KMCO  |  Orlando  |  28.4293994904  |  -81.3089981079  |  \n",
        "Philadelphia International Airport  |  KPHL  |  Philadelphia  |  39.8718986511  |  -75.2410964966  |  \n",
        "Phoenix Sky Harbor International Airport  |  KPHX  |  Phoenix  |  33.434299469  |  -112.012001038  |  \n",
        "Pittsburgh International Airport  |  KPIT  |  Pittsburgh  |  40.49150085  |  -80.23290253  |  \n",
        "Portland International Airport  |  KPDX  |  Portland  |  45.58869934  |  -122.5979996  |  \n",
        "Raleigh-Durham International Airport  |  KRDU  |  Raleigh  |  35.8776016235  |  -78.7874984741  |  \n",
        "Ronald Reagan Washington National Airport  |  KDCA  |  Washington D.C. / Arlington County  |  38.8521003723  |  -77.0376968384  |  \n",
        "Sacramento International Airport  |  KSMF  |  Sacramento  |  38.695400238  |  -121.591003418  |  \n",
        "Salt Lake City International Airport  |  KSLC  |  Salt Lake City  |  40.7883987427  |  -111.977996826  |  \n",
        "San Antonio International Airport  |  KSAT  |  San Antonio  |  29.533700943  |  -98.4698028564  |  \n",
        "San Diego International Airport  |  KSAN  |  San Diego  |  32.7336006165  |  -117.190002441  |  \n",
        "San Francisco International Airport  |  KSFO  |  San Francisco  |  37.6189994812  |  -122.375  |  \n",
        "Seattle-Tacoma International Airport  |  KSEA  |  Seattle / Tacoma (SeaTac)  |  47.4490013123  |  -122.308998108  |  \n",
        "Tampa International Airport  |  KTPA  |  Tampa  |  27.9755001068  |  -82.533203125  |  \n",
        "Washington Dulles International Airport  |  KIAD  |  Washington D.C. / Chantilly / Dulles  |  38.94449997  |  -77.45580292  |  \n",
        "William P. Hobby Airport  |  KHOU  |  Houston  |  29.64539909  |  -95.27890015  |  \n"
       ]
      },
      {
       "metadata": {},
       "output_type": "pyout",
       "prompt_number": 28,
       "text": [
        "<sqlite3.Cursor at 0x1074918f0>"
       ]
      }
     ],
     "prompt_number": 28
    },
    {
     "cell_type": "markdown",
     "metadata": {},
     "source": [
      "All cells below this point are saved scratch work and/or original failed attempts to import the data :("
     ]
    },
    {
     "cell_type": "code",
     "collapsed": false,
     "input": [
      "db_info[0]"
     ],
     "language": "python",
     "metadata": {},
     "outputs": [
      {
       "metadata": {},
       "output_type": "pyout",
       "prompt_number": 9,
       "text": [
        "array(['Hartsfield-Jackson Atlanta International Airport', 'Atlanta',\n",
        "       '33.6366996765', '-84.4281005859'], \n",
        "      dtype='|S60')"
       ]
      }
     ],
     "prompt_number": 9
    },
    {
     "cell_type": "code",
     "collapsed": false,
     "input": [
      "sql_cmd = \"\"\"CREATE TABLE top_airports (aid INTEGER PRIMARY KEY AUTOINCREMENT,\n",
      "    city TEXT, faa TEXT, iata TEXT, icao TEXT, airport TEXT, role TEXT, enplanements INT)\"\"\"\n",
      "cursor.execute(sql_cmd)\n",
      "#top_airports_raw = df1.values\n",
      "#for airport in top_airports_raw:\n",
      "#    airport[4] = airport[4].replace('/',' ').replace('-',' ')\n",
      "        \n",
      "\n",
      "# Load data into table\n",
      "for airport in top_airports_raw:\n",
      "    sql_cmd = (\"INSERT INTO top_airports (city, faa, iata, icao, airport, role, enplanements) VALUES \" + \n",
      "        str(tuple(airport)))\n",
      "    cursor.execute(sql_cmd)\n",
      "    \n",
      "# Create table for all airports\n",
      "sql_cmd = \"\"\"CREATE TABLE many_airports (aid INTEGER PRIMARY KEY AUTOINCREMENT,\n",
      "    id INT, ident TEXT, type TEXT, name TEXT, latitude_deg FLOAT, longitude_deg FLOAT, elevation_ft INT,\n",
      "    continent TEXT, iso_country TEXT, iso_region TEXT, municipality TEXT, scheduled_service TEXT, gps_code TEXT, \n",
      "    iata_code TEXT, local_code TEXT, home_link TEXT, wikipedia_link TEXT, keywords TEXT)\"\"\"\n",
      "cursor.execute(sql_cmd)\n",
      "\n",
      "# Load data into python\n",
      "#many_airports_raw = loadtxt(\"hw_6_data/ICAO_airports.csv\", skiprows=1, delimiter=\",\", comments=\"%\", dtype=str)\n",
      "df2 = pd.read_csv(\"hw_6_data/ICAO_airports.csv\")\n",
      "many_airports_raw = df2.values\n",
      "#for airport in many_airports_raw:\n",
      "#    airport[3] = airport[3].replace('/',' ').replace('-',' ')\n",
      "\n",
      "# load data into table\n",
      "for airport in many_airports_raw:\n",
      "    temp = []\n",
      "    for i in airport:\n",
      "        if isinstance(i,str):\n",
      "            i = i.strip('\"') # avoid SQL syntax errors\n",
      "            temp.append(i)\n",
      "    sql_cmd = (\"INSERT INTO many_airports (id, ident, type, name, latitude_deg, longitude_deg,\" +\n",
      "               \"elevation_ft, continent, iso_country, iso_region, municipality, scheduled_service, \" +\n",
      "               \"gps_code, iata_code, local_code, home_link, wikipedia_link, keywords) VALUES \" + \n",
      "               str(tuple(temp)))\n",
      "    cursor.execute(sql_cmd)\n",
      "\n",
      "# Use LEFT JOIN to grab the desired data from just the top 50 airports\n",
      "sql_cmd = \"\"\"SELECT airport, city, latitude_deg, longitude_deg FROM top_airports, many_airports\n",
      "        ON top_airports.icao = many_airports.ident\"\"\"\n",
      "sql_cmd = \"\"\"SELECT airport, city, latitude_deg, longitude_deg FROM top_airports LEFT JOIN many_airports\n",
      "        ON top_airports.airport = many_airports.name\"\"\"\n",
      "cursor.execute(sql_cmd)\n",
      "db_info = array(cursor.fetchall())\n",
      "print len(db_info)\n",
      "for result in db_info:\n",
      "    for item in result:\n",
      "        print item, '|',\n",
      "    print ''"
     ],
     "language": "python",
     "metadata": {},
     "outputs": []
    },
    {
     "cell_type": "code",
     "collapsed": false,
     "input": [
      "many_airports_raw[0]"
     ],
     "language": "python",
     "metadata": {},
     "outputs": [
      {
       "metadata": {},
       "output_type": "pyout",
       "prompt_number": 202,
       "text": [
        "array([6523, '00A', 'heliport', 'Total Rf Heliport', 40.07080078125,\n",
        "       -74.9336013793945, 11.0, nan, 'US', 'US-PA', 'Bensalem', 'no',\n",
        "       '00A', nan, '00A', nan, nan, nan], dtype=object)"
       ]
      }
     ],
     "prompt_number": 202
    },
    {
     "cell_type": "code",
     "collapsed": false,
     "input": [
      "many_airports_raw[10][3]"
     ],
     "language": "python",
     "metadata": {},
     "outputs": [
      {
       "metadata": {},
       "output_type": "pyout",
       "prompt_number": 203,
       "text": [
        "'Lt World Airport'"
       ]
      }
     ],
     "prompt_number": 203
    },
    {
     "cell_type": "code",
     "collapsed": false,
     "input": [
      "#sql_cmd = \"SELECT id, name FROM many_airports WHERE id <= 6533 ORDER BY id DESC\"\n",
      "sql_cmd = \"SELECT airport FROM top_airports ORDER BY airport ASC\"\n",
      "cursor.execute(sql_cmd)\n",
      "db_info = array(cursor.fetchall())\n",
      "for i in db_info:\n",
      "    print i[0]\n",
      "print len(db_info)"
     ],
     "language": "python",
     "metadata": {},
     "outputs": [
      {
       "output_type": "stream",
       "stream": "stdout",
       "text": [
        "Austin-Bergstrom International Airport\n",
        "Baltimore/Washington International Thurgood Marshall Airport\n",
        "Charlotte/Douglas International Airport\n",
        "Chicago Midway International Airport\n",
        "Chicago O'Hare International Airport\n",
        "Cincinnati/Northern Kentucky International Airport\n",
        "Cleveland-Hopkins International Airport\n",
        "Dallas Love Field\n",
        "Dallas/Fort Worth International Airport\n",
        "Denver International Airport\n",
        "Detroit Metropolitan Wayne County Airport\n",
        "Fort Lauderdale Hollywood International Airport\n",
        "Gen. Edward Lawrence Logan International Airport\n",
        "General Mitchell International Airport\n",
        "George Bush Intercontinental Airport\n",
        "Hartsfield-Jackson Atlanta International Airport\n",
        "Honolulu International Airport\n",
        "Indianapolis International Airport\n",
        "John F. Kennedy International Airport\n",
        "John Wayne Airport-Orange County\n",
        "Kansas City International Airport\n",
        "LaGuardia Airport (and Marine Air Terminal)\n",
        "Lambert-St. Louis International Airport\n",
        "Los Angeles International Airport\n",
        "Louis Armstrong New Orleans International Airport\n",
        "Luis Munoz Marin International Airport\n",
        "McCarran International Airport\n",
        "Memphis International Airport\n",
        "Miami International Airport\n",
        "Minneapolis-St Paul International/Wold-Chamberlain Airport\n",
        "Nashville International Airport\n",
        "Newark Liberty International Airport\n",
        "Norman Y. Mineta San Jose International Airport\n",
        "Oakland International Airport\n",
        "Orlando International Airport\n",
        "Philadelphia International Airport\n",
        "Phoenix Sky Harbor International Airport\n",
        "Pittsburgh International Airport\n",
        "Portland International Airport\n",
        "Raleigh-Durham International Airport\n",
        "Ronald Reagan Washington National Airport\n",
        "Sacramento International Airport\n",
        "Salt Lake City International Airport\n",
        "San Antonio International Airport\n",
        "San Diego International Airport\n",
        "San Francisco International Airport\n",
        "Seattle-Tacoma International Airport\n",
        "Tampa International Airport\n",
        "Washington Dulles International Airport\n",
        "William P. Hobby Airport\n",
        "50\n"
       ]
      }
     ],
     "prompt_number": 13
    },
    {
     "cell_type": "code",
     "collapsed": false,
     "input": [
      "    \n",
      "sql_cmd = (\"INSERT INTO many_airports (id ident type name latitude_deg longitude_deg\" +\n",
      "               \"elevation_ft continent iso_country iso_region municipality scheduled_service \" +\n",
      "               \"gps_code iata_code local_code home_link wikipedia_link keywords) VALUES \" + \n",
      "               \"('6523', '00A', 'heliport', 'Total Rf Heliport', '40.07080078125', '-74.9336013793945', '11', 'NA', 'US', 'US-PA', 'Bensalem', 'no', '00A', '', '00A', '', '', '')\")\n",
      "cursor.execute(sql_cmd)"
     ],
     "language": "python",
     "metadata": {},
     "outputs": []
    },
    {
     "cell_type": "code",
     "collapsed": false,
     "input": [
      "type(airport[3].strip('\"'))"
     ],
     "language": "python",
     "metadata": {},
     "outputs": [
      {
       "metadata": {},
       "output_type": "pyout",
       "prompt_number": 62,
       "text": [
        "str"
       ]
      }
     ],
     "prompt_number": 62
    },
    {
     "cell_type": "code",
     "collapsed": false,
     "input": [
      "import pandas as pd\n",
      "df = pd.read_csv('hw_6_data/ICAO_airports.csv')\n",
      "temp = df.values\n",
      "\n",
      "toy1 = loadtxt(\"hw_6_data/top_airports.csv\", skiprows=1, delimiter=\",\", dtype=str)\n",
      "toy2 = pd.read_csv(\"hw_6_data/top_airports.csv\")\n",
      "toy2 = toy2.values\n",
      "\n",
      "print toy1[0]\n",
      "print toy2[0]"
     ],
     "language": "python",
     "metadata": {},
     "outputs": [
      {
       "output_type": "stream",
       "stream": "stdout",
       "text": [
        "['Atlanta' 'ATL' 'ATL' 'KATL'\n",
        " 'Hartsfield-Jackson Atlanta International Airport' 'P-L' '43130585']\n",
        "['Atlanta' 'ATL' 'ATL' 'KATL'\n",
        " 'Hartsfield-Jackson Atlanta International Airport' 'P-L' 43130585]\n"
       ]
      }
     ],
     "prompt_number": 2
    },
    {
     "cell_type": "code",
     "collapsed": false,
     "input": [
      "csv.reader?"
     ],
     "language": "python",
     "metadata": {},
     "outputs": [],
     "prompt_number": 136
    },
    {
     "cell_type": "code",
     "collapsed": false,
     "input": [
      "header = [\"id\",\"ident\",\"type\",\"name\",\"latitude_deg\",\"longitude_deg\",\"elevation_ft\",\"continent\",\"iso_country\",\"iso_region\",\"municipality\",\"scheduled_service\",\"gps_code\",\"iata_code\",\"local_code\",\"home_link\",\"wikipedia_link\",\"keywords\"]\n",
      "new = \" \".join(header)\n",
      "print len(header)\n",
      "print new"
     ],
     "language": "python",
     "metadata": {},
     "outputs": [
      {
       "output_type": "stream",
       "stream": "stdout",
       "text": [
        "18\n",
        "id ident type name latitude_deg longitude_deg elevation_ft continent iso_country iso_region municipality scheduled_service gps_code iata_code local_code home_link wikipedia_link keywords\n"
       ]
      }
     ],
     "prompt_number": 69
    },
    {
     "cell_type": "code",
     "collapsed": false,
     "input": [
      "import pandas.io.sql as pd_sql\n",
      "pd_sql.write_frame(df2, 'test_table_4', connection, if_exists='replace')"
     ],
     "language": "python",
     "metadata": {},
     "outputs": [],
     "prompt_number": 10
    },
    {
     "cell_type": "code",
     "collapsed": false,
     "input": [
      "pd.concat?"
     ],
     "language": "python",
     "metadata": {},
     "outputs": [],
     "prompt_number": 177
    }
   ],
   "metadata": {}
  }
 ]
}