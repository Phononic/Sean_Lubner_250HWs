{
 "metadata": {
  "name": ""
 },
 "nbformat": 3,
 "nbformat_minor": 0,
 "worksheets": [
  {
   "cells": [
    {
     "cell_type": "code",
     "collapsed": false,
     "input": [
      "import numpy as np\n",
      "import matplotlib.pyplot as plt"
     ],
     "language": "python",
     "metadata": {},
     "outputs": [],
     "prompt_number": 8
    },
    {
     "cell_type": "code",
     "collapsed": false,
     "input": [
      "ice = np.loadtxt('ice_data.txt')\n",
      "agar = np.loadtxt('agar_data.txt')\n",
      "water = np.loadtxt('water_data.txt')"
     ],
     "language": "python",
     "metadata": {},
     "outputs": [],
     "prompt_number": 7
    },
    {
     "cell_type": "code",
     "collapsed": false,
     "input": [
      "f1, ax1 = plt.subplots()         # we manually make a figure and axis\n",
      "water_line = ax1.plot(water[:,0], water[:,1], label='H20 (Ref)')  # it's the axis who plots\n",
      "agar_line = ax1.plot(agar[:,0], agar[:,1], label='Agar Gel, 3 mm')  # it's the axis who plots\n",
      "ice_line = ax1.plot(ice[:,0], ice[:,1], label='Ice, 2 mm')  # it's the axis who plots\n",
      "ax0.legend()\n",
      "ax0.set_title('Harmonic')       # we set the title on the axis\n",
      "ax0.set_xlabel('x')             # same with labels\n",
      "ax0.set_ylabel('y')\n",
      "\n",
      "# Make a second figure with a simple plot.  We can name the figure with a\n",
      "# different variable name as well as its axes, and then control each\n",
      "f1, ax1 = plt.subplots()\n",
      "ax1.plot(x, np.sin(2 * x), label='sin(2x)')\n",
      "ax1.legend()\n",
      "\n",
      "# Since we now have variables for each axis, we can add back to the first\n",
      "# figure even after making the second\n",
      "ax0.plot(x, np.cos(x), label='cos(x)')\n",
      "ax0.legend();\n",
      "\n",
      "# plt.close('all')  <--- closes all figures\n",
      "# plt.show()   <---- render figures, after you've set them up"
     ],
     "language": "python",
     "metadata": {},
     "outputs": []
    }
   ],
   "metadata": {}
  }
 ]
}