{
 "metadata": {
  "name": ""
 },
 "nbformat": 3,
 "nbformat_minor": 0,
 "worksheets": [
  {
   "cells": [
    {
     "cell_type": "code",
     "collapsed": false,
     "input": [
      "##### HW 3, problem 2 #####\n",
      "# Sean Lubner\n",
      "\n",
      "import numpy as np\n",
      "import matplotlib.pyplot as plt\n",
      "from matplotlib.ticker import AutoMinorLocator\n",
      "%matplotlib inline\n",
      "\n",
      "# import the data\n",
      "google = np.loadtxt('hw_3_data/google_data.txt', skiprows=1)\n",
      "ny = np.loadtxt('hw_3_data/ny_temps.txt', skiprows=1)\n",
      "yahoo = np.loadtxt('hw_3_data/yahoo_data.txt', skiprows=1)\n",
      "\n",
      "# Generate the initial plot (figure, axes, lines)\n",
      "f1, ax1 = plt.subplots()\n",
      "f1.set_size_inches(11.2,8.56) # size of figure\n",
      "yahoo_line, = ax1.plot(yahoo[:,0], yahoo[:,1], c='purple', lw=2, label='Yahoo! Stock Value') \n",
      "google_line, = ax1.plot(google[:,0], google[:,1], c='blue', lw=2, label='Google Stock Value')\n",
      "ax2 = ax1.twinx() # double axis\n",
      "ny_line, = ax2.plot(ny[:,0], ny[:,1], c='red', ls='--', lw=2, label='NY Mon. High Temp')  \n",
      "t = ax1.set_title('New York Temperature, Google, and Yahoo!', size=32, fontweight='bold', fontname='Times New Roman')\n",
      "ax2.set_ylabel('Temperature ($^{\\circ}$F)', size=20)\n",
      "ax1.set_xlabel('Date (MJD)', size=18) \n",
      "ax1.set_ylabel('Value (Dollars)', size=18)\n",
      "t.set_y(1.02) # move title up a little\n",
      "\n",
      "# Format axes, ticks & labels\n",
      "ax1.axis([48800, 55600, -20, 780])\n",
      "ax2.set_ylim(bottom=-150, top=100)\n",
      "ax1.xaxis.tick_bottom() # remove ticks at top\n",
      "plt.setp(ax1.get_xticklabels(), fontsize=14)\n",
      "plt.setp(ax1.get_yticklabels(), fontsize=14)\n",
      "plt.setp(ax2.get_yticklabels(), fontsize=14)\n",
      "ax1.tick_params('both', width=2, length=10, which='major')\n",
      "ax2.tick_params('both', width=2, length=10, which='major')\n",
      "ax1.xaxis.set_minor_locator(AutoMinorLocator())\n",
      "ax1.yaxis.set_minor_locator(AutoMinorLocator())\n",
      "ax2.yaxis.set_minor_locator(AutoMinorLocator())\n",
      "ax1.tick_params(which='minor', width=1, length=5)\n",
      "ax2.tick_params(which='minor', width=1, length=5)\n",
      "[i.set_linewidth(2) for i in ax1.spines.itervalues()]\n",
      "\n",
      "# Render and format legend\n",
      "ax1.lines.extend(ax2.lines) # add for legend\n",
      "l = ax1.legend(bbox_to_anchor=(0.33, 0.6), prop={'size':14})\n",
      "l.draw_frame(False) # no box\n",
      "f1.tight_layout()\n",
      "\n",
      "plt.savefig('stocks_matplotlib.png', dpi=150) # Save the figure"
     ],
     "language": "python",
     "metadata": {},
     "outputs": [],
     "prompt_number": 68
    }
   ],
   "metadata": {}
  }
 ]
}