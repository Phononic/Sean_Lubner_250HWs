{
 "metadata": {
  "name": ""
 },
 "nbformat": 3,
 "nbformat_minor": 0,
 "worksheets": [
  {
   "cells": [
    {
     "cell_type": "code",
     "collapsed": false,
     "input": [
      "import numpy as np\n",
      "import matplotlib.pyplot as plt\n",
      "%matplotlib inline"
     ],
     "language": "python",
     "metadata": {},
     "outputs": [],
     "prompt_number": 70
    },
    {
     "cell_type": "code",
     "collapsed": false,
     "input": [
      "# import the data\n",
      "ice = np.loadtxt('ice_data.txt')\n",
      "agar = np.loadtxt('agar_data.txt')\n",
      "water = np.loadtxt('water_data.txt')"
     ],
     "language": "python",
     "metadata": {},
     "outputs": [],
     "prompt_number": 37
    },
    {
     "cell_type": "code",
     "collapsed": false,
     "input": [
      "# Generate the initial plot (figure, axes, lines)\n",
      "f1, ax1 = plt.subplots()         # we manually make a figure and axis\n",
      "water_line, = ax1.plot(water[:,0], water[:,1], c='k', label='H$_{2}$0 (Ref)')  # it's the axis who plots\n",
      "ice_line, = ax1.plot(ice[:,0], ice[:,1], label='Ice, 2 mm')  # it's the axis who plots\n",
      "agar_line, = ax1.plot(agar[:,0], agar[:,1], label='Agar Gel, 3 mm')  # it's the axis who plots\n",
      "ax1.set_title('Measured Thermal Conductivities: Water and Agar Gel')       # we set the title on the axis\n",
      "ax1.set_xlabel('Temperature, T ($^{\\circ}$C)')             # same with labels\n",
      "ax1.set_ylabel('Thermal Conductivity, k (W/m-K)')\n",
      "ax1.axis([-30, 35, 0, 4])\n",
      "ax1.set_yticks([0,1,2,3,4])\n",
      "ax1.yaxis.tick_left() # remove ticks at right\n",
      "ax1.xaxis.tick_bottom() # remove ticks at top\n",
      "\n",
      "\n",
      "# Format the lines\n",
      "plt.setp(agar_line, ls=\"none\", marker='^', ms=8, mfc='lightgreen', mew=1.5, mec='green')\n",
      "plt.setp(ice_line, ls=\"none\", marker='s', ms=8, mfc='lightblue', mew=1.5, mec='blue')\n",
      "\n",
      "# Render and format legend\n",
      "l = ax1.legend([ice_line, agar_line, water_line], # control order of legend\n",
      "               [ice_line.get_label(), agar_line.get_label(), water_line.get_label()], \n",
      "               bbox_to_anchor=(1,0.9)) # control location of legend\n",
      "l.draw_frame(False) # no box\n",
      "plt.savefig('python_fig.pdf')"
     ],
     "language": "python",
     "metadata": {},
     "outputs": [
      {
       "metadata": {},
       "output_type": "display_data",
       "png": "[encoded data removed]",
       "text": [
        "<matplotlib.figure.Figure at 0x1085c4690>"
       ]
      }
     ],
     "prompt_number": 125
    },
    {
     "cell_type": "code",
     "collapsed": false,
     "input": [
      "plt.setp(ax1)"
     ],
     "language": "python",
     "metadata": {},
     "outputs": [
      {
       "output_type": "stream",
       "stream": "stdout",
       "text": [
        "  adjustable: [ 'box' | 'datalim' | 'box-forced']         \n",
        "  agg_filter: unknown\n",
        "  alpha: float (0.0 transparent through 1.0 opaque)         \n",
        "  anchor: unknown\n",
        "  animated: [True | False]         \n",
        "  aspect: unknown\n",
        "  autoscale_on: unknown\n",
        "  autoscalex_on: unknown\n",
        "  autoscaley_on: unknown\n",
        "  axes: an :class:`~matplotlib.axes.Axes` instance         \n",
        "  axes_locator: unknown\n",
        "  axis_bgcolor: any matplotlib color - see         :func:`~matplotlib.pyplot.colors`         \n",
        "  axis_off: unknown\n",
        "  axis_on: unknown\n",
        "  axisbelow: [ *True* | *False* ]         \n",
        "  clip_box: a :class:`matplotlib.transforms.Bbox` instance         \n",
        "  clip_on: [True | False]         \n",
        "  clip_path: [ (:class:`~matplotlib.path.Path`,         :class:`~matplotlib.transforms.Transform`) |         :class:`~matplotlib.patches.Patch` | None ]         \n",
        "  color_cycle: unknown\n",
        "  contains: a callable function         \n",
        "  cursor_props: a (*float*, *color*) tuple         \n",
        "  figure: unknown\n",
        "  frame_on: [ *True* | *False* ]         \n",
        "  gid: an id string         \n",
        "  label: string or anything printable with '%s' conversion.         \n",
        "  lod: [True | False]         \n",
        "  navigate: [ *True* | *False* ]         \n",
        "  navigate_mode: unknown\n",
        "  picker: [None|float|boolean|callable]         \n",
        "  position: unknown\n",
        "  rasterization_zorder: unknown\n",
        "  rasterized: [True | False | None]         \n",
        "  snap: unknown\n",
        "  subplotspec: unknown\n",
        "  title: str\n",
        "  transform: :class:`~matplotlib.transforms.Transform` instance         \n",
        "  url: a url string         \n",
        "  visible: [True | False]         \n",
        "  xbound: unknown\n",
        "  xlabel: str\n",
        "  xlim: length 2 sequence of floats         \n",
        "  xmargin: unknown\n",
        "  xscale: ['linear' | 'log' | 'symlog']\n",
        "  xticklabels: sequence of strings\n",
        "  xticks: sequence of floats         \n",
        "  ybound: unknown\n",
        "  ylabel: str\n",
        "  ylim: length 2 sequence of floats         \n",
        "  ymargin: unknown\n",
        "  yscale: ['linear' | 'log' | 'symlog']\n",
        "  yticklabels: sequence of strings\n",
        "  yticks: sequence of floats\n",
        "  zorder: any number         \n"
       ]
      }
     ],
     "prompt_number": 115
    },
    {
     "cell_type": "code",
     "collapsed": false,
     "input": [],
     "language": "python",
     "metadata": {},
     "outputs": []
    }
   ],
   "metadata": {}
  }
 ]
}