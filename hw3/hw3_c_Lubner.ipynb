{
 "metadata": {
  "name": ""
 },
 "nbformat": 3,
 "nbformat_minor": 0,
 "worksheets": [
  {
   "cells": [
    {
     "cell_type": "code",
     "collapsed": false,
     "input": [
      "##### HW 3, problem 3 #####\n",
      "# Sean Lubner\n",
      "\n",
      "%matplotlib\n",
      "import matplotlib.pyplot as plt\n",
      "import numpy as np\n",
      "from matplotlib.patches import Rectangle\n"
     ],
     "language": "python",
     "metadata": {},
     "outputs": [
      {
       "output_type": "stream",
       "stream": "stdout",
       "text": [
        "Using matplotlib backend: MacOSX\n"
       ]
      }
     ],
     "prompt_number": 1
    },
    {
     "cell_type": "code",
     "collapsed": false,
     "input": [
      "# Load in data as record\n",
      "dt = [('slen',np.float64), ('swid',np.float64), ('plen',np.float64), \n",
      "      ('pwid',np.float64), ('species','S10') ]\n",
      "try:\n",
      "    flowers = np.loadtxt('hw_3_data/flowers.csv', dt, delimiter=',', skiprows=1).view(np.recarray)\n",
      "except ValueError:\n",
      "    print \"Data is not the right type, please reformat.\"\n",
      "    raise\n",
      "except:\n",
      "    print \"The data is not correctly formatted.\"\n",
      "    "
     ],
     "language": "python",
     "metadata": {},
     "outputs": [],
     "prompt_number": 2
    },
    {
     "cell_type": "code",
     "collapsed": false,
     "input": [
      "plt.close('all')\n",
      "\n",
      "# Set up figure\n",
      "ctable = {'setosa':'r','versicolor':'g','virginica':'b'} # color dictionary for plotting flowers\n",
      "fields = ['slen','swid','plen','pwid'] # iterate over fields\n",
      "fig, faxs = plt.subplots(4, 4, figsize=(15,10))\n",
      "fig.suptitle('Brushable Flower Data', fontsize=20)\n",
      "\n",
      "data_list=[]\n",
      "\n",
      "for i,ii in enumerate(fields):\n",
      "    for j,jj in enumerate(fields):\n",
      "        temp = faxs[j,i].scatter(flowers[ii][:], flowers[jj][:], c=[ctable[x] for x in flowers.species[:]],\n",
      "                           edgecolor='none', alpha=0.4, s=20)\n",
      "        data_list.append(temp)\n",
      "        if j < 3:\n",
      "            faxs[j,i].set_xticklabels([])\n",
      "        if i > 0:\n",
      "            faxs[j,i].set_yticklabels([])\n",
      "            \n",
      "# Labels\n",
      "faxs[0,0].annotate(\"Sepal Length\", xy=(0.07, .83),  xycoords='axes fraction', size=16)\n",
      "faxs[1,1].annotate(\"Sepal Width\", xy=(0.07, .83),  xycoords='axes fraction', size=16)\n",
      "faxs[2,2].annotate(\"Petal Length\", xy=(0.07, .83),  xycoords='axes fraction', size=16)\n",
      "faxs[3,3].annotate(\"Petal Width\", xy=(0.07, .83),  xycoords='axes fraction', size=16)\n"
     ],
     "language": "python",
     "metadata": {},
     "outputs": [
      {
       "metadata": {},
       "output_type": "pyout",
       "prompt_number": 39,
       "text": [
        "<matplotlib.text.Annotation at 0x11c467450>"
       ]
      }
     ],
     "prompt_number": 39
    },
    {
     "cell_type": "code",
     "collapsed": false,
     "input": [
      "# Setup rectangle selector\n",
      "class brusher(object):\n",
      "    \"\"\" Selector object lets a user easily click-and-drag to select & draw a rectangular region on a plot.\n",
      "    The object stores the different selections in a \"history\" list. \"\"\"\n",
      "#    history = [] # keep track of selections that user makes\n",
      "    def __init__(self, figure, data):\n",
      "        self.data = data\n",
      "        self.x0 = None\n",
      "        self.y0 = None\n",
      "        self.x1 = None\n",
      "        self.y1 = None\n",
      "        self.rect_drawing = None\n",
      "        figure.canvas.mpl_connect('button_press_event', self.on_press)\n",
      "        figure.canvas.mpl_connect('button_release_event', self.on_release)\n",
      "\n",
      "    def on_press(self, event):\n",
      "        self.ax = event.inaxes\n",
      "        self.x0 = event.xdata\n",
      "        self.y0 = event.ydata\n",
      "        self.marker, = self.ax.plot(self.x0, self.y0, 'ro') # guide for the eye during selection\n",
      "        self.ax.figure.canvas.draw()\n",
      "\n",
      "    def on_release(self, event):\n",
      "        if event.inaxes != self.ax:\n",
      "            return\n",
      "        self.marker.set_visible(False) # no longer need guide\n",
      "        if self.rect_drawing is not None:\n",
      "            self.rect_drawing.remove()\n",
      "        self.x1 = event.xdata\n",
      "        self.y1 = event.ydata\n",
      "        rec_width=(self.x1 - self.x0)\n",
      "        rec_height=(self.y1 - self.y0)\n",
      "        self.rect = Rectangle((self.x0,self.y0), rec_width, rec_height, alpha=0.3, fc='gray') # create rectangle\n",
      "        self.rect_drawing = self.ax.add_patch(self.rect)\n",
      "        self.ax.figure.canvas.draw()\n",
      "#        print \"\\nappending:\", self.x0, self.y0, self.x1, self.y1, self.ax\n",
      "#        brusher.history.append((self.x0, self.y0, self.x1, self.y1, self.ax))\n",
      "#        print \"\\nhistory is now:\", brusher.history\n",
      "    \n",
      "    def replot_selection(self):\n",
      "        fields = ['slen','swid','plen','pwid']\n",
      "        loc = np.where(faxs == self.ax)\n",
      "        y_series, x_series = loc[0][0], loc[1][0]\n",
      "        x_lims = [self.x0, self.x1]\n",
      "        y_lims = [self.y0, self.y1]\n",
      "        x_lims.sort()\n",
      "        y_lims.sort() # in case user selected region backward\n",
      "        selection_indicesx = [i for i, x in enumerate(self.data[x_series][:]) if (x >= x_lims[0]) and (x <= x_lims[1])]\n",
      "        selection_indicesy = [i for i, x in enumerate(self.data[y_series][:]) if (x >= y_lims[0]) and (x <= y_lims[1])]\n",
      "    \n",
      "#    def get_history(self):\n",
      "#        return brusher.history\n",
      "\n",
      "a = Selector(fig, flowers);"
     ],
     "language": "python",
     "metadata": {},
     "outputs": [
      {
       "output_type": "stream",
       "stream": "stdout",
       "text": [
        "\n",
        "appending: 4.01698924731 2.48328125 2.56279569892 <__main__.Selector object at 0x11cb3aed0> "
       ]
      },
      {
       "output_type": "stream",
       "stream": "stdout",
       "text": [
        "\n",
        "appending: 2.68215053763 3.565 5.76860215054 <__main__.Selector object at 0x11cb3aed0> "
       ]
      }
     ],
     "prompt_number": 43
    },
    {
     "cell_type": "code",
     "collapsed": false,
     "input": [
      "a = [1,4,2,5,6,3].sort()\n",
      "#a.sort()\n",
      "print 'hi', type(a)"
     ],
     "language": "python",
     "metadata": {},
     "outputs": [
      {
       "output_type": "stream",
       "stream": "stdout",
       "text": [
        "hi <type 'NoneType'>\n"
       ]
      }
     ],
     "prompt_number": 106
    },
    {
     "cell_type": "code",
     "collapsed": false,
     "input": [],
     "language": "python",
     "metadata": {},
     "outputs": [
      {
       "metadata": {},
       "output_type": "pyout",
       "prompt_number": 65,
       "text": [
        "False"
       ]
      }
     ],
     "prompt_number": 65
    },
    {
     "cell_type": "code",
     "collapsed": false,
     "input": [
      "class test(object):\n",
      "    counter = 0\n",
      "    def __init__(self, name):\n",
      "        self.name = name\n",
      "    \n",
      "    def get_name(self):\n",
      "        test.counter += 1\n",
      "        print \"You have asked for my name \" + str(test.counter) + \" times, it is:\", self.name\n",
      "    \n",
      "        "
     ],
     "language": "python",
     "metadata": {},
     "outputs": [],
     "prompt_number": 24
    },
    {
     "cell_type": "code",
     "collapsed": false,
     "input": [
      "a = test('sean')\n",
      "b = test('sean2')"
     ],
     "language": "python",
     "metadata": {},
     "outputs": [],
     "prompt_number": 25
    },
    {
     "cell_type": "code",
     "collapsed": false,
     "input": [
      "a.get_name()"
     ],
     "language": "python",
     "metadata": {},
     "outputs": [
      {
       "output_type": "stream",
       "stream": "stdout",
       "text": [
        "You have asked for my name 6 times, it is: sean\n"
       ]
      }
     ],
     "prompt_number": 31
    },
    {
     "cell_type": "code",
     "collapsed": false,
     "input": [
      "b.get_name()"
     ],
     "language": "python",
     "metadata": {},
     "outputs": [
      {
       "output_type": "stream",
       "stream": "stdout",
       "text": [
        "You have asked for my name 5 times, it is: sean2\n"
       ]
      }
     ],
     "prompt_number": 30
    },
    {
     "cell_type": "code",
     "collapsed": false,
     "input": [],
     "language": "python",
     "metadata": {},
     "outputs": []
    }
   ],
   "metadata": {}
  }
 ]
}