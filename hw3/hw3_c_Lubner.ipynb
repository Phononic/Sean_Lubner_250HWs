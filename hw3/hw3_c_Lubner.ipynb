{
 "metadata": {
  "name": ""
 },
 "nbformat": 3,
 "nbformat_minor": 0,
 "worksheets": [
  {
   "cells": [
    {
     "cell_type": "code",
     "collapsed": false,
     "input": [
      "##### HW 3, problem 3 #####\n",
      "# Sean Lubner\n",
      "\n",
      "%matplotlib\n",
      "import matplotlib.pyplot as plt\n",
      "import numpy as np\n",
      "from matplotlib.patches import Rectangle\n"
     ],
     "language": "python",
     "metadata": {},
     "outputs": [
      {
       "output_type": "stream",
       "stream": "stdout",
       "text": [
        "Using matplotlib backend: MacOSX\n"
       ]
      }
     ],
     "prompt_number": 183
    },
    {
     "cell_type": "code",
     "collapsed": false,
     "input": [
      "# Load in data as record\n",
      "dt = [('slen',np.float64), ('swid',np.float64), ('plen',np.float64), \n",
      "      ('pwid',np.float64), ('species','S10') ]\n",
      "try:\n",
      "    flowers = np.loadtxt('hw_3_data/flowers.csv', dt, delimiter=',', skiprows=1).view(np.recarray)\n",
      "except ValueError:\n",
      "    print \"Data is not the right type, please reformat.\"\n",
      "    raise\n",
      "except:\n",
      "    print \"The data is not correctly formatted.\"\n",
      "    "
     ],
     "language": "python",
     "metadata": {},
     "outputs": [],
     "prompt_number": 235
    },
    {
     "cell_type": "code",
     "collapsed": false,
     "input": [
      "plt.close('all')\n",
      "# Set up figure\n",
      "ctable = {'setosa':'r','versicolor':'g','virginica':'b'} # color dictionary for plotting flowers\n",
      "fields = ['slen','swid','plen','pwid'] # iterate over fields\n",
      "fig, faxes = plt.subplots(4, 4, figsize=(15,10))\n",
      "fig.suptitle('Brushable Flower Data')\n",
      "\n",
      "for i,ii in enumerate(fields):\n",
      "    for j,jj in enumerate(fields):\n",
      "        faxes[i,j].scatter(flowers[ii][:], flowers[jj][:], c=[ctable[x] for x in flowers.species[:]],\n",
      "                           edgecolor='none', alpha=0.4, s=20)\n",
      "\n",
      "for i,ii in enumerate(fields):\n",
      "    faxes[i,i].text(0.95, 0.01, ii,\n",
      "        verticalalignment='bottom', horizontalalignment='right',\n",
      "        transform=ax1.transAxes,\n",
      "        color='green', fontsize=15)"
     ],
     "language": "python",
     "metadata": {},
     "outputs": [],
     "prompt_number": 242
    },
    {
     "cell_type": "code",
     "collapsed": false,
     "input": [
      "plt.scatter?"
     ],
     "language": "python",
     "metadata": {},
     "outputs": [],
     "prompt_number": 239
    },
    {
     "cell_type": "code",
     "collapsed": false,
     "input": [
      "faxes[0,0].scatter"
     ],
     "language": "python",
     "metadata": {},
     "outputs": []
    },
    {
     "cell_type": "code",
     "collapsed": false,
     "input": [
      "fig, ax1 = plt.subplots()\n",
      "ax1.axis([0,10,0,100])\n",
      "class Annotate(object):\n",
      "    \"\"\" Annotate object lets a user easily click-and-drag to select & draw a rectangular region on a plot \"\"\"\n",
      "    selections = [] # keep track of selections that user makes\n",
      "    def __init__(self, axes):\n",
      "        self.ax = axes\n",
      "        self.x0 = None\n",
      "        self.y0 = None\n",
      "        self.x1 = None\n",
      "        self.y1 = None\n",
      "        self.rect_drawing = None\n",
      "        self.ax.figure.canvas.mpl_connect('button_press_event', self.on_press)\n",
      "        self.ax.figure.canvas.mpl_connect('button_release_event', self.on_release)\n",
      "\n",
      "    def on_press(self, event):\n",
      "        self.x0 = event.xdata\n",
      "        self.y0 = event.ydata\n",
      "        self.marker, = self.ax.plot(self.x0, self.y0, 'ro') # guide for the eye during selection\n",
      "        self.ax.figure.canvas.draw()\n",
      "\n",
      "    def on_release(self, event):\n",
      "        self.marker.set_visible(False) # no longer need guide\n",
      "        if self.rect_drawing is not None:\n",
      "            self.rect_drawing.remove()\n",
      "        self.x1 = event.xdata\n",
      "        self.y1 = event.ydata\n",
      "        rec_width=(self.x1 - self.x0)\n",
      "        rec_height=(self.y1 - self.y0)\n",
      "        self.rect = Rectangle((self.x0,self.y0), rec_width, rec_height, alpha=0.3, fc='gray') # create rectangle\n",
      "        self.rect_drawing = self.ax.add_patch(self.rect)\n",
      "        self.ax.figure.canvas.draw()\n",
      "        self.selections.append((self.x0, self.y0, rec_width, rec_height))\n",
      "    \n",
      "    def get_selections(self):\n",
      "        return self.selections\n",
      "\n",
      "Annotate(ax1);\n",
      "#plt.show()"
     ],
     "language": "python",
     "metadata": {},
     "outputs": []
    },
    {
     "cell_type": "code",
     "collapsed": false,
     "input": [
      "ax1.get_ylim()"
     ],
     "language": "python",
     "metadata": {},
     "outputs": [
      {
       "metadata": {},
       "output_type": "pyout",
       "prompt_number": 176,
       "text": [
        "(0.0, 100.0)"
       ]
      }
     ],
     "prompt_number": 176
    }
   ],
   "metadata": {}
  }
 ]
}