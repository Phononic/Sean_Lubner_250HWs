{
 "metadata": {
  "name": ""
 },
 "nbformat": 3,
 "nbformat_minor": 0,
 "worksheets": [
  {
   "cells": [
    {
     "cell_type": "code",
     "collapsed": false,
     "input": [
      "##### HW 3, problem 3 #####\n",
      "# Sean Lubner\n",
      "\n",
      "%matplotlib\n",
      "import matplotlib.pyplot as plt\n",
      "import numpy as np\n",
      "from matplotlib.patches import Rectangle\n"
     ],
     "language": "python",
     "metadata": {},
     "outputs": [
      {
       "output_type": "stream",
       "stream": "stdout",
       "text": [
        "Using matplotlib backend: MacOSX\n"
       ]
      }
     ],
     "prompt_number": 85
    },
    {
     "cell_type": "code",
     "collapsed": false,
     "input": [
      "# Load in data as record\n",
      "dt = [('slen',np.float64), ('swid',np.float64), ('plen',np.float64), \n",
      "      ('pwid',np.float64), ('species','S10') ]\n",
      "try:\n",
      "    flowers = np.loadtxt('hw_3_data/flowers.csv', dt, delimiter=',', skiprows=1).view(np.recarray)\n",
      "except ValueError:\n",
      "    print \"Data is not the right type, please reformat.\"\n",
      "    raise\n",
      "except:\n",
      "    print \"The data is not correctly formatted.\"\n",
      "    "
     ],
     "language": "python",
     "metadata": {},
     "outputs": [],
     "prompt_number": 86
    },
    {
     "cell_type": "code",
     "collapsed": false,
     "input": [
      "plt.close('all')\n",
      "\n",
      "# Set up figure\n",
      "ctable = {'setosa':'r','versicolor':'g','virginica':'b'} # color dictionary for plotting flowers\n",
      "fields = ['slen','swid','plen','pwid'] # iterate over fields\n",
      "fig, faxs = plt.subplots(4, 4, figsize=(15,10))\n",
      "fig.suptitle('Brushable Flower Data', fontsize=20)\n",
      "\n",
      "data_list=[]\n",
      "\n",
      "for i,ii in enumerate(fields):\n",
      "    for j,jj in enumerate(fields):\n",
      "        temp = faxs[j,i].scatter(flowers[ii][:], flowers[jj][:], c=[ctable[x] for x in flowers.species[:]],\n",
      "                           edgecolor='none', alpha=0.4, s=20)\n",
      "        data_list.append(temp)\n",
      "        if j < 3:\n",
      "            faxs[j,i].set_xticklabels([])\n",
      "        if i > 0:\n",
      "            faxs[j,i].set_yticklabels([])\n",
      "            \n",
      "# Labels\n",
      "faxs[0,0].annotate(\"Sepal Length\", xy=(0.07, .83),  xycoords='axes fraction', size=16)\n",
      "faxs[1,1].annotate(\"Sepal Width\", xy=(0.07, .83),  xycoords='axes fraction', size=16)\n",
      "faxs[2,2].annotate(\"Petal Length\", xy=(0.07, .83),  xycoords='axes fraction', size=16)\n",
      "faxs[3,3].annotate(\"Petal Width\", xy=(0.07, .83),  xycoords='axes fraction', size=16)"
     ],
     "language": "python",
     "metadata": {},
     "outputs": [
      {
       "output_type": "stream",
       "stream": "stdout",
       "text": [
        "\n",
        "now overlaying plots of brushed data\n"
       ]
      },
      {
       "metadata": {},
       "output_type": "pyout",
       "prompt_number": 147,
       "text": [
        "<matplotlib.text.Annotation at 0x14aeaef90>"
       ]
      }
     ],
     "prompt_number": 147
    },
    {
     "cell_type": "code",
     "collapsed": false,
     "input": [
      "# Setup rectangle selector\n",
      "class brusher(object):\n",
      "    \"\"\" Selector object lets a user easily click-and-drag to select & draw a rectangular region on a plot.\n",
      "    The object stores the different selections in a \"history\" list. \"\"\"\n",
      "#    history = [] # keep track of selections that user makes\n",
      "    def __init__(self, plot_figure, plot_axes, plot_data):\n",
      "        \"\"\" Initialize some variables, and connect event handlers \"\"\"\n",
      "        self.data = plot_data\n",
      "        self.fig = plot_figure\n",
      "        self.faxs = plot_axes\n",
      "        self.x0 = None\n",
      "        self.y0 = None\n",
      "        self.x1 = None\n",
      "        self.y1 = None\n",
      "        self.rect_drawing = None\n",
      "        self.fig.canvas.mpl_connect('button_press_event', self.on_press)\n",
      "        self.fig.canvas.mpl_connect('button_release_event', self.on_release)\n",
      "\n",
      "    def on_press(self, event):\n",
      "        \"\"\" grab the axes, coordinates, and lay a marker to guide the eye \"\"\"\n",
      "        self.ax = event.inaxes\n",
      "        self.x0 = event.xdata\n",
      "        self.y0 = event.ydata\n",
      "        self.marker, = self.ax.plot(self.x0, self.y0, 'ro') # guide for the eye during selection\n",
      "        self.ax.figure.canvas.draw()\n",
      "\n",
      "    def on_release(self, event):\n",
      "        \"\"\" Draw the rectangle and call replot_selection() to isolate the brushed data \"\"\"\n",
      "        if event.inaxes != self.ax:\n",
      "            return\n",
      "        self.marker.set_visible(False) # no longer need guide\n",
      "        if self.rect_drawing is not None:\n",
      "            self.rect_drawing.remove()\n",
      "        self.x1 = event.xdata\n",
      "        self.y1 = event.ydata\n",
      "        rec_width=(self.x1 - self.x0)\n",
      "        rec_height=(self.y1 - self.y0)\n",
      "        self.rect = Rectangle((self.x0,self.y0), rec_width, rec_height, alpha=0.3, fc='gray') # create rectangle\n",
      "        self.rect_drawing = self.ax.add_patch(self.rect)\n",
      "        self.ax.figure.canvas.draw()\n",
      "        self.replot_selection()\n",
      "#        print \"\\nappending:\", self.x0, self.y0, self.x1, self.y1, self.ax\n",
      "#        brusher.history.append((self.x0, self.y0, self.x1, self.y1, self.ax))\n",
      "#        print \"\\nhistory is now:\", brusher.history\n",
      "\n",
      "    def replot_selection(self):\n",
      "        \"\"\" pulls out the data within the selection, and replots it \"\"\"\n",
      "        fields = ['slen','swid','plen','pwid']\n",
      "        loc = np.where(faxs == self.ax)\n",
      "        y_series, x_series = fields[loc[0][0]], fields[loc[1][0]]\n",
      "#        y_seires, x_series = 1, 2\n",
      "        x_lims = [self.x0, self.x1]\n",
      "        y_lims = [self.y0, self.y1]\n",
      "        x_lims.sort()\n",
      "        y_lims.sort() # in case user selected region backwards\n",
      "        selection_indicesx = [i for i, x in enumerate(self.data[x_series][:]) if (x >= x_lims[0]) and (x <= x_lims[1])]\n",
      "        selection_indicesy = [i for i, x in enumerate(self.data[y_series][:]) if (x >= y_lims[0]) and (x <= y_lims[1])]\n",
      "        selection_indices = list(set(selection_indicesx).intersection(set(selection_indicesy)))\n",
      "#        print \"\\nx,y\", x_series, y_series\n",
      "#        print \"\\nattempt 1\", self.ax\n",
      "#        print \"\\nattempt 2\", self.faxs[x_series,y_series]\n",
      "        #self.faxs[0,0].scatter(self.data['slen'][selection_indices], self.data['slen'][selection_indices], c='k', s=20)\n",
      "        self.plot_points(selection_indices)\n",
      "        self.fig.canvas.draw()\n",
      "        \n",
      "    def plot_points(self, points, dull_out=True):\n",
      "        self.brushed_data=[] # initialize\n",
      "        [a.remove() for a in self.brushed_data] # wipe out previous brushing if it exists\n",
      "        \n",
      "        if dull_out == True:\n",
      "            [a.set_color('gray') for a in data_list] # gray out everything\n",
      "            [a.set_alpha(0.1) for a in data_list] # Fade more\n",
      "            \n",
      "        ctable = {'setosa':'r','versicolor':'g','virginica':'b'} # color dictionary for plotting flowers\n",
      "        fields = ['slen','swid','plen','pwid'] # iterate over fields\n",
      "        \n",
      "        for i,ii in enumerate(fields):\n",
      "            for j,jj in enumerate(fields):\n",
      "                #self.faxs[j,i].scatter(self.data[ii][points], self.data[jj][points], c='k', s=20)\n",
      "                temp = self.faxs[j,i].scatter(self.data[ii][points], self.data[jj][points],\n",
      "                                              c=[ctable[x] for x in flowers.species[points]],\n",
      "                                              edgecolor='none', alpha=0.4, s=20)\n",
      "                self.brushed_data.append(temp)\n",
      "                \n",
      "    def get_brushed_data(self):\n",
      "        return self.brushed_data\n",
      "                   \n",
      "#    def get_history(self):\n",
      "#        return brusher.history\n",
      "\n",
      "a = brusher(fig, faxs, flowers);"
     ],
     "language": "python",
     "metadata": {},
     "outputs": [
      {
       "output_type": "stream",
       "stream": "stdout",
       "text": [
        "now dulling out all background points\n",
        "now overlaying plots of brushed data\n",
        "now dulling out all background points"
       ]
      },
      {
       "output_type": "stream",
       "stream": "stdout",
       "text": [
        "\n",
        "now overlaying plots of brushed data\n",
        "now dulling out all background points"
       ]
      }
     ],
     "prompt_number": 148
    },
    {
     "cell_type": "code",
     "collapsed": false,
     "input": [
      "#[a.set_color('gray') for a in data_list]\n",
      "a = data_list[0]\n",
      "#a.set_color('gray')\n",
      "#fig.canvas.draw()\n",
      "a.remove"
     ],
     "language": "python",
     "metadata": {},
     "outputs": [],
     "prompt_number": 72
    },
    {
     "cell_type": "code",
     "collapsed": false,
     "input": [
      "test = fig.get_axes()\n",
      "print test\n",
      "print faxs"
     ],
     "language": "python",
     "metadata": {},
     "outputs": [
      {
       "output_type": "stream",
       "stream": "stdout",
       "text": [
        "[<matplotlib.axes.AxesSubplot object at 0x1355ab710>, <matplotlib.axes.AxesSubplot object at 0x136da29d0>, <matplotlib.axes.AxesSubplot object at 0x136dbde90>, <matplotlib.axes.AxesSubplot object at 0x136da60d0>, <matplotlib.axes.AxesSubplot object at 0x136df5590>, <matplotlib.axes.AxesSubplot object at 0x136f148d0>, <matplotlib.axes.AxesSubplot object at 0x136dfde10>, <matplotlib.axes.AxesSubplot object at 0x136f47e50>, <matplotlib.axes.AxesSubplot object at 0x136f6a1d0>, <matplotlib.axes.AxesSubplot object at 0x136f52d10>, <matplotlib.axes.AxesSubplot object at 0x136f9e790>, <matplotlib.axes.AxesSubplot object at 0x136fbdad0>, <matplotlib.axes.AxesSubplot object at 0x136fa5fd0>, <matplotlib.axes.AxesSubplot object at 0x136ff50d0>, <matplotlib.axes.AxesSubplot object at 0x138014410>, <matplotlib.axes.AxesSubplot object at 0x136ffb190>]\n",
        "[[<matplotlib.axes.AxesSubplot object at 0x1355ab710>\n",
        "  <matplotlib.axes.AxesSubplot object at 0x136da29d0>\n",
        "  <matplotlib.axes.AxesSubplot object at 0x136dbde90>\n",
        "  <matplotlib.axes.AxesSubplot object at 0x136da60d0>]\n",
        " [<matplotlib.axes.AxesSubplot object at 0x136df5590>\n",
        "  <matplotlib.axes.AxesSubplot object at 0x136f148d0>\n",
        "  <matplotlib.axes.AxesSubplot object at 0x136dfde10>\n",
        "  <matplotlib.axes.AxesSubplot object at 0x136f47e50>]\n",
        " [<matplotlib.axes.AxesSubplot object at 0x136f6a1d0>\n",
        "  <matplotlib.axes.AxesSubplot object at 0x136f52d10>\n",
        "  <matplotlib.axes.AxesSubplot object at 0x136f9e790>\n",
        "  <matplotlib.axes.AxesSubplot object at 0x136fbdad0>]\n",
        " [<matplotlib.axes.AxesSubplot object at 0x136fa5fd0>\n",
        "  <matplotlib.axes.AxesSubplot object at 0x136ff50d0>\n",
        "  <matplotlib.axes.AxesSubplot object at 0x138014410>\n",
        "  <matplotlib.axes.AxesSubplot object at 0x136ffb190>]]\n"
       ]
      }
     ],
     "prompt_number": 112
    },
    {
     "cell_type": "code",
     "collapsed": false,
     "input": [
      "class test(object):\n",
      "    counter = 0\n",
      "    def __init__(self, name):\n",
      "        self.name = name\n",
      "    \n",
      "    def get_name(self):\n",
      "        test.counter += 1\n",
      "        print \"You have asked for my name \" + str(test.counter) + \" times, it is:\", self.name\n",
      "    \n",
      "        "
     ],
     "language": "python",
     "metadata": {},
     "outputs": [],
     "prompt_number": 24
    },
    {
     "cell_type": "code",
     "collapsed": false,
     "input": [
      "a = test('sean')\n",
      "b = test('sean2')"
     ],
     "language": "python",
     "metadata": {},
     "outputs": [],
     "prompt_number": 25
    },
    {
     "cell_type": "code",
     "collapsed": false,
     "input": [
      "a.get_name()"
     ],
     "language": "python",
     "metadata": {},
     "outputs": [
      {
       "output_type": "stream",
       "stream": "stdout",
       "text": [
        "You have asked for my name 6 times, it is: sean\n"
       ]
      }
     ],
     "prompt_number": 31
    },
    {
     "cell_type": "code",
     "collapsed": false,
     "input": [
      "b.get_name()"
     ],
     "language": "python",
     "metadata": {},
     "outputs": [
      {
       "output_type": "stream",
       "stream": "stdout",
       "text": [
        "You have asked for my name 5 times, it is: sean2\n"
       ]
      }
     ],
     "prompt_number": 30
    },
    {
     "cell_type": "code",
     "collapsed": false,
     "input": [],
     "language": "python",
     "metadata": {},
     "outputs": []
    }
   ],
   "metadata": {}
  }
 ]
}