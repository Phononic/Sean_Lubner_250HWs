{
 "metadata": {
  "name": ""
 },
 "nbformat": 3,
 "nbformat_minor": 0,
 "worksheets": [
  {
   "cells": [
    {
     "cell_type": "code",
     "collapsed": false,
     "input": [
      "##### HW 3, problem 3 #####\n",
      "# Sean Lubner\n",
      "\n",
      "%matplotlib\n",
      "import matplotlib.pyplot as plt\n",
      "import numpy as np\n",
      "from matplotlib.patches import Rectangle\n"
     ],
     "language": "python",
     "metadata": {},
     "outputs": [
      {
       "output_type": "stream",
       "stream": "stdout",
       "text": [
        "Using matplotlib backend: MacOSX\n"
       ]
      }
     ],
     "prompt_number": 1
    },
    {
     "cell_type": "code",
     "collapsed": false,
     "input": [
      "# Load in data as record\n",
      "dt = [('slen',np.float64), ('swid',np.float64), ('plen',np.float64), \n",
      "      ('pwid',np.float64), ('species','S10') ]\n",
      "try:\n",
      "    flowers = np.loadtxt('hw_3_data/flowers.csv', dt, delimiter=',', skiprows=1).view(np.recarray)\n",
      "except ValueError:\n",
      "    print \"Data is not the right type, please reformat.\"\n",
      "    raise\n",
      "except:\n",
      "    print \"The data is not correctly formatted.\"\n",
      "    "
     ],
     "language": "python",
     "metadata": {},
     "outputs": [],
     "prompt_number": 2
    },
    {
     "cell_type": "code",
     "collapsed": false,
     "input": [
      "plt.close('all')\n",
      "\n",
      "# Set up figure\n",
      "ctable = {'setosa':'r','versicolor':'g','virginica':'b'} # color dictionary for plotting flowers\n",
      "fields = ['slen','swid','plen','pwid'] # iterate over fields\n",
      "fig, faxs = plt.subplots(4, 4, figsize=(15,10))\n",
      "fig.suptitle('Brushable Flower Data', fontsize=20)\n",
      "\n",
      "for i,ii in enumerate(fields):\n",
      "    for j,jj in enumerate(fields):\n",
      "        faxs[j,i].scatter(flowers[ii][:], flowers[jj][:], c=[ctable[x] for x in flowers.species[:]],\n",
      "                           edgecolor='none', alpha=0.4, s=20)\n",
      "        if j < 3:\n",
      "            faxs[j,i].set_xticklabels([])\n",
      "        if i > 0:\n",
      "            faxs[j,i].set_yticklabels([])\n",
      "            \n",
      "# Labels\n",
      "faxs[0,0].annotate(\"Sepal Length\", xy=(0.07, .83),  xycoords='axes fraction', size=16)\n",
      "faxs[1,1].annotate(\"Sepal Width\", xy=(0.07, .83),  xycoords='axes fraction', size=16)\n",
      "faxs[2,2].annotate(\"Petal Length\", xy=(0.07, .83),  xycoords='axes fraction', size=16)\n",
      "faxs[3,3].annotate(\"Petal Width\", xy=(0.07, .83),  xycoords='axes fraction', size=16)\n"
     ],
     "language": "python",
     "metadata": {},
     "outputs": [
      {
       "output_type": "stream",
       "stream": "stdout",
       "text": [
        "\n",
        "==========\n"
       ]
      },
      {
       "metadata": {},
       "output_type": "pyout",
       "prompt_number": 5,
       "text": [
        "<matplotlib.text.Annotation at 0x11a584710>"
       ]
      }
     ],
     "prompt_number": 5
    },
    {
     "cell_type": "code",
     "collapsed": false,
     "input": [
      "#plt.close('all')\n",
      "#fig2, ax = plt.subplots()\n",
      "#ax.axis([0,10,0,20])\n",
      "class Annotate(object):\n",
      "    \"\"\" Annotate object lets a user easily click-and-drag to select & draw a rectangular region on a plot \"\"\"\n",
      "    selections = [] # keep track of selections that user makes\n",
      "    def __init__(self, figure):\n",
      "#        self.ax = None\n",
      "        self.x0 = None\n",
      "        self.y0 = None\n",
      "        self.x1 = None\n",
      "        self.y1 = None\n",
      "        self.rect_drawing = None\n",
      "        figure.canvas.mpl_connect('button_press_event', self.on_press)\n",
      "        figure.canvas.mpl_connect('button_release_event', self.on_release)\n",
      "\n",
      "    def on_press(self, event):\n",
      "        self.ax = event.inaxes\n",
      "        self.x0 = event.xdata\n",
      "        self.y0 = event.ydata\n",
      "        self.marker, = self.ax.plot(self.x0, self.y0, 'ro') # guide for the eye during selection\n",
      "        self.ax.figure.canvas.draw()\n",
      "\n",
      "    def on_release(self, event):\n",
      "        self.marker.set_visible(False) # no longer need guide\n",
      "        if self.rect_drawing is not None:\n",
      "            self.rect_drawing.remove()\n",
      "        self.x1 = event.xdata\n",
      "        self.y1 = event.ydata\n",
      "        rec_width=(self.x1 - self.x0)\n",
      "        rec_height=(self.y1 - self.y0)\n",
      "        self.rect = Rectangle((self.x0,self.y0), rec_width, rec_height, alpha=0.3, fc='gray') # create rectangle\n",
      "        self.rect_drawing = self.ax.add_patch(self.rect)\n",
      "        self.ax.figure.canvas.draw()\n",
      "        self.selections.append((self.x0, self.y0, rec_width, rec_height))\n",
      "    \n",
      "    def get_selections(self):\n",
      "        return self.selections\n",
      "\n",
      "Annotate(fig);\n",
      "#plt.show()"
     ],
     "language": "python",
     "metadata": {},
     "outputs": [
      {
       "metadata": {},
       "output_type": "pyout",
       "prompt_number": 6,
       "text": [
        "<__main__.Annotate at 0x11a715710>"
       ]
      }
     ],
     "prompt_number": 6
    },
    {
     "cell_type": "code",
     "collapsed": false,
     "input": [
      "type(fig)"
     ],
     "language": "python",
     "metadata": {},
     "outputs": [
      {
       "metadata": {},
       "output_type": "pyout",
       "prompt_number": 14,
       "text": [
        "matplotlib.figure.Figure"
       ]
      }
     ],
     "prompt_number": 14
    },
    {
     "cell_type": "code",
     "collapsed": false,
     "input": [
      "plt.close('all')\n",
      "fig3, ax = plt.subplots()\n",
      "ax.plot(np.random.rand(10))\n",
      "\n",
      "storage = None\n",
      "\n",
      "def onclick(event):\n",
      "    print 'button=%d, x=%d, y=%d, xdata=%f, ydata=%f'%(\n",
      "        event.button, event.x, event.y, event.xdata, event.ydata)\n",
      "    print event\n",
      "    print storage\n",
      "    storage = event\n",
      "    print \"and now\"\n",
      "    print storage\n",
      "\n",
      "cid = fig3.canvas.mpl_connect('button_press_event', onclick) #\"matplotlib_connect\""
     ],
     "language": "python",
     "metadata": {},
     "outputs": [
      {
       "output_type": "stream",
       "stream": "stdout",
       "text": [
        "button=1, x=379, y=173, xdata=5.425403, ydata=0.292969\n",
        "MPL MouseEvent: xy=(379,173) xydata=(5.42540322581,0.29296875) button=1 dblclick=0 inaxes=Axes(0.125,0.1;0.775x0.8)\n",
        "button=1, x=299, y=217, xdata=3.973790, ydata=0.396094"
       ]
      },
      {
       "output_type": "stream",
       "stream": "stdout",
       "text": [
        "\n",
        "MPL MouseEvent: xy=(299,217) xydata=(3.97379032258,0.39609375) button=1 dblclick=0 inaxes=Axes(0.125,0.1;0.775x0.8)\n",
        "button=1, x=169, y=136, xdata=1.614919, ydata=0.206250"
       ]
      },
      {
       "output_type": "stream",
       "stream": "stdout",
       "text": [
        "\n",
        "MPL MouseEvent: xy=(169,136) xydata=(1.61491935484,0.20625) button=1 dblclick=0 inaxes=Axes(0.125,0.1;0.775x0.8)\n",
        "button=1, x=268, y=259, xdata=3.411290, ydata=0.494531"
       ]
      },
      {
       "output_type": "stream",
       "stream": "stdout",
       "text": [
        "\n",
        "MPL MouseEvent: xy=(268,259) xydata=(3.41129032258,0.49453125) button=1 dblclick=0 inaxes=Axes(0.125,0.1;0.775x0.8)\n",
        "button=1, x=354, y=327, xdata=4.971774, ydata=0.653906"
       ]
      }
     ],
     "prompt_number": 40
    },
    {
     "cell_type": "code",
     "collapsed": false,
     "input": [
      "type(storage)"
     ],
     "language": "python",
     "metadata": {},
     "outputs": [
      {
       "metadata": {},
       "output_type": "pyout",
       "prompt_number": 39,
       "text": [
        "NoneType"
       ]
      }
     ],
     "prompt_number": 39
    },
    {
     "cell_type": "code",
     "collapsed": false,
     "input": [
      "%loadpy figure_axes_enter_leave.py"
     ],
     "language": "python",
     "metadata": {},
     "outputs": [
      {
       "output_type": "stream",
       "stream": "stdout",
       "text": [
        "\n",
        "MPL MouseEvent: xy=(354,327) xydata=(4.97177419355,0.65390625) button=1 dblclick=0 inaxes=Axes(0.125,0.1;0.775x0.8)\n"
       ]
      }
     ],
     "prompt_number": 41
    },
    {
     "cell_type": "code",
     "collapsed": false,
     "input": [],
     "language": "python",
     "metadata": {},
     "outputs": []
    }
   ],
   "metadata": {}
  }
 ]
}