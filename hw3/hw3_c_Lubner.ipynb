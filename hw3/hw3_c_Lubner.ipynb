{
 "metadata": {
  "name": ""
 },
 "nbformat": 3,
 "nbformat_minor": 0,
 "worksheets": [
  {
   "cells": [
    {
     "cell_type": "code",
     "collapsed": false,
     "input": [
      "##### HW 3, problem 3 #####\n",
      "# Sean Lubner\n",
      "\n",
      "%matplotlib\n",
      "import matplotlib.pyplot as plt\n",
      "import numpy as np\n",
      "from matplotlib.patches import Rectangle"
     ],
     "language": "python",
     "metadata": {},
     "outputs": [
      {
       "output_type": "stream",
       "stream": "stdout",
       "text": [
        "Using matplotlib backend: MacOSX\n"
       ]
      }
     ],
     "prompt_number": 68
    },
    {
     "cell_type": "code",
     "collapsed": false,
     "input": [
      "# Load in data as record\n",
      "plt.close('all')\n",
      "dt = [('slen',np.float64), ('swid',np.float64), ('plen',np.float64), \n",
      "      ('pwid',np.float64), ('species','S10') ]\n",
      "flowers = np.loadtxt('hw_3_data/flowers.csv', dt, delimiter=',', skiprows=1).view(np.recarray)\n",
      "\n",
      "# Set up figure\n",
      "#fig, faxes = plt.subplots(4, 4, figsize=(15,10))\n",
      "fig, ax1 = plt.subplots()\n",
      "ax1.axis([0,10,0,100])\n",
      "class Annotate(object):\n",
      "    \"\"\" Annotate object lets a user easily click-and-drag to select & draw a rectangular region on a plot \"\"\"\n",
      "    selections = [] # keep track of selections that user makes\n",
      "    def __init__(self, axes):\n",
      "        self.ax = axes\n",
      "        #self.rect = Rectangle((0,0), 1, 1, alpha=0.3, fc='gray') # initialize rectangle\n",
      "        self.x0 = None\n",
      "        self.y0 = None\n",
      "        self.x1 = None\n",
      "        self.y1 = None\n",
      "        self.rect_drawing = None\n",
      "        self.ax.figure.canvas.mpl_connect('button_press_event', self.on_press)\n",
      "        self.ax.figure.canvas.mpl_connect('button_release_event', self.on_release)\n",
      "\n",
      "    def on_press(self, event):\n",
      "        self.x0 = event.xdata\n",
      "        self.y0 = event.ydata\n",
      "        self.marker, = self.ax.plot(self.x0, self.y0, 'ro') # guide for the eye during selection\n",
      "        self.ax.figure.canvas.draw()\n",
      "\n",
      "    def on_release(self, event):\n",
      "        self.marker.set_visible(False) # no longer need guide\n",
      "        if self.rect_drawing is not None:\n",
      "            self.rect_drawing.remove()\n",
      "        self.x1 = event.xdata\n",
      "        self.y1 = event.ydata\n",
      "        rec_width=(self.x1 - self.x0)\n",
      "        rec_height=(self.y1 - self.y0)\n",
      "        self.rect = Rectangle((self.x0,self.y0), rec_width, rec_height, alpha=0.3, fc='gray') # create rectangle\n",
      "        self.rect_drawing = self.ax.add_patch(self.rect)\n",
      "        self.ax.figure.canvas.draw()\n",
      "        self.selections.append((self.x0, self.y0, rec_width, rec_height))\n",
      "    \n",
      "    def get_selections():\n",
      "        return self.selections()\n",
      "\n",
      "a = Annotate(ax1)\n",
      "plt.show()"
     ],
     "language": "python",
     "metadata": {},
     "outputs": [],
     "prompt_number": 159
    },
    {
     "cell_type": "code",
     "collapsed": false,
     "input": [
      "test=ax1.add_patch(Rectangle((0,0),5,5))\n",
      "test.set_alpha(0.1)\n",
      "ax1.figure.canvas.draw()\n",
      "#test.remove()\n",
      "ax1.figure.canvas.draw()"
     ],
     "language": "python",
     "metadata": {},
     "outputs": [],
     "prompt_number": 148
    },
    {
     "cell_type": "code",
     "collapsed": false,
     "input": [],
     "language": "python",
     "metadata": {},
     "outputs": []
    }
   ],
   "metadata": {}
  }
 ]
}