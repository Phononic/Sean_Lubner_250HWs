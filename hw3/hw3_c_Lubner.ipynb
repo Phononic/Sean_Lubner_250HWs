{
 "metadata": {
  "name": ""
 },
 "nbformat": 3,
 "nbformat_minor": 0,
 "worksheets": [
  {
   "cells": [
    {
     "cell_type": "code",
     "collapsed": false,
     "input": [
      "##### HW 3, problem 3 #####\n",
      "# Sean Lubner\n",
      "\n",
      "%matplotlib\n",
      "import matplotlib.pyplot as plt\n",
      "import numpy as np\n",
      "from matplotlib.patches import Rectangle\n"
     ],
     "language": "python",
     "metadata": {},
     "outputs": [
      {
       "output_type": "stream",
       "stream": "stdout",
       "text": [
        "Using matplotlib backend: MacOSX\n"
       ]
      }
     ],
     "prompt_number": 1
    },
    {
     "cell_type": "code",
     "collapsed": false,
     "input": [
      "# Load in data as record\n",
      "dt = [('slen',np.float64), ('swid',np.float64), ('plen',np.float64), \n",
      "      ('pwid',np.float64), ('species','S10') ]\n",
      "try:\n",
      "    flowers = np.loadtxt('hw_3_data/flowers.csv', dt, delimiter=',', skiprows=1).view(np.recarray)\n",
      "except ValueError:\n",
      "    print \"Data is not the right type, please reformat.\"\n",
      "    raise\n",
      "except:\n",
      "    print \"The data is not correctly formatted.\"\n",
      "    "
     ],
     "language": "python",
     "metadata": {},
     "outputs": [],
     "prompt_number": 2
    },
    {
     "cell_type": "code",
     "collapsed": false,
     "input": [
      "plt.close('all')\n",
      "\n",
      "# Set up figure\n",
      "ctable = {'setosa':'r','versicolor':'g','virginica':'b'} # color dictionary for plotting flowers\n",
      "fields = ['slen','swid','plen','pwid'] # iterate over fields\n",
      "fig, faxs = plt.subplots(4, 4, figsize=(15,10))\n",
      "fig.suptitle('Brushable Flower Data', fontsize=20)\n",
      "\n",
      "for i,ii in enumerate(fields):\n",
      "    for j,jj in enumerate(fields):\n",
      "        faxs[j,i].scatter(flowers[ii][:], flowers[jj][:], c=[ctable[x] for x in flowers.species[:]],\n",
      "                           edgecolor='none', alpha=0.4, s=20)\n",
      "        if j < 3:\n",
      "            faxs[j,i].set_xticklabels([])\n",
      "        if i > 0:\n",
      "            faxs[j,i].set_yticklabels([])\n",
      "            \n",
      "# Labels\n",
      "faxs[0,0].annotate(\"Sepal Length\", xy=(0.07, .83),  xycoords='axes fraction', size=16)\n",
      "faxs[1,1].annotate(\"Sepal Width\", xy=(0.07, .83),  xycoords='axes fraction', size=16)\n",
      "faxs[2,2].annotate(\"Petal Length\", xy=(0.07, .83),  xycoords='axes fraction', size=16)\n",
      "faxs[3,3].annotate(\"Petal Width\", xy=(0.07, .83),  xycoords='axes fraction', size=16)\n"
     ],
     "language": "python",
     "metadata": {},
     "outputs": [
      {
       "metadata": {},
       "output_type": "pyout",
       "prompt_number": 10,
       "text": [
        "<matplotlib.text.Annotation at 0x11bbae590>"
       ]
      }
     ],
     "prompt_number": 10
    },
    {
     "cell_type": "code",
     "collapsed": false,
     "input": [
      "\n",
      "class Annotate(object):\n",
      "    \"\"\" Annotate object lets a user easily click-and-drag to select & draw a rectangular region on a plot \"\"\"\n",
      "    selections = [] # keep track of selections that user makes\n",
      "    def __init__(self, figure):\n",
      "#        self.ax = None\n",
      "        self.x0 = None\n",
      "        self.y0 = None\n",
      "        self.x1 = None\n",
      "        self.y1 = None\n",
      "        self.rect_drawing = None\n",
      "        figure.canvas.mpl_connect('button_press_event', self.on_press)\n",
      "        figure.canvas.mpl_connect('button_release_event', self.on_release)\n",
      "\n",
      "    def on_press(self, event):\n",
      "        print event.inaxis\n",
      "        self.ax = event.inaxis\n",
      "        self.x0 = event.xdata\n",
      "        self.y0 = event.ydata\n",
      "        self.marker, = self.ax.plot(self.x0, self.y0, 'ro') # guide for the eye during selection\n",
      "        self.ax.figure.canvas.draw()\n",
      "\n",
      "    def on_release(self, event):\n",
      "        self.marker.set_visible(False) # no longer need guide\n",
      "        if self.rect_drawing is not None:\n",
      "            self.rect_drawing.remove()\n",
      "        self.x1 = event.xdata\n",
      "        self.y1 = event.ydata\n",
      "        rec_width=(self.x1 - self.x0)\n",
      "        rec_height=(self.y1 - self.y0)\n",
      "        self.rect = Rectangle((self.x0,self.y0), rec_width, rec_height, alpha=0.3, fc='gray') # create rectangle\n",
      "        self.rect_drawing = self.ax.add_patch(self.rect)\n",
      "        self.ax.figure.canvas.draw()\n",
      "        self.selections.append((self.x0, self.y0, rec_width, rec_height))\n",
      "    \n",
      "    def get_selections(self):\n",
      "        return self.selections\n",
      "\n",
      "Annotate(fig);\n",
      "#plt.show()"
     ],
     "language": "python",
     "metadata": {},
     "outputs": [
      {
       "metadata": {},
       "output_type": "pyout",
       "prompt_number": 12,
       "text": [
        "<__main__.Annotate at 0x11c915550>"
       ]
      }
     ],
     "prompt_number": 12
    },
    {
     "cell_type": "code",
     "collapsed": false,
     "input": [
      "ax1.get_ylim()"
     ],
     "language": "python",
     "metadata": {},
     "outputs": [
      {
       "metadata": {},
       "output_type": "pyout",
       "prompt_number": 176,
       "text": [
        "(0.0, 100.0)"
       ]
      }
     ],
     "prompt_number": 176
    }
   ],
   "metadata": {}
  }
 ]
}