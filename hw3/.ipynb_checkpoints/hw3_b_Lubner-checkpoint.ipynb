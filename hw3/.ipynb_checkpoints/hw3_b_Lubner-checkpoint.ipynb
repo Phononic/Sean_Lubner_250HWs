{
 "metadata": {
  "name": ""
 },
 "nbformat": 3,
 "nbformat_minor": 0,
 "worksheets": [
  {
   "cells": [
    {
     "cell_type": "code",
     "collapsed": false,
     "input": [
      "##### HW 3, problem 2 #####\n",
      "# Sean Lubner\n",
      "\n",
      "import numpy as np\n",
      "import matplotlib.pyplot as plt\n",
      "%matplotlib inline\n",
      "\n",
      "# import the data\n",
      "google = np.loadtxt('hw_3_data/google_data.txt', skiprows=1)\n",
      "ny = np.loadtxt('hw_3_data/ny_temps.txt', skiprows=1)\n",
      "yahoo = np.loadtxt('hw_3_data/yahoo_data.txt', skiprows=1)"
     ],
     "language": "python",
     "metadata": {},
     "outputs": [],
     "prompt_number": 4
    },
    {
     "cell_type": "code",
     "collapsed": false,
     "input": [
      "# Generate the initial plot (figure, axes, lines)\n",
      "f1, ax1 = plt.subplots()         \n",
      "f1.set_size_inches(11.2,8.56)\n",
      "yahoo_line, = ax1.plot(yahoo[:,0], yahoo[:,1], c='purple', label='Yahoo! Stock Value') \n",
      "google_line, = ax1.plot(google[:,0], google[:,1], c='blue', label='Google Stock Value')  \n",
      "ny_line, = ax1.plot(ny[:,0], ny[:,1], c='red', label='NY Mon. High Temp')  \n",
      "ax1.set_title('Measured Thermal Conductivities: Water and \\nAgar Gel', size=20, fontweight='bold')      \n",
      "ax1.set_xlabel('Temperature, T ($^{\\circ}$C)', size=18, fontweight='bold') \n",
      "ax1.set_ylabel('Thermal Conductivity, k (W/m-K)', size=18, fontweight='bold')\n",
      "\n",
      "# Format ticks, axes & labels\n",
      "ax1.axis([-30, 35, 0, 4])\n",
      "ax1.set_yticks([0,1,2,3,4])\n",
      "ax1.yaxis.tick_left() # remove ticks at right\n",
      "ax1.xaxis.tick_bottom() # remove ticks at top\n",
      "plt.setp(ax1.get_xticklabels(), fontsize=14, weight='bold')\n",
      "plt.setp(ax1.get_yticklabels(), fontsize=14, weight='bold')\n",
      "ax1.tick_params('both', width=2, which='major')\n",
      "\n",
      "\n",
      "# Format the lines\n",
      "plt.setp(agar_line, ls=\"none\", marker='^', ms=11, mfc='lightgreen', mew=1.5, mec='green')\n",
      "plt.setp(ice_line, ls=\"none\", marker='s', ms=11, mfc='lightblue', mew=1.5, mec='blue')\n",
      "\n",
      "# Render and format legend\n",
      "l = ax1.legend([ice_line, agar_line, water_line], # control order of legend\n",
      "               [ice_line.get_label(), agar_line.get_label(), water_line.get_label()], \n",
      "               bbox_to_anchor=(0.98,0.8),\n",
      "               prop={'size':18}) # control location of legend\n",
      "l.draw_frame(False) # no box\n",
      "\n",
      "# Add in \"a\" label\n",
      "plt.annotate(\"a\", weight='bold', xy=(0.1, .9),  xycoords='axes fraction', size=42, va='center',\n",
      "             bbox=dict(fc='white', ec='black', lw=2, pad=20))\n",
      "\n",
      "plt.savefig('WaterAgarFigure_matplotlib.pdf') # Save the figure"
     ],
     "language": "python",
     "metadata": {},
     "outputs": []
    }
   ],
   "metadata": {}
  }
 ]
}